{
 "cells": [
  {
   "cell_type": "markdown",
   "metadata": {},
   "source": [
    "# <span style=\"color:#4D77CF; font-family: Helvetica; font-size: 200%; font-weight:700\"> Numpy | <span style=\"font-size: 50%; font-weight:300\">Sort, Search & Count</span>"
   ]
  },
  {
   "cell_type": "markdown",
   "metadata": {},
   "source": [
    "To use numpy in python import it first by using the following command:"
   ]
  },
  {
   "cell_type": "code",
   "execution_count": 2,
   "metadata": {},
   "outputs": [],
   "source": [
    "# import numpy\n",
    "import numpy as np"
   ]
  },
  {
   "cell_type": "markdown",
   "metadata": {},
   "source": [
    "<br>"
   ]
  },
  {
   "cell_type": "markdown",
   "metadata": {},
   "source": [
    "## Sorting Function"
   ]
  },
  {
   "cell_type": "markdown",
   "metadata": {},
   "source": [
    "- There are a wide variety of sorting functions in NumPy. \n",
    "- These sorting functions implement different sorting algorithms, each of them characterized by \n",
    "    - speed of execution\n",
    "    - worst case performance\n",
    "    - workspace required\n",
    "    - stability"
   ]
  },
  {
   "cell_type": "markdown",
   "metadata": {},
   "source": [
    "|     kind    | speed |  worst case | work space | stable |\n",
    "|:-----------:|:-----:|:-----------:|:----------:|:------:|\n",
    "| ‘quicksort’ |   1   |    O(n^2)   |      0     |   no   |\n",
    "| ‘mergesort’ |   2   | O(n*log(n)) |    ~n/2    |   yes  |\n",
    "|  ‘heapsort’ |   3   | O(n*log(n)) |      0     |   no   |"
   ]
  },
  {
   "cell_type": "markdown",
   "metadata": {},
   "source": [
    "### sort()"
   ]
  },
  {
   "cell_type": "markdown",
   "metadata": {},
   "source": [
    "The sort() function returns a sorted copy of the input array. "
   ]
  },
  {
   "cell_type": "markdown",
   "metadata": {},
   "source": [
    "```python\n",
    "numpy.sort(a, axis, kind, order)\n",
    "```"
   ]
  },
  {
   "cell_type": "markdown",
   "metadata": {},
   "source": [
    "| Operation | Description                                                                                               |\n",
    "|:---------:|-----------------------------------------------------------------------------------------------------------|\n",
    "|     a     | Array to be sorted                                                                                        |\n",
    "|    axis   | The axis along which the array is to be sorted. If none, the array is flattened, sorting on the last axis |\n",
    "|    kind   | Default is quicksort                                                                                      |\n",
    "|   order   | If the array contains fields, the order of fields to be sorted                                            |"
   ]
  },
  {
   "cell_type": "code",
   "execution_count": 15,
   "metadata": {},
   "outputs": [],
   "source": [
    "# create simple 2D array\n",
    "a = np.array([[3,7],[9,1]])\n",
    "\n",
    "# create multiple datatype array\n",
    "dt = np.dtype([('name', 'S10'),('age', int)]) \n",
    "b = np.array([(\"raju\",21),(\"anil\",25),(\"ravi\", 17), (\"amar\",27)], dtype = dt) "
   ]
  },
  {
   "cell_type": "code",
   "execution_count": 16,
   "metadata": {},
   "outputs": [
    {
     "data": {
      "text/plain": [
       "array([[3, 7],\n",
       "       [9, 1]])"
      ]
     },
     "execution_count": 16,
     "metadata": {},
     "output_type": "execute_result"
    }
   ],
   "source": [
    "a"
   ]
  },
  {
   "cell_type": "code",
   "execution_count": 17,
   "metadata": {},
   "outputs": [
    {
     "data": {
      "text/plain": [
       "array([(b'raju', 21), (b'anil', 25), (b'ravi', 17), (b'amar', 27)],\n",
       "      dtype=[('name', 'S10'), ('age', '<i4')])"
      ]
     },
     "execution_count": 17,
     "metadata": {},
     "output_type": "execute_result"
    }
   ],
   "source": [
    "b"
   ]
  },
  {
   "cell_type": "code",
   "execution_count": 11,
   "metadata": {},
   "outputs": [
    {
     "name": "stdout",
     "output_type": "stream",
     "text": [
      "[[3 7]\n",
      " [1 9]]\n"
     ]
    }
   ],
   "source": [
    "# sort array without axis\n",
    "print(np.sort(a))"
   ]
  },
  {
   "cell_type": "code",
   "execution_count": 14,
   "metadata": {},
   "outputs": [
    {
     "name": "stdout",
     "output_type": "stream",
     "text": [
      "[[3 1]\n",
      " [9 7]]\n"
     ]
    }
   ],
   "source": [
    "# sort array along axis = 0\n",
    "print(np.sort(a, axis=0))"
   ]
  },
  {
   "cell_type": "code",
   "execution_count": 18,
   "metadata": {},
   "outputs": [
    {
     "name": "stdout",
     "output_type": "stream",
     "text": [
      "[(b'amar', 27) (b'anil', 25) (b'raju', 21) (b'ravi', 17)]\n"
     ]
    }
   ],
   "source": [
    "# order parameter in sort function \n",
    "print(np.sort(b, order='name'))"
   ]
  },
  {
   "cell_type": "markdown",
   "metadata": {},
   "source": [
    "### argsort()"
   ]
  },
  {
   "cell_type": "markdown",
   "metadata": {},
   "source": [
    "- This function returns the indices of the sorted array.\n",
    "- It can be performed along axis"
   ]
  },
  {
   "cell_type": "markdown",
   "metadata": {},
   "source": [
    "```python\n",
    "\n",
    "```"
   ]
  },
  {
   "cell_type": "code",
   "execution_count": 22,
   "metadata": {},
   "outputs": [
    {
     "name": "stdout",
     "output_type": "stream",
     "text": [
      "[[0 1]\n",
      " [1 0]]\n"
     ]
    }
   ],
   "source": [
    "# argsort array\n",
    "x = np.argsort(a)\n",
    "print(x)"
   ]
  },
  {
   "cell_type": "code",
   "execution_count": 23,
   "metadata": {},
   "outputs": [
    {
     "data": {
      "text/plain": [
       "array([[[3, 7],\n",
       "        [9, 1]],\n",
       "\n",
       "       [[9, 1],\n",
       "        [3, 7]]])"
      ]
     },
     "execution_count": 23,
     "metadata": {},
     "output_type": "execute_result"
    }
   ],
   "source": [
    "# reconstruct original array in sorted order\n",
    "a[x]"
   ]
  },
  {
   "cell_type": "code",
   "execution_count": 24,
   "metadata": {},
   "outputs": [
    {
     "name": "stdout",
     "output_type": "stream",
     "text": [
      "[[3 7]\n",
      " [9 1]]\n",
      "[[9 1]\n",
      " [3 7]]\n"
     ]
    }
   ],
   "source": [
    "# construct the original array using loop\n",
    "for i in x:\n",
    "    print(a[i])"
   ]
  },
  {
   "cell_type": "markdown",
   "metadata": {},
   "source": [
    "### lexsort()"
   ]
  },
  {
   "cell_type": "markdown",
   "metadata": {},
   "source": [
    "- This function performs an indirect sort using a sequence of keys. \n",
    "- The keys can be seen as a column in a spreadsheet. \n",
    "- The function returns an array of indices, using which the sorted data can be obtained. \n",
    "\n",
    "Note: that the last key happens to be the primary key of sort."
   ]
  },
  {
   "cell_type": "code",
   "execution_count": 28,
   "metadata": {},
   "outputs": [],
   "source": [
    "p = ('raju','anil','ravi','amar') \n",
    "q = ('a1', 'b2', 'c3', 'd4') "
   ]
  },
  {
   "cell_type": "code",
   "execution_count": 29,
   "metadata": {},
   "outputs": [
    {
     "name": "stdout",
     "output_type": "stream",
     "text": [
      "[3 1 0 2]\n"
     ]
    }
   ],
   "source": [
    "# lexsort() apply\n",
    "r = np.lexsort((q,p)) \n",
    "print(r)"
   ]
  },
  {
   "cell_type": "code",
   "execution_count": 30,
   "metadata": {},
   "outputs": [
    {
     "name": "stdout",
     "output_type": "stream",
     "text": [
      "['amar, d4', 'anil, b2', 'raju, a1', 'ravi, c3']\n"
     ]
    }
   ],
   "source": [
    "# use this index to get sorted data\n",
    "t = [p[i] + \", \" + q[i] for i in r]\n",
    "print(t)"
   ]
  },
  {
   "cell_type": "markdown",
   "metadata": {},
   "source": [
    "<br>"
   ]
  },
  {
   "cell_type": "markdown",
   "metadata": {},
   "source": [
    "Other sorting functions are:"
   ]
  },
  {
   "cell_type": "markdown",
   "metadata": {},
   "source": [
    "| Function       | Description                                                |\n",
    "|----------------|------------------------------------------------------------|\n",
    "| ndarraysort()  | It is for sorting an array in place.                       |\n",
    "| msort()        | It returns an array which sorted along the first axis      |\n",
    "| partition()    | It returns a copy of array partition.                      |\n",
    "| argpartition() | It returns the partition of an aray along a specific axis. |\n",
    "| sort_compex()  | It sorts the real and imaginary parts separately.          |"
   ]
  },
  {
   "cell_type": "markdown",
   "metadata": {},
   "source": [
    "## Search Function"
   ]
  },
  {
   "cell_type": "markdown",
   "metadata": {},
   "source": [
    "- To determine the position of a given element or value inside an array. \n",
    "- There are functions to find the maximum, minimum, or a value satisfying a particular condition. "
   ]
  },
  {
   "cell_type": "markdown",
   "metadata": {},
   "source": [
    "### argmin() & argmax()"
   ]
  },
  {
   "cell_type": "markdown",
   "metadata": {},
   "source": [
    "These two functions return the indices of minimum and maximum elements respectively along the given axis."
   ]
  },
  {
   "cell_type": "code",
   "execution_count": 31,
   "metadata": {},
   "outputs": [
    {
     "data": {
      "text/plain": [
       "array([[30, 40, 70],\n",
       "       [80, 20, 10],\n",
       "       [50, 90, 60]])"
      ]
     },
     "execution_count": 31,
     "metadata": {},
     "output_type": "execute_result"
    }
   ],
   "source": [
    "# create an array\n",
    "a = np.array([[30,40,70],[80,20,10],[50,90,60]]) \n",
    "a"
   ]
  },
  {
   "cell_type": "code",
   "execution_count": 35,
   "metadata": {},
   "outputs": [
    {
     "name": "stdout",
     "output_type": "stream",
     "text": [
      "argmin and argmax wihtout def axis  :  5  &  7\n",
      "argmin and argmax along with axis=0 :  [0 1 1]  &  [1 2 0]\n",
      "argmin and argmax along with axis=1 :  [0 2 0]  &  [2 0 1]\n"
     ]
    }
   ],
   "source": [
    "# argmin and argmax function\n",
    "print(\"argmin and argmax wihtout def axis  : \", np.argmin(a), \" & \", np.argmax(a))\n",
    "print(\"argmin and argmax along with axis=0 : \", np.argmin(a, axis=0), \" & \", np.argmax(a, axis=0))\n",
    "print(\"argmin and argmax along with axis=1 : \", np.argmin(a, axis=1), \" & \", np.argmax(a, axis=1))"
   ]
  },
  {
   "cell_type": "markdown",
   "metadata": {},
   "source": [
    "### nanargmin() & nanargmax()"
   ]
  },
  {
   "cell_type": "markdown",
   "metadata": {},
   "source": [
    "These function returns the index of the minimum and maximum elements respectively after ignoring ‘Not a Number’ (NaN) values present in the list."
   ]
  },
  {
   "cell_type": "code",
   "execution_count": 36,
   "metadata": {},
   "outputs": [
    {
     "data": {
      "text/plain": [
       "array([[74., nan, 59.],\n",
       "       [56., 98., nan]])"
      ]
     },
     "execution_count": 36,
     "metadata": {},
     "output_type": "execute_result"
    }
   ],
   "source": [
    "# create an array with NaN values in it\n",
    "a = np.array([[74,np.nan,59],[56,98,np.nan]])\n",
    "a"
   ]
  },
  {
   "cell_type": "code",
   "execution_count": 54,
   "metadata": {},
   "outputs": [
    {
     "name": "stdout",
     "output_type": "stream",
     "text": [
      "nanargmin and nanargmax wihtout def axis  :  1  &  6\n",
      "nanargmin and nanargmax along with axis=0 :  [1 0 1]  &  [2 2 0]\n",
      "nanargmin and nanargmax along with axis=1 :  [1 2 2]  &  [2 1 0]\n"
     ]
    }
   ],
   "source": [
    "# nanargmin and nanargmax function\n",
    "print(\"nanargmin and nanargmax wihtout def axis  : \", np.nanargmin(a), \" & \", np.nanargmax(a))\n",
    "print(\"nanargmin and nanargmax along with axis=0 : \", np.nanargmin(a, axis=0), \" & \", np.nanargmax(a, axis=0))\n",
    "print(\"nanargmin and nanargmax along with axis=1 : \", np.nanargmin(a, axis=1), \" & \", np.nanargmax(a, axis=1))"
   ]
  },
  {
   "cell_type": "markdown",
   "metadata": {},
   "source": [
    "### nonzero()"
   ]
  },
  {
   "cell_type": "markdown",
   "metadata": {},
   "source": [
    "This function returns the indices of non-zero elements in the input array."
   ]
  },
  {
   "cell_type": "code",
   "execution_count": 39,
   "metadata": {},
   "outputs": [
    {
     "data": {
      "text/plain": [
       "array([[30, 40,  0],\n",
       "       [ 0, 20, 10],\n",
       "       [50,  0, 60]])"
      ]
     },
     "execution_count": 39,
     "metadata": {},
     "output_type": "execute_result"
    }
   ],
   "source": [
    "# create an array with zero values in it\n",
    "a = np.array([[30,40,0],[0,20,10],[50,0,60]]) \n",
    "a"
   ]
  },
  {
   "cell_type": "code",
   "execution_count": 40,
   "metadata": {},
   "outputs": [
    {
     "name": "stdout",
     "output_type": "stream",
     "text": [
      "(array([0, 0, 1, 1, 2, 2], dtype=int64), array([0, 1, 1, 2, 0, 2], dtype=int64))\n"
     ]
    }
   ],
   "source": [
    "# apply nonzero function\n",
    "print(np.nonzero(a))"
   ]
  },
  {
   "cell_type": "markdown",
   "metadata": {},
   "source": [
    "### extract()"
   ]
  },
  {
   "cell_type": "markdown",
   "metadata": {},
   "source": [
    "This function returns the elements satisfying any condition."
   ]
  },
  {
   "cell_type": "code",
   "execution_count": 41,
   "metadata": {},
   "outputs": [
    {
     "data": {
      "text/plain": [
       "array([[0., 1., 2.],\n",
       "       [3., 4., 5.],\n",
       "       [6., 7., 8.]])"
      ]
     },
     "execution_count": 41,
     "metadata": {},
     "output_type": "execute_result"
    }
   ],
   "source": [
    "# create an array\n",
    "a = np.arange(9.).reshape(3, 3) \n",
    "a"
   ]
  },
  {
   "cell_type": "code",
   "execution_count": 48,
   "metadata": {},
   "outputs": [
    {
     "data": {
      "text/plain": [
       "array([[ True, False,  True],\n",
       "       [False,  True, False],\n",
       "       [ True, False,  True]])"
      ]
     },
     "execution_count": 48,
     "metadata": {},
     "output_type": "execute_result"
    }
   ],
   "source": [
    "# define a condition \n",
    "condition = np.mod(a,2) == 0 \n",
    "\n",
    "# element-wise value of condition\n",
    "condition"
   ]
  },
  {
   "cell_type": "code",
   "execution_count": 49,
   "metadata": {},
   "outputs": [
    {
     "data": {
      "text/plain": [
       "array([0., 2., 4., 6., 8.])"
      ]
     },
     "execution_count": 49,
     "metadata": {},
     "output_type": "execute_result"
    }
   ],
   "source": [
    "# extract elements using condition\n",
    "np.extract(condition, a)"
   ]
  },
  {
   "cell_type": "markdown",
   "metadata": {},
   "source": [
    "### where()"
   ]
  },
  {
   "cell_type": "markdown",
   "metadata": {},
   "source": [
    "This function returns the indices of elements in an input array where the given condition is satisfied."
   ]
  },
  {
   "cell_type": "code",
   "execution_count": 43,
   "metadata": {},
   "outputs": [
    {
     "data": {
      "text/plain": [
       "(array([1, 1, 2, 2, 2], dtype=int64), array([1, 2, 0, 1, 2], dtype=int64))"
      ]
     },
     "execution_count": 43,
     "metadata": {},
     "output_type": "execute_result"
    }
   ],
   "source": [
    "# indices of elements > 3\n",
    "b = np.where(a > 3)\n",
    "b"
   ]
  },
  {
   "cell_type": "code",
   "execution_count": 44,
   "metadata": {},
   "outputs": [
    {
     "data": {
      "text/plain": [
       "array([4., 5., 6., 7., 8.])"
      ]
     },
     "execution_count": 44,
     "metadata": {},
     "output_type": "execute_result"
    }
   ],
   "source": [
    "# use indices to get elements satisfying the condition\n",
    "a[b]"
   ]
  },
  {
   "cell_type": "markdown",
   "metadata": {},
   "source": [
    "<br>"
   ]
  },
  {
   "cell_type": "markdown",
   "metadata": {},
   "source": [
    "Other search functions are:"
   ]
  },
  {
   "cell_type": "markdown",
   "metadata": {},
   "source": [
    "| Function       | Description                                                                |\n",
    "|----------------|----------------------------------------------------------------------------|\n",
    "| argwhere()     | It is used to group elements having non-zero indices.                      |\n",
    "| flatnonzero()  | It returns a flattened array consisting of elements with non-zero indices. |\n",
    "| where()        | It returns elements following a condition.                                 |\n",
    "| searchsorted() | It returns indices of elements that are in sorted manner.                  |"
   ]
  },
  {
   "cell_type": "markdown",
   "metadata": {},
   "source": [
    "## Count Function"
   ]
  },
  {
   "cell_type": "markdown",
   "metadata": {},
   "source": [
    "To count a specific kind of value from the array list."
   ]
  },
  {
   "cell_type": "markdown",
   "metadata": {},
   "source": [
    "### count_nonzero()"
   ]
  },
  {
   "cell_type": "markdown",
   "metadata": {},
   "source": [
    "- This function returns the count of all the non-zero values from the array. \n",
    "- It can apply this function along a specific axis."
   ]
  },
  {
   "cell_type": "code",
   "execution_count": 51,
   "metadata": {},
   "outputs": [
    {
     "data": {
      "text/plain": [
       "array([[16,  0, 56],\n",
       "       [ 2, 34,  0],\n",
       "       [90, 87,  0]])"
      ]
     },
     "execution_count": 51,
     "metadata": {},
     "output_type": "execute_result"
    }
   ],
   "source": [
    "# create an array\n",
    "a = np.array([[16,0,56],[2,34,0],[90,87,0]])\n",
    "a"
   ]
  },
  {
   "cell_type": "code",
   "execution_count": 53,
   "metadata": {},
   "outputs": [
    {
     "name": "stdout",
     "output_type": "stream",
     "text": [
      "Count Non-Zero without def axis  :  6\n",
      "Count Non-Zero along with axis=0 :  [3 2 1]\n",
      "Count Non-Zero along with axis=1 :  [2 2 2]\n"
     ]
    }
   ],
   "source": [
    "print(\"Count Non-Zero without def axis  : \", np.count_nonzero(a))\n",
    "print(\"Count Non-Zero along with axis=0 : \", np.count_nonzero(a, axis=0))\n",
    "print(\"Count Non-Zero along with axis=1 : \", np.count_nonzero(a, axis=1))"
   ]
  }
 ],
 "metadata": {
  "kernelspec": {
   "display_name": "Python 3",
   "language": "python",
   "name": "python3"
  },
  "language_info": {
   "codemirror_mode": {
    "name": "ipython",
    "version": 3
   },
   "file_extension": ".py",
   "mimetype": "text/x-python",
   "name": "python",
   "nbconvert_exporter": "python",
   "pygments_lexer": "ipython3",
   "version": "3.8.5"
  }
 },
 "nbformat": 4,
 "nbformat_minor": 4
}
