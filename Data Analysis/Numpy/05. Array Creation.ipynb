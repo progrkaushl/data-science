{
 "cells": [
  {
   "cell_type": "markdown",
   "metadata": {},
   "source": [
    "# <span style=\"color:#4D77CF; font-family: Helvetica; font-size: 200%; font-weight:700\"> Numpy | <span style=\"font-size: 50%; font-weight:300\">Array Creation Routines</span>"
   ]
  },
  {
   "cell_type": "markdown",
   "metadata": {},
   "source": [
    "<br>"
   ]
  },
  {
   "cell_type": "markdown",
   "metadata": {},
   "source": [
    "To use numpy in python import it first by using the following command:"
   ]
  },
  {
   "cell_type": "code",
   "execution_count": 1,
   "metadata": {},
   "outputs": [],
   "source": [
    "# import numpy\n",
    "import numpy as np"
   ]
  },
  {
   "cell_type": "markdown",
   "metadata": {},
   "source": [
    "<br>"
   ]
  },
  {
   "cell_type": "markdown",
   "metadata": {},
   "source": [
    "There are various tools available in numpy to create an array. Following is the list of tools categories for array creation:"
   ]
  },
  {
   "cell_type": "markdown",
   "metadata": {},
   "source": [
    "1. Ones and zeros\n",
    "2. From existing data\n",
    "3. Creating record arrays\n",
    "4. Creating character arrays\n",
    "5. Numerical ranges\n",
    "6. Building matrices\n",
    "7. The Matrix class"
   ]
  },
  {
   "cell_type": "markdown",
   "metadata": {},
   "source": [
    "Major ones are 1. Ones & Zeros, 2. Existing Data and 3. Numerical Ranges"
   ]
  },
  {
   "cell_type": "markdown",
   "metadata": {},
   "source": [
    "<br>"
   ]
  },
  {
   "cell_type": "markdown",
   "metadata": {},
   "source": [
    "## <span style=\"color:#4D77CF\">Ones and Zeros</span>"
   ]
  },
  {
   "cell_type": "markdown",
   "metadata": {},
   "source": [
    "| Function       | Objective                                                    |\n",
    "| :-------------:| ------------------------------------------------------------ |\n",
    "| `empty()`      | Return a new array of given shape and type, without initializing entries. |\n",
    "| `eye()`        | Return a 2-D array with ones on the diagonal and zeros elsewhere. |\n",
    "| `identity()`   | Return the identity array.                                   |\n",
    "| `ones()`       | Return a new array of given shape and type, filled with ones. |\n",
    "| `zeros()`      | Return a new array of given shape and type, filled with zeros. |\n",
    "| `full()`       | Return a new array of given shape and type, filled with *fill_value*. |"
   ]
  },
  {
   "cell_type": "markdown",
   "metadata": {},
   "source": [
    "Note: `empty_like()`, `ones_like()`, `zeros_like()` and `full_like()` return an array with same shape and type as given array."
   ]
  },
  {
   "cell_type": "markdown",
   "metadata": {},
   "source": [
    "Following are the most common parameters for these methods:\n",
    "\n",
    "| Parameter | Description                                                  |\n",
    "| :-------: | ------------------------------------------------------------ |\n",
    "| **Shape** | Shape of an empty array in int or tuple of int               |\n",
    "| **Dtype** | Desired output data type. Optional                           |\n",
    "| **Order** | 'C' for C-style row-major array, 'F' for FORTRAN style column-major array |"
   ]
  },
  {
   "cell_type": "markdown",
   "metadata": {},
   "source": [
    "<br>"
   ]
  },
  {
   "cell_type": "code",
   "execution_count": 3,
   "metadata": {},
   "outputs": [],
   "source": [
    "# empty()"
   ]
  },
  {
   "cell_type": "code",
   "execution_count": 4,
   "metadata": {},
   "outputs": [
    {
     "data": {
      "text/plain": [
       "array([[-1350281296,         486],\n",
       "       [-1350281216,         486],\n",
       "       [ 2020176500,   542858024]])"
      ]
     },
     "execution_count": 4,
     "metadata": {},
     "output_type": "execute_result"
    }
   ],
   "source": [
    "## with C-style order\n",
    "empty_c = np.empty([3,2], dtype = int, order='C') \n",
    "empty_c"
   ]
  },
  {
   "cell_type": "code",
   "execution_count": 5,
   "metadata": {},
   "outputs": [
    {
     "data": {
      "text/plain": [
       "array([[-1462538208,           0],\n",
       "       [        486,           1],\n",
       "       [          0,   538976288]])"
      ]
     },
     "execution_count": 5,
     "metadata": {},
     "output_type": "execute_result"
    }
   ],
   "source": [
    "## with F-style order\n",
    "empty_F = np.empty([3,2], dtype = int, order='F') \n",
    "empty_F"
   ]
  },
  {
   "cell_type": "markdown",
   "metadata": {},
   "source": [
    "<br>"
   ]
  },
  {
   "cell_type": "code",
   "execution_count": 6,
   "metadata": {},
   "outputs": [],
   "source": [
    "# ones()"
   ]
  },
  {
   "cell_type": "code",
   "execution_count": 7,
   "metadata": {},
   "outputs": [
    {
     "data": {
      "text/plain": [
       "array([1., 1., 1., 1., 1.])"
      ]
     },
     "execution_count": 7,
     "metadata": {},
     "output_type": "execute_result"
    }
   ],
   "source": [
    "ones_r = np.ones(5, order='F')\n",
    "ones_r"
   ]
  },
  {
   "cell_type": "code",
   "execution_count": 8,
   "metadata": {},
   "outputs": [
    {
     "data": {
      "text/plain": [
       "array([1., 1., 1., 1., 1.])"
      ]
     },
     "execution_count": 8,
     "metadata": {},
     "output_type": "execute_result"
    }
   ],
   "source": [
    "ones_r_like = np.ones_like(ones_r)\n",
    "ones_r_like"
   ]
  },
  {
   "cell_type": "markdown",
   "metadata": {},
   "source": [
    "<br>"
   ]
  },
  {
   "cell_type": "code",
   "execution_count": 9,
   "metadata": {},
   "outputs": [],
   "source": [
    "# zeros()"
   ]
  },
  {
   "cell_type": "code",
   "execution_count": 10,
   "metadata": {},
   "outputs": [
    {
     "data": {
      "text/plain": [
       "array([0., 0., 0., 0., 0.])"
      ]
     },
     "execution_count": 10,
     "metadata": {},
     "output_type": "execute_result"
    }
   ],
   "source": [
    "zeros_r = np.zeros(5)\n",
    "zeros_r"
   ]
  },
  {
   "cell_type": "markdown",
   "metadata": {},
   "source": [
    "<br>"
   ]
  },
  {
   "cell_type": "markdown",
   "metadata": {},
   "source": [
    "## <span style=\"color:#4D77CF\">From Exisiting Data</span>"
   ]
  },
  {
   "cell_type": "markdown",
   "metadata": {},
   "source": [
    "|        Method         | Objective                                                    |\n",
    "| :-------------------: | ------------------------------------------------------------ |\n",
    "|       `array()`       | Create an array.                                             |\n",
    "|      `asarray()`      | Convert the input to an array.                               |\n",
    "|    `asanyarray()`     | Convert the input to an ndarray, but pass ndarray subclasses through. |\n",
    "| `ascontiguousarray()` | Return a contiguous array (ndim >= 1) in memory (C order).   |\n",
    "|     `asmatrix()`      | Interpret the input as a matrix.                             |\n",
    "|       `copy()`        | Return an array copy of the given object.                    |\n",
    "|    `frombuffer()`     | Interpret a buffer as a 1-dimensional array.                 |\n",
    "|     `fromfile()`      | Construct an array from data in a text or binary file.       |\n",
    "|   `fromfunction()`    | Construct an array by executing a function over each coordinate. |\n",
    "|     `fromiter()`      | Create a new 1-dimensional array from an iterable object.    |\n",
    "|    `fromstring()`     | A new 1-D array initialized from text data in a string.      |\n",
    "|      `loadtxt()`      | Load data from a text file.                                  |"
   ]
  },
  {
   "cell_type": "markdown",
   "metadata": {},
   "source": [
    "<br>"
   ]
  },
  {
   "cell_type": "code",
   "execution_count": 11,
   "metadata": {},
   "outputs": [
    {
     "name": "stdout",
     "output_type": "stream",
     "text": [
      "[[3 4 5]\n",
      " [6 7 8]]\n"
     ]
    }
   ],
   "source": [
    "# array()\n",
    "a = np.array([[3, 4, 5], [6, 7, 8]], np.int32)\n",
    "print(a)"
   ]
  },
  {
   "cell_type": "markdown",
   "metadata": {},
   "source": [
    "<br>"
   ]
  },
  {
   "cell_type": "code",
   "execution_count": 12,
   "metadata": {},
   "outputs": [],
   "source": [
    "# asarray()"
   ]
  },
  {
   "cell_type": "markdown",
   "metadata": {},
   "source": [
    "```python\n",
    "numpy.asarray(a, dtype = None, order = None)\n",
    "```"
   ]
  },
  {
   "cell_type": "markdown",
   "metadata": {},
   "source": [
    "| Parameter  | Objective                                              |\n",
    "| :--------: | :----------------------------------------------------- |\n",
    "| **a** | Input data in any form such as list, list of tuples, tuples, tuple of tuples or tuple of lists              |\n",
    "| **dtype**  | Data type of returned ndarray. Defaults to float       |\n",
    "| **order**  | C (row major) or F (column major). C is default|"
   ]
  },
  {
   "cell_type": "code",
   "execution_count": 13,
   "metadata": {},
   "outputs": [
    {
     "name": "stdout",
     "output_type": "stream",
     "text": [
      "[1 2 3]\n"
     ]
    }
   ],
   "source": [
    "x = [1,2,3] \n",
    "a = np.asarray(x) \n",
    "print(a)"
   ]
  },
  {
   "cell_type": "markdown",
   "metadata": {},
   "source": [
    "<br>"
   ]
  },
  {
   "cell_type": "code",
   "execution_count": 14,
   "metadata": {},
   "outputs": [],
   "source": [
    "# frombuffer()"
   ]
  },
  {
   "cell_type": "markdown",
   "metadata": {},
   "source": [
    "```python\n",
    "numpy.frombuffer(buffer, dtype = float, count = -1, offset = 0)\n",
    "```"
   ]
  },
  {
   "cell_type": "markdown",
   "metadata": {},
   "source": [
    "| Parameter  | Objective                                              |\n",
    "| :--------: | :----------------------------------------------------- |\n",
    "| **buffer** | Any object that exposes buffer interface               |\n",
    "| **dtype**  | Data type of returned ndarray. Defaults to float       |\n",
    "| **count**  | The number of items to read, default -1 means all data |\n",
    "| **offset** | The starting position to read from. Default is 0       |"
   ]
  },
  {
   "cell_type": "code",
   "execution_count": 15,
   "metadata": {},
   "outputs": [
    {
     "name": "stdout",
     "output_type": "stream",
     "text": [
      "[b'H' b'e' b'l' b'l' b'o' b' ' b'W' b'o' b'r' b'l' b'd']\n"
     ]
    }
   ],
   "source": [
    "x = b'Hello World' \n",
    "a = np.frombuffer(x, dtype=\"S1\") \n",
    "print(a)"
   ]
  },
  {
   "cell_type": "code",
   "execution_count": 16,
   "metadata": {},
   "outputs": [
    {
     "name": "stdout",
     "output_type": "stream",
     "text": [
      "[1 2]\n"
     ]
    }
   ],
   "source": [
    "b = np.frombuffer(b'\\x01\\x02', dtype=np.uint8)\n",
    "print(b)"
   ]
  },
  {
   "cell_type": "markdown",
   "metadata": {},
   "source": [
    "<br>"
   ]
  },
  {
   "cell_type": "code",
   "execution_count": 17,
   "metadata": {},
   "outputs": [],
   "source": [
    "# fromiter()"
   ]
  },
  {
   "cell_type": "markdown",
   "metadata": {},
   "source": [
    "```python\n",
    "numpy.fromiter(iterable, dtype, count = -1)\n",
    "```"
   ]
  },
  {
   "cell_type": "markdown",
   "metadata": {},
   "source": [
    "|  Parameter   | Objective                                              |\n",
    "| :----------: | :----------------------------------------------------- |\n",
    "| **iterable** | Any iterable object                                    |\n",
    "|  **dtype**   | Data type of returned ndarray. Defaults to float       |\n",
    "|  **count**   | The number of items to read, default -1 means all data |"
   ]
  },
  {
   "cell_type": "code",
   "execution_count": 18,
   "metadata": {},
   "outputs": [
    {
     "name": "stdout",
     "output_type": "stream",
     "text": [
      "[0. 1. 2. 3. 4.]\n"
     ]
    }
   ],
   "source": [
    "# create list object using range function \n",
    "list_x = range(5)\n",
    "\n",
    "# obtain iterator object from list \n",
    "it = iter(list_x)\n",
    "\n",
    "# use iterator to create ndarray \n",
    "a = np.fromiter(it, dtype = float)\n",
    "print(a)"
   ]
  },
  {
   "cell_type": "markdown",
   "metadata": {},
   "source": [
    "<br>"
   ]
  },
  {
   "cell_type": "markdown",
   "metadata": {},
   "source": [
    "## <span style=\"color:#4D77CF\">Numerical Ranges</span>"
   ]
  },
  {
   "cell_type": "markdown",
   "metadata": {},
   "source": [
    "|    Methods    | Objective                                                    |\n",
    "| :-----------: | ------------------------------------------------------------ |\n",
    "|  `arange()`   | Return evenly spaced values within a given interval.         |\n",
    "| `linspace()`  | Return evenly spaced numbers over a specified interval.      |\n",
    "| `logspace()`  | Return numbers spaced evenly on a log scale.                 |\n",
    "| `geomspace()` | Return numbers spaced evenly on a log scale (a geometric progression). |\n",
    "| `meshgrid()`  | Return coordinate matrices from coordinate vectors.          |\n",
    "|   `mgrid()`   | *nd_grid* instance which returns a dense multi-dimensional “meshgrid”. |\n",
    "|   `ogrid()`   | *nd_grid* instance which returns an open multi-dimensional “meshgrid”. |"
   ]
  },
  {
   "cell_type": "markdown",
   "metadata": {},
   "source": [
    "<br>"
   ]
  },
  {
   "cell_type": "code",
   "execution_count": 19,
   "metadata": {},
   "outputs": [],
   "source": [
    "# arrange()"
   ]
  },
  {
   "cell_type": "markdown",
   "metadata": {},
   "source": [
    "```python\n",
    "numpy.arange(start, stop, step, dtype)\n",
    "```"
   ]
  },
  {
   "cell_type": "markdown",
   "metadata": {},
   "source": [
    "| Parameter | Description                                                  |\n",
    "| :-------: | :----------------------------------------------------------- |\n",
    "| **start** | The start of an interval. If omitted, defaults to 0          |\n",
    "| **stop**  | The end of an interval (not including this number)           |\n",
    "| **step**  | Spacing between values, default is 1                         |\n",
    "| **dtype** | Data type of resulting ndarray. If not given, data type of input is used |"
   ]
  },
  {
   "cell_type": "code",
   "execution_count": 23,
   "metadata": {},
   "outputs": [
    {
     "data": {
      "text/plain": [
       "array([0, 1, 2, 3, 4])"
      ]
     },
     "execution_count": 23,
     "metadata": {},
     "output_type": "execute_result"
    }
   ],
   "source": [
    "x_int = np.arange(5)\n",
    "x_int"
   ]
  },
  {
   "cell_type": "code",
   "execution_count": 24,
   "metadata": {},
   "outputs": [
    {
     "data": {
      "text/plain": [
       "array([0., 1., 2., 3., 4.])"
      ]
     },
     "execution_count": 24,
     "metadata": {},
     "output_type": "execute_result"
    }
   ],
   "source": [
    "## dtype set \n",
    "x_float = np.arange(5, dtype=float)\n",
    "x_float"
   ]
  },
  {
   "cell_type": "code",
   "execution_count": 25,
   "metadata": {},
   "outputs": [
    {
     "data": {
      "text/plain": [
       "array([10, 12, 14, 16, 18])"
      ]
     },
     "execution_count": 25,
     "metadata": {},
     "output_type": "execute_result"
    }
   ],
   "source": [
    "## start and stop parameters set\n",
    "x_step = np.arange(10,20,2)\n",
    "x_step"
   ]
  },
  {
   "cell_type": "markdown",
   "metadata": {},
   "source": [
    "<br>"
   ]
  },
  {
   "cell_type": "code",
   "execution_count": 2,
   "metadata": {},
   "outputs": [],
   "source": [
    "# linspace()"
   ]
  },
  {
   "cell_type": "markdown",
   "metadata": {},
   "source": [
    "```python\n",
    "numpy.linspace(start, stop, num, endpoint, retstep, dtype)\n",
    "```"
   ]
  },
  {
   "cell_type": "markdown",
   "metadata": {},
   "source": [
    "|  Parameter   | Description                                                  |\n",
    "| :----------: | :----------------------------------------------------------- |\n",
    "|  **start**   | The starting value of the sequence                           |\n",
    "|   **stop**   | The end value of the sequence, included in the sequence if endpoint set to true |\n",
    "|   **num**    | The number of evenly spaced samples to be generated. Default is 50 |\n",
    "| **endpoint** | True by default, hence the stop value is included in the sequence. If false, it is not included |\n",
    "| **retstep**  | If true, returns samples and step between the consecutive numbers |\n",
    "|  **dtype**   | Data type of output **ndarray**                              |"
   ]
  },
  {
   "cell_type": "code",
   "execution_count": 4,
   "metadata": {},
   "outputs": [
    {
     "name": "stdout",
     "output_type": "stream",
     "text": [
      "[10.  12.5 15.  17.5 20. ]\n"
     ]
    }
   ],
   "source": [
    "x = np.linspace(10,20,5) \n",
    "print(x)"
   ]
  },
  {
   "cell_type": "code",
   "execution_count": 5,
   "metadata": {},
   "outputs": [
    {
     "name": "stdout",
     "output_type": "stream",
     "text": [
      "[10. 12. 14. 16. 18.]\n"
     ]
    }
   ],
   "source": [
    "# endpoint set to false \n",
    "\n",
    "x = np.linspace(10,20, 5, endpoint = False) \n",
    "print(x)"
   ]
  },
  {
   "cell_type": "code",
   "execution_count": 12,
   "metadata": {},
   "outputs": [
    {
     "name": "stdout",
     "output_type": "stream",
     "text": [
      "output is  :  (array([1.  , 1.25, 1.5 , 1.75, 2.  ]), 0.25)\n",
      "retspet is :  0.25\n"
     ]
    }
   ],
   "source": [
    "# find retstep value\n",
    "\n",
    "x = np.linspace(1,2,5, retstep = True) \n",
    "print(\"output is  : \", x)\n",
    "print(\"retspet is : \", x[1])"
   ]
  },
  {
   "cell_type": "code",
   "execution_count": null,
   "metadata": {},
   "outputs": [],
   "source": []
  },
  {
   "cell_type": "code",
   "execution_count": 13,
   "metadata": {},
   "outputs": [],
   "source": [
    "# logspace()"
   ]
  },
  {
   "cell_type": "markdown",
   "metadata": {},
   "source": [
    "```python\n",
    "numpy.logspace(start, stop, num, endpoint, base, dtype)\n",
    "```"
   ]
  },
  {
   "cell_type": "markdown",
   "metadata": {},
   "source": [
    "|  Parameter   | Description                                                  |\n",
    "| :----------: | :----------------------------------------------------------- |\n",
    "|  **start**   | The starting point of the sequence is basestart              |\n",
    "|   **stop**   | The final value of sequence is basestop                      |\n",
    "|   **num**    | The number of values between the range. Default is 50        |\n",
    "| **endpoint** | If true, stop is the last value in the range                 |\n",
    "|   **base**   | Base of log space, default is 10                             |\n",
    "|  **dtype**   | Data type of output array. If not given, it depends upon other input arguments |"
   ]
  },
  {
   "cell_type": "code",
   "execution_count": 15,
   "metadata": {},
   "outputs": [
    {
     "name": "stdout",
     "output_type": "stream",
     "text": [
      "[ 10.          12.91549665  16.68100537  21.5443469   27.82559402\n",
      "  35.93813664  46.41588834  59.94842503  77.42636827 100.        ]\n"
     ]
    }
   ],
   "source": [
    "# default base is 10 \n",
    "\n",
    "x = np.logspace(1.0, 2.0, num = 10) \n",
    "print(x)"
   ]
  },
  {
   "cell_type": "code",
   "execution_count": 16,
   "metadata": {},
   "outputs": [
    {
     "name": "stdout",
     "output_type": "stream",
     "text": [
      "[   2.    4.    8.   16.   32.   64.  128.  256.  512. 1024.]\n"
     ]
    }
   ],
   "source": [
    "# set base of log space to 2 \n",
    "\n",
    "x = np.logspace(1,10,num = 10, base = 2) \n",
    "print(x)"
   ]
  }
 ],
 "metadata": {
  "kernelspec": {
   "display_name": "Python 3",
   "language": "python",
   "name": "python3"
  },
  "language_info": {
   "codemirror_mode": {
    "name": "ipython",
    "version": 3
   },
   "file_extension": ".py",
   "mimetype": "text/x-python",
   "name": "python",
   "nbconvert_exporter": "python",
   "pygments_lexer": "ipython3",
   "version": "3.8.5"
  }
 },
 "nbformat": 4,
 "nbformat_minor": 4
}
