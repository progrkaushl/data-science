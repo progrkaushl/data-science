{
 "cells": [
  {
   "cell_type": "markdown",
   "metadata": {},
   "source": [
    "# <span style=\"color:#4D77CF; font-family: Helvetica; font-size: 200%; font-weight:700\"> Numpy | <span style=\"font-size: 50%; font-weight:300\">Statistical Functions</span>"
   ]
  },
  {
   "cell_type": "markdown",
   "metadata": {},
   "source": [
    "To use numpy in python import it first by using the following command:"
   ]
  },
  {
   "cell_type": "code",
   "execution_count": 2,
   "metadata": {},
   "outputs": [],
   "source": [
    "# import numpy\n",
    "import numpy as np"
   ]
  },
  {
   "cell_type": "markdown",
   "metadata": {},
   "source": [
    "| Functions          | Description                                                          |\n",
    "|--------------------|----------------------------------------------------------------------|\n",
    "| all()              | Test whether all array elements along a given axis evaluate to True. |\n",
    "| amin(), amax()     | Returns minimum and maximum elements in the array along the specified axis respectively. |\n",
    "| any()              | Test whether any array element along a given axis evaluates to True. |\n",
    "| argmin(), argmax() | Returns the indices of the minimum / maximum values along an axis    |\n",
    "| cumprod()          | Return the cumulative product of elements along a given axis.        |\n",
    "| cumsum()           | Return the cumulative sum of the elements along a given axis.        |\n",
    "| mean()             | Compute the arithmetic mean along the specified axis.                |\n",
    "| min(), max()       | Return the minimum / maximum of an array or minimum along an axis.   |\n",
    "| percentile()       | Returns nth percentile of the given data (array elements) along the specified axis.  |\n",
    "| prod()             | Return the product of array elements over a given axis.              |\n",
    "| ptp()              | Rturn the range of values along an axis.                             |\n",
    "| sum()              | Sum of array elements over a given axis.                             |\n",
    "| std()              | Compute the standard deviation along the specified axis.             |\n",
    "| var()              | Compute the variance along the specified axis.                       |"
   ]
  },
  {
   "cell_type": "code",
   "execution_count": 19,
   "metadata": {},
   "outputs": [
    {
     "data": {
      "text/plain": [
       "array([[10, 20, 30],\n",
       "       [40, 50, 60]])"
      ]
     },
     "execution_count": 19,
     "metadata": {},
     "output_type": "execute_result"
    }
   ],
   "source": [
    "# create an array\n",
    "a = np.array([[10, 20, 30], [40, 50, 60]])\n",
    "a"
   ]
  },
  {
   "cell_type": "code",
   "execution_count": 12,
   "metadata": {},
   "outputs": [
    {
     "name": "stdout",
     "output_type": "stream",
     "text": [
      "Mean :  35.0\n",
      "Std  :  17.07825127659933\n",
      "Var  :  291.6666666666667\n",
      "Sum  :  210\n",
      "Prod :  720000000\n"
     ]
    }
   ],
   "source": [
    "# important statistical functions - PART 1\n",
    "print(\"Mean : \", np.mean(a))\n",
    "print(\"Std  : \", np.std(a))\n",
    "print(\"Var  : \", np.var(a))\n",
    "print(\"Sum  : \", np.sum(a))\n",
    "print(\"Prod : \", np.prod(a))"
   ]
  },
  {
   "cell_type": "code",
   "execution_count": 23,
   "metadata": {},
   "outputs": [
    {
     "name": "stdout",
     "output_type": "stream",
     "text": [
      "min and max along axis=0        :  [10 20 30] & [40 50 60]\n",
      "amin and amax along axis=1      :  [10 40]    & [30 60]\n",
      "argmin and argmax along axis=1  :  [0 0]      & [2 2]\n"
     ]
    }
   ],
   "source": [
    "# important statistical functions - PART 2\n",
    "print(\"min and max along axis=0        : \", np.min(a, axis=0), '&', np.max(a, axis=0))\n",
    "print(\"amin and amax along axis=1      : \", np.amin(a, axis=1), '   &', np.amax(a, axis=1))\n",
    "print(\"argmin and argmax along axis=1  : \", np.argmin(a, axis=1), '     &', np.argmax(a, axis=1))"
   ]
  },
  {
   "cell_type": "code",
   "execution_count": 28,
   "metadata": {},
   "outputs": [
    {
     "name": "stdout",
     "output_type": "stream",
     "text": [
      "cumilative product along axis=1 : \n",
      " [[    10    200   6000]\n",
      " [    40   2000 120000]]\n",
      "cumilative sum along axis=1     : \n",
      " [[ 10  30  60]\n",
      " [ 40  90 150]]\n"
     ]
    }
   ],
   "source": [
    "# important statistical functions - PART 3\n",
    "print('cumilative product along axis=1 : \\n', np.cumprod(a, axis=1))\n",
    "print('cumilative sum along axis=1     : \\n', np.cumsum(a, axis=1))"
   ]
  },
  {
   "cell_type": "code",
   "execution_count": 32,
   "metadata": {},
   "outputs": [
    {
     "name": "stdout",
     "output_type": "stream",
     "text": [
      "75 percentile along axis=1 :  [25. 55.]\n",
      "Peek-to-peek along axis=1  :  [20 20]\n"
     ]
    }
   ],
   "source": [
    "# important statistical functions - PART 4\n",
    "print(\"75 percentile along axis=1 : \", np.percentile(a, 75, axis=1))\n",
    "print(\"Peek-to-peek along axis=1  : \", np.ptp(a, axis=1))"
   ]
  }
 ],
 "metadata": {
  "kernelspec": {
   "display_name": "Python 3",
   "language": "python",
   "name": "python3"
  },
  "language_info": {
   "codemirror_mode": {
    "name": "ipython",
    "version": 3
   },
   "file_extension": ".py",
   "mimetype": "text/x-python",
   "name": "python",
   "nbconvert_exporter": "python",
   "pygments_lexer": "ipython3",
   "version": "3.8.5"
  }
 },
 "nbformat": 4,
 "nbformat_minor": 4
}
