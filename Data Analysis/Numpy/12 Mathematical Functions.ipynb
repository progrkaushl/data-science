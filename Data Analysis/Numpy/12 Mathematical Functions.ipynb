{
 "cells": [
  {
   "cell_type": "markdown",
   "metadata": {},
   "source": [
    "# <span style=\"color:#4D77CF; font-family: Helvetica; font-size: 200%; font-weight:700\"> Numpy | <span style=\"font-size: 50%; font-weight:300\">Mathematical Functions</span>"
   ]
  },
  {
   "cell_type": "markdown",
   "metadata": {},
   "source": [
    "To use numpy in python import it first by using the following command:"
   ]
  },
  {
   "cell_type": "code",
   "execution_count": 2,
   "metadata": {},
   "outputs": [],
   "source": [
    "# import numpy\n",
    "import numpy as np"
   ]
  },
  {
   "cell_type": "markdown",
   "metadata": {},
   "source": [
    "## Mathematical Functions"
   ]
  },
  {
   "cell_type": "markdown",
   "metadata": {},
   "source": [
    "Numpy is written purely in C language. Hence, it’s mathematical functions are closely associated with functions present is math.h library in C."
   ]
  },
  {
   "cell_type": "markdown",
   "metadata": {},
   "source": [
    "### Arithmatic Functions"
   ]
  },
  {
   "cell_type": "markdown",
   "metadata": {},
   "source": [
    "| Function                | Description                                                                                                             |\n",
    "|-------------------------|-------------------------------------------------------------------------------------------------------------------------|\n",
    "| add(arr1, arr2,..)      | Add arrays element wise                                                                                                 |\n",
    "| divide(arr1,arr2)       | Divide arrays element wise                                                                                              |\n",
    "| divmod(arr1,arr2)       | Returns remainder and quotient after division elementwise                                                               |\n",
    "| float_power(arr1,arr2)  | Return the first array with its each of its elements raised to the power of elements in the second array (elementwise)  |\n",
    "| floor_divide(arr1,arr2) | Returns floor after dividing an array element wise                                                                      |\n",
    "| fmod(arr1,arr2)         | Returns floor of the remainder after division elementwise                                                               |\n",
    "| mod(arr1,arr2)          | Returns remainder after division elementwise                                                                            |\n",
    "| multiply(arr1,arr2,…)   | Multiply arrays element wise                                                                                            |\n",
    "| negative(arr)           | Returns numerical negative of elements of an array                                                                      |\n",
    "| power(arr1,arr2)        | Return the first array with its each of its elements raised to the power of elements in the second array (element wise) |\n",
    "| reciprocal(arr)         | Returns reciprocal of elements of the argument array                                                                    |\n",
    "| remainder(arr1,arr2)    | Returns remainder after division elementwise                                                                            |\n",
    "| subtract(arr1,arr2,…)   | Subtract arrays element wise                                                                                            |\n",
    "| true_divide(arr1,arr2)  | Returns true_divide of an array element wise                                                                            |"
   ]
  },
  {
   "cell_type": "code",
   "execution_count": 36,
   "metadata": {},
   "outputs": [],
   "source": [
    "# create arrays\n",
    "a = np.array([10,20,30])\n",
    "b= np.array([1,2,3])"
   ]
  },
  {
   "cell_type": "code",
   "execution_count": 39,
   "metadata": {},
   "outputs": [
    {
     "name": "stdout",
     "output_type": "stream",
     "text": [
      "addition of a and b       :  [11 22 33]\n",
      "multiplication of a and b :  [10 40 90]\n",
      "subtraction of a and b    :  [ 9 18 27]\n",
      "a raised to power b is    :  [   10   400 27000]\n"
     ]
    }
   ],
   "source": [
    "# some important arithmatic functions - PART 1\n",
    "print(\"addition of a and b       : \",np.add(a,b))\n",
    "print(\"multiplication of a and b : \",np.multiply(a,b))\n",
    "print(\"subtraction of a and b    : \",np.subtract(a,b))\n",
    "print(\"a raised to power b is    : \",np.power(a,b))"
   ]
  },
  {
   "cell_type": "code",
   "execution_count": 40,
   "metadata": {},
   "outputs": [
    {
     "name": "stdout",
     "output_type": "stream",
     "text": [
      "division of a and b               :  [10. 10. 10.]\n",
      "true division of a                :  [10. 10. 10.]\n",
      "floor_division of a and b         :  [10 10 10]\n",
      "float_power of a raised to b      :  [1.0e+01 4.0e+02 2.7e+04]\n",
      "fmod of a and b                   :  [0 0 0]\n",
      "mod of a and b                    :  [0 0 0]\n",
      "quotient and remainder of a and b :  (array([10, 10, 10], dtype=int32), array([0, 0, 0], dtype=int32))\n",
      "remainders when a/b               :  [0 0 0]\n"
     ]
    }
   ],
   "source": [
    "# some important arithmatic functions - PART 2\n",
    "print(\"division of a and b               : \", np.divide(a,b))\n",
    "print(\"true division of a                : \", np.true_divide(a,b))\n",
    "print(\"floor_division of a and b         : \", np.floor_divide(a,b))\n",
    "print(\"float_power of a raised to b      : \", np.float_power(a,b))\n",
    "print(\"fmod of a and b                   : \", np.fmod(a,b))\n",
    "print(\"mod of a and b                    : \", np.mod(a,b))\n",
    "print(\"quotient and remainder of a and b : \", np.divmod(a,b))\n",
    "print(\"remainders when a/b               : \", np.remainder(a,b))"
   ]
  },
  {
   "cell_type": "markdown",
   "metadata": {},
   "source": [
    "### Trigonometric Functions"
   ]
  },
  {
   "cell_type": "markdown",
   "metadata": {},
   "source": [
    "| Function                  | Description                                                                     |\n",
    "|---------------------------|---------------------------------------------------------------------------------|\n",
    "| arccos(arr)               | Returns trigonometric inverse cosine element wise                               |\n",
    "| arcsin(arr)               | Returns trigonometric inverse sine element wise                                 |\n",
    "| arctan(arr)               | Returns trigonometric inverse tan element wise                                  |\n",
    "| cos(arr)                  | Returns trigonometric cos element wise                                          |\n",
    "| degrees(arr) rad2deg(arr) | Covert input angles from radians to degrees                                     |\n",
    "| hypot(a,b)                | Returns hypotenuse of a right triangle with perpendicular and base as arguments |\n",
    "| radians(arr) deg2rad(arr) | Covert input angles from degrees to radians                                     |\n",
    "| sin(arr)                  | Returns trigonometric sine element wise                                         |\n",
    "| tan(arr)                  | Returns trigonometric tan element wise                                          |"
   ]
  },
  {
   "cell_type": "code",
   "execution_count": 48,
   "metadata": {},
   "outputs": [
    {
     "name": "stdout",
     "output_type": "stream",
     "text": [
      "[0.         1.57079633 3.14159265]\n"
     ]
    }
   ],
   "source": [
    "# create an input array angles\n",
    "angles = np.array([0,np.pi/2, np.pi])\n",
    "print(angles)"
   ]
  },
  {
   "cell_type": "code",
   "execution_count": 43,
   "metadata": {},
   "outputs": [
    {
     "name": "stdout",
     "output_type": "stream",
     "text": [
      "sin of angles: [0.0000000e+00 1.0000000e+00 1.2246468e-16]\n"
     ]
    }
   ],
   "source": [
    "sin_angles = np.sin(angles)\n",
    "print(\"sin of angles:\",sin_angles)"
   ]
  },
  {
   "cell_type": "code",
   "execution_count": 44,
   "metadata": {},
   "outputs": [
    {
     "name": "stdout",
     "output_type": "stream",
     "text": [
      "cosine of angles: [ 1.000000e+00  6.123234e-17 -1.000000e+00]\n"
     ]
    }
   ],
   "source": [
    "cosine_angles = np.cos(angles)\n",
    "print(\"cosine of angles:\",cosine_angles)"
   ]
  },
  {
   "cell_type": "code",
   "execution_count": 45,
   "metadata": {},
   "outputs": [
    {
     "name": "stdout",
     "output_type": "stream",
     "text": [
      "tan of angles: [ 0.00000000e+00  1.63312394e+16 -1.22464680e-16]\n"
     ]
    }
   ],
   "source": [
    "tan_angles = np.tan(angles)\n",
    "print(\"tan of angles:\",tan_angles)"
   ]
  },
  {
   "cell_type": "code",
   "execution_count": 46,
   "metadata": {},
   "outputs": [
    {
     "name": "stdout",
     "output_type": "stream",
     "text": [
      "angles in radians [  0.  90. 180.]\n"
     ]
    }
   ],
   "source": [
    "rad2degree = np.degrees(angles)\n",
    "print(\"angles in radians\",rad2degree)"
   ]
  },
  {
   "cell_type": "markdown",
   "metadata": {},
   "source": [
    "### Logarithmic and Exponential Functions"
   ]
  },
  {
   "cell_type": "markdown",
   "metadata": {},
   "source": [
    "| Function        | Description                                                             |\n",
    "|-----------------|-------------------------------------------------------------------------|\n",
    "| exp(arr)        | Returns exponential of an input array element wise                      |\n",
    "| exp2(arr)       | Returns exponential 2**x of all elements in an array                    |\n",
    "| expm1(arr)      | Returns exponential exp(x)-1 of an input array element wise             |\n",
    "| log(arr)        | Returns natural log of an input array element wise                      |\n",
    "| log10(arr)      | Returns log base 10 of an input array element wise                      |\n",
    "| log2(arr)       | Returns log base 2 of an input array element wise                       |\n",
    "| logaddexp(arr)  | Returns logarithm of the sum of exponentiations of all inputs           |\n",
    "| logaddexp2(arr) | Returns logarithm of the sum of exponentiations of the inputs in base 2 |"
   ]
  },
  {
   "cell_type": "code",
   "execution_count": 49,
   "metadata": {},
   "outputs": [
    {
     "data": {
      "text/plain": [
       "array([1, 2, 3, 4, 5])"
      ]
     },
     "execution_count": 49,
     "metadata": {},
     "output_type": "execute_result"
    }
   ],
   "source": [
    "# create an array\n",
    "a = np.array([1,2,3,4,5])\n",
    "a"
   ]
  },
  {
   "cell_type": "code",
   "execution_count": 50,
   "metadata": {},
   "outputs": [
    {
     "name": "stdout",
     "output_type": "stream",
     "text": [
      "log of input array a is: [0.         0.69314718 1.09861229 1.38629436 1.60943791]\n"
     ]
    }
   ],
   "source": [
    "a_log = np.log(a)\n",
    "print(\"log of input array a is:\",a_log)"
   ]
  },
  {
   "cell_type": "code",
   "execution_count": 51,
   "metadata": {},
   "outputs": [
    {
     "name": "stdout",
     "output_type": "stream",
     "text": [
      "exponent of input array a is: [  2.71828183   7.3890561   20.08553692  54.59815003 148.4131591 ]\n"
     ]
    }
   ],
   "source": [
    "a_exp = np.exp(a)\n",
    "print(\"exponent of input array a is:\",a_exp)"
   ]
  },
  {
   "cell_type": "markdown",
   "metadata": {},
   "source": [
    "### Rounding Functions"
   ]
  },
  {
   "cell_type": "markdown",
   "metadata": {},
   "source": [
    "| Function            | Description                                                              |\n",
    "|---------------------|--------------------------------------------------------------------------|\n",
    "| around(arr,decimal) | Rounds the elements of an input array upto given decimal places          |\n",
    "| ceil(arr)           | Returns ceiling of input array element wise                              |\n",
    "| fix(arr)            | Round the elements of an input array to the nearest integer towards zero |\n",
    "| floor(arr)          | Returns floor of input array element wise                                |\n",
    "| rint(arr)           | Round the elements of an input array to the nearest integer towards zero |\n",
    "| round_(arr,decimal) | Rounds the elements of an input array upto given decimal places          |\n",
    "| trunc(arr)          | Return the truncated value of an input array element wise                |"
   ]
  },
  {
   "cell_type": "code",
   "execution_count": 53,
   "metadata": {},
   "outputs": [
    {
     "data": {
      "text/plain": [
       "array([1.23  , 4.165 , 3.8245])"
      ]
     },
     "execution_count": 53,
     "metadata": {},
     "output_type": "execute_result"
    }
   ],
   "source": [
    "# create an array with decimal values\n",
    "a = np.array([1.23,4.165,3.8245])\n",
    "a"
   ]
  },
  {
   "cell_type": "code",
   "execution_count": 54,
   "metadata": {},
   "outputs": [
    {
     "name": "stdout",
     "output_type": "stream",
     "text": [
      "[1.23 4.16 3.82]\n"
     ]
    }
   ],
   "source": [
    "# round decimal values in array to 2 decimal\n",
    "rounded_a = np.round_(a,2)\n",
    "print(rounded_a)"
   ]
  },
  {
   "cell_type": "code",
   "execution_count": 56,
   "metadata": {},
   "outputs": [
    {
     "data": {
      "text/plain": [
       "array([1., 4., 3.])"
      ]
     },
     "execution_count": 56,
     "metadata": {},
     "output_type": "execute_result"
    }
   ],
   "source": [
    "# floor value for decimal value in array\n",
    "np.floor(a)"
   ]
  },
  {
   "cell_type": "code",
   "execution_count": 57,
   "metadata": {},
   "outputs": [
    {
     "data": {
      "text/plain": [
       "array([2., 5., 4.])"
      ]
     },
     "execution_count": 57,
     "metadata": {},
     "output_type": "execute_result"
    }
   ],
   "source": [
    "# ceiling value for decimal value in array\n",
    "np.ceil(a)"
   ]
  },
  {
   "cell_type": "markdown",
   "metadata": {},
   "source": [
    "### Miscellaneous Functions"
   ]
  },
  {
   "cell_type": "markdown",
   "metadata": {},
   "source": [
    "| Function                    | Description                                                 |\n",
    "|-----------------------------|-------------------------------------------------------------|\n",
    "| absolute(arr)               | Returns absolute value each element in an input array       |\n",
    "| cbrt(arr)                   | Returns cube root of an input array element wise            |\n",
    "| clip(arr, arr_min, arr_max) | Limits the values in an input array                         |\n",
    "| convolve(arr, v)            | Returns linear convolution of two one-dimensional sequences |\n",
    "| interp(arr, xp, fp)         | Calculates one-dimensional linear interpolation             |\n",
    "| maximum(arr1,arr2,…)        | Returns element wise maximum of the input arrays            |\n",
    "| minimum(arr1,arr2,…)        | Returns element wise minimum of the input arrays            |\n",
    "| sqrt(arr)                   | Returns the square root of an input array element wise      |"
   ]
  },
  {
   "cell_type": "code",
   "execution_count": 58,
   "metadata": {},
   "outputs": [],
   "source": [
    "# create arrays\n",
    "a = [1,2,3] \n",
    "b = [3,1,2] "
   ]
  },
  {
   "cell_type": "code",
   "execution_count": 59,
   "metadata": {},
   "outputs": [
    {
     "name": "stdout",
     "output_type": "stream",
     "text": [
      "maxima are: [3 2 3]\n"
     ]
    }
   ],
   "source": [
    "# return maximum elemenwise in both array a & b\n",
    "maximum_elementwise = np.maximum(a,b)\n",
    "print(\"maxima are:\",maximum_elementwise)"
   ]
  },
  {
   "cell_type": "code",
   "execution_count": 61,
   "metadata": {},
   "outputs": [
    {
     "name": "stdout",
     "output_type": "stream",
     "text": [
      "limiting a between 0 and 2: [1 2 2]\n"
     ]
    }
   ],
   "source": [
    "# clipping an array between max_limit and min_limit \n",
    "limiting_a = np.clip(a,0,2)\n",
    "print(\"limiting a between 0 and 2:\",limiting_a)"
   ]
  }
 ],
 "metadata": {
  "kernelspec": {
   "display_name": "Python 3",
   "language": "python",
   "name": "python3"
  },
  "language_info": {
   "codemirror_mode": {
    "name": "ipython",
    "version": 3
   },
   "file_extension": ".py",
   "mimetype": "text/x-python",
   "name": "python",
   "nbconvert_exporter": "python",
   "pygments_lexer": "ipython3",
   "version": "3.8.5"
  }
 },
 "nbformat": 4,
 "nbformat_minor": 4
}
