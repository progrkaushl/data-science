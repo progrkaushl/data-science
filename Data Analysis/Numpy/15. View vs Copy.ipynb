{
 "cells": [
  {
   "cell_type": "markdown",
   "metadata": {},
   "source": [
    "# <span style=\"color:#4D77CF; font-family: Helvetica; font-size: 200%; font-weight:700\"> Numpy | <span style=\"font-size: 50%; font-weight:300\">View vs Copy</span>"
   ]
  },
  {
   "cell_type": "markdown",
   "metadata": {},
   "source": [
    "To use numpy in python import it first by using the following command:"
   ]
  },
  {
   "cell_type": "code",
   "execution_count": 1,
   "metadata": {},
   "outputs": [],
   "source": [
    "# import numpy\n",
    "import numpy as np"
   ]
  },
  {
   "cell_type": "markdown",
   "metadata": {},
   "source": [
    "<br>"
   ]
  },
  {
   "cell_type": "markdown",
   "metadata": {},
   "source": [
    "## No copy"
   ]
  },
  {
   "cell_type": "markdown",
   "metadata": {},
   "source": [
    "- When we make assignments to an array it does not create a copy of the array. \n",
    "- It actually accesses the original array through its id(). \n",
    "- The id() element is equivalent to pointers in c /c++ language. \n",
    "- They just point to the original array."
   ]
  },
  {
   "cell_type": "code",
   "execution_count": 2,
   "metadata": {},
   "outputs": [
    {
     "data": {
      "text/plain": [
       "array([0, 1, 2, 3, 4, 5, 6, 7, 8, 9])"
      ]
     },
     "execution_count": 2,
     "metadata": {},
     "output_type": "execute_result"
    }
   ],
   "source": [
    "# declaring an array \n",
    "a = np.arange(10)\n",
    "a"
   ]
  },
  {
   "cell_type": "code",
   "execution_count": 3,
   "metadata": {},
   "outputs": [
    {
     "name": "stdout",
     "output_type": "stream",
     "text": [
      "2303288779920\n"
     ]
    }
   ],
   "source": [
    "# check id of array a\n",
    "print(id(a))"
   ]
  },
  {
   "cell_type": "code",
   "execution_count": 4,
   "metadata": {},
   "outputs": [
    {
     "data": {
      "text/plain": [
       "array([0, 1, 2, 3, 4, 5, 6, 7, 8, 9])"
      ]
     },
     "execution_count": 4,
     "metadata": {},
     "output_type": "execute_result"
    }
   ],
   "source": [
    "# assign array a to another variable\n",
    "b = a\n",
    "b"
   ]
  },
  {
   "cell_type": "code",
   "execution_count": 5,
   "metadata": {},
   "outputs": [
    {
     "name": "stdout",
     "output_type": "stream",
     "text": [
      "2303288779920\n"
     ]
    }
   ],
   "source": [
    "# check id of array b\n",
    "print(id(b))"
   ]
  },
  {
   "cell_type": "code",
   "execution_count": 6,
   "metadata": {},
   "outputs": [
    {
     "name": "stdout",
     "output_type": "stream",
     "text": [
      "Are both ID same? :  True\n"
     ]
    }
   ],
   "source": [
    "# verify if both ID are same\n",
    "print(\"Are both ID same? : \", (id(a) == id(b)))"
   ]
  },
  {
   "cell_type": "markdown",
   "metadata": {},
   "source": [
    "## View or Shallow copy"
   ]
  },
  {
   "cell_type": "markdown",
   "metadata": {},
   "source": [
    "- It returns a view of the original array stored at the existing location.\n",
    "- The view doesn’t have its own data or memory but uses the original array.\n",
    "- The modifications reflect in both."
   ]
  },
  {
   "cell_type": "code",
   "execution_count": 7,
   "metadata": {},
   "outputs": [
    {
     "data": {
      "text/plain": [
       "array([20, 30, 50, 70])"
      ]
     },
     "execution_count": 7,
     "metadata": {},
     "output_type": "execute_result"
    }
   ],
   "source": [
    "# define an array\n",
    "a = np.array([20,30,50,70])\n",
    "a"
   ]
  },
  {
   "cell_type": "code",
   "execution_count": 8,
   "metadata": {},
   "outputs": [
    {
     "data": {
      "text/plain": [
       "array([20, 30, 50, 70])"
      ]
     },
     "execution_count": 8,
     "metadata": {},
     "output_type": "execute_result"
    }
   ],
   "source": [
    "# create a view of array a\n",
    "b = a.view()\n",
    "b"
   ]
  },
  {
   "cell_type": "code",
   "execution_count": 9,
   "metadata": {},
   "outputs": [
    {
     "name": "stdout",
     "output_type": "stream",
     "text": [
      "ID of base array \"a\" is :  2303413083072\n",
      "ID of view array \"b\" is :  2303413082752\n",
      "Are both ID same?       :  False\n"
     ]
    }
   ],
   "source": [
    "# check ID of both base and view array\n",
    "print('ID of base array \"a\" is : ' , id(a))\n",
    "print('ID of view array \"b\" is : ', id(b))\n",
    "print(\"Are both ID same?       : \", (id(a) == id(b)))"
   ]
  },
  {
   "cell_type": "code",
   "execution_count": 10,
   "metadata": {},
   "outputs": [
    {
     "name": "stdout",
     "output_type": "stream",
     "text": [
      "array \"a\" is :  [50 30 50 70]\n",
      "array \"b\" is :  [50 30 50 70]\n"
     ]
    }
   ],
   "source": [
    "# change a value in base array a\n",
    "a[0] = 50\n",
    "\n",
    "print('array \"a\" is : ', a)\n",
    "print('array \"b\" is : ', b)"
   ]
  },
  {
   "cell_type": "code",
   "execution_count": 11,
   "metadata": {},
   "outputs": [
    {
     "name": "stdout",
     "output_type": "stream",
     "text": [
      "array \"a\" is :  [77 30 50 70]\n",
      "array \"b\" is :  [77 30 50 70]\n"
     ]
    }
   ],
   "source": [
    "# change a value in viewed array b\n",
    "b[0] = 77\n",
    "\n",
    "print('array \"a\" is : ', a)\n",
    "print('array \"b\" is : ', b)"
   ]
  },
  {
   "cell_type": "markdown",
   "metadata": {},
   "source": [
    "## Copy or Deep copy"
   ]
  },
  {
   "cell_type": "markdown",
   "metadata": {},
   "source": [
    "- It returns a copy of the original array stored at a new location. \n",
    "- The copy doesn’t share data or memory with the original array. \n",
    "- The modifications are not reflected. "
   ]
  },
  {
   "cell_type": "code",
   "execution_count": 12,
   "metadata": {},
   "outputs": [
    {
     "data": {
      "text/plain": [
       "array([20, 30, 50, 70])"
      ]
     },
     "execution_count": 12,
     "metadata": {},
     "output_type": "execute_result"
    }
   ],
   "source": [
    "# define an array\n",
    "a = np.array([20,30,50,70])\n",
    "a"
   ]
  },
  {
   "cell_type": "code",
   "execution_count": 13,
   "metadata": {},
   "outputs": [
    {
     "data": {
      "text/plain": [
       "array([20, 30, 50, 70])"
      ]
     },
     "execution_count": 13,
     "metadata": {},
     "output_type": "execute_result"
    }
   ],
   "source": [
    "# create a copy of array a\n",
    "b = a.copy()\n",
    "b"
   ]
  },
  {
   "cell_type": "code",
   "execution_count": 14,
   "metadata": {},
   "outputs": [
    {
     "name": "stdout",
     "output_type": "stream",
     "text": [
      "ID of base array \"a\" is :  2303413139696\n",
      "ID of view array \"b\" is :  2303413109664\n",
      "Are both ID same?       :  False\n"
     ]
    }
   ],
   "source": [
    "# check ID of both base and view array\n",
    "print('ID of base array \"a\" is : ' , id(a))\n",
    "print('ID of view array \"b\" is : ', id(b))\n",
    "print(\"Are both ID same?       : \", (id(a) == id(b)))"
   ]
  },
  {
   "cell_type": "code",
   "execution_count": 15,
   "metadata": {},
   "outputs": [
    {
     "name": "stdout",
     "output_type": "stream",
     "text": [
      "array \"a\" is :  [50 30 50 70]\n",
      "array \"b\" is :  [20 30 50 70]\n"
     ]
    }
   ],
   "source": [
    "# change a value in base array a\n",
    "a[0] = 50\n",
    "\n",
    "print('array \"a\" is : ', a)\n",
    "print('array \"b\" is : ', b)"
   ]
  },
  {
   "cell_type": "code",
   "execution_count": 16,
   "metadata": {},
   "outputs": [
    {
     "name": "stdout",
     "output_type": "stream",
     "text": [
      "array \"a\" is :  [50 30 50 70]\n",
      "array \"b\" is :  [77 30 50 70]\n"
     ]
    }
   ],
   "source": [
    "# change a value in viewed array b\n",
    "b[0] = 77\n",
    "\n",
    "print('array \"a\" is : ', a)\n",
    "print('array \"b\" is : ', b)"
   ]
  },
  {
   "cell_type": "markdown",
   "metadata": {},
   "source": [
    "<br>"
   ]
  },
  {
   "cell_type": "markdown",
   "metadata": {},
   "source": [
    "## Views vs Copies: The main differences"
   ]
  },
  {
   "cell_type": "markdown",
   "metadata": {},
   "source": [
    "Here are the main differences between views and copies:\n",
    "\n",
    "1. Modifying the array\n",
    "    - Modifying a view modifies the base (original) array, whereas modifying a copy does not modify the base array.\n",
    "2. Time taken\n",
    "    - Making a copy takes more time, often 1.5x-2x longer.\n",
    "3. Base of the array\n",
    "    - A view has the same base as its base array. A copy does not.\n",
    "4. Memory\n",
    "    - A view also shares memory with the base array, whereas a copy does not.\n",
    "5. Indexing\n",
    "    - Normal indexing returns view while fancy indexing returns copy."
   ]
  },
  {
   "cell_type": "markdown",
   "metadata": {},
   "source": [
    "|                        | View                    | Copy                            |\n",
    "|------------------------|-------------------------|---------------------------------|\n",
    "| Slices                 | Indexing, e.g. `a[0,:]` | Fancy indexing, e.g. `a[[0],:]` |\n",
    "| Changing dtype         | `v = a.view('int16')`   | `c = a.astype(np.float32)`       |\n",
    "| Converting to 1D array | `a.ravel()`             | `a.flatten()`                   |"
   ]
  },
  {
   "cell_type": "markdown",
   "metadata": {},
   "source": [
    "<br>"
   ]
  },
  {
   "cell_type": "markdown",
   "metadata": {},
   "source": [
    "## View Creation"
   ]
  },
  {
   "cell_type": "markdown",
   "metadata": {},
   "source": [
    "There are two methods to create a view of numpy arrray:\n",
    "1. Slice View : slicing the original array \n",
    "2. dtype View : changing data type original array"
   ]
  },
  {
   "cell_type": "markdown",
   "metadata": {},
   "source": [
    "### Slice view"
   ]
  },
  {
   "cell_type": "markdown",
   "metadata": {},
   "source": [
    "In this view creation, process involves:\n",
    "1. Perform slicing of the original array\n",
    "2. Address the view by offsets, strides, and counts of the original array"
   ]
  },
  {
   "cell_type": "code",
   "execution_count": 17,
   "metadata": {},
   "outputs": [
    {
     "data": {
      "text/plain": [
       "array([0, 1, 2, 3, 4, 5, 6, 7, 8, 9])"
      ]
     },
     "execution_count": 17,
     "metadata": {},
     "output_type": "execute_result"
    }
   ],
   "source": [
    "# define an array\n",
    "a = np.arange(10)\n",
    "a"
   ]
  },
  {
   "cell_type": "code",
   "execution_count": 18,
   "metadata": {},
   "outputs": [
    {
     "data": {
      "text/plain": [
       "array([1, 3, 5, 7, 9])"
      ]
     },
     "execution_count": 18,
     "metadata": {},
     "output_type": "execute_result"
    }
   ],
   "source": [
    "# slicing of original array to create a view\n",
    "v = a[1:10:2]\n",
    "v"
   ]
  },
  {
   "cell_type": "markdown",
   "metadata": {},
   "source": [
    "### dtype view"
   ]
  },
  {
   "cell_type": "markdown",
   "metadata": {},
   "source": [
    "In this method data type of the original array is changed in order to generate a view."
   ]
  },
  {
   "cell_type": "code",
   "execution_count": 19,
   "metadata": {},
   "outputs": [
    {
     "data": {
      "text/plain": [
       "array([0, 1, 2, 3, 4, 5, 6, 7, 8, 9])"
      ]
     },
     "execution_count": 19,
     "metadata": {},
     "output_type": "execute_result"
    }
   ],
   "source": [
    "# define a view with data type\n",
    "a = np.arange(10,dtype='int32')\n",
    "a"
   ]
  },
  {
   "cell_type": "code",
   "execution_count": 20,
   "metadata": {},
   "outputs": [
    {
     "data": {
      "text/plain": [
       "array([0, 0, 1, 0, 2, 0, 3, 0, 4, 0, 5, 0, 6, 0, 7, 0, 8, 0, 9, 0],\n",
       "      dtype=int16)"
      ]
     },
     "execution_count": 20,
     "metadata": {},
     "output_type": "execute_result"
    }
   ],
   "source": [
    "# chanding datatype of original array to create a view\n",
    "v = a.view('int16')\n",
    "v"
   ]
  },
  {
   "cell_type": "markdown",
   "metadata": {},
   "source": [
    "## Checking if NumPy Array owns its data"
   ]
  },
  {
   "cell_type": "markdown",
   "metadata": {},
   "source": [
    "use `base` method to find out whether or not an array has base array."
   ]
  },
  {
   "cell_type": "code",
   "execution_count": 21,
   "metadata": {},
   "outputs": [
    {
     "data": {
      "text/plain": [
       "array([59, 87, 64])"
      ]
     },
     "execution_count": 21,
     "metadata": {},
     "output_type": "execute_result"
    }
   ],
   "source": [
    "# define an array\n",
    "a = np.array([59,87,64])\n",
    "a"
   ]
  },
  {
   "cell_type": "code",
   "execution_count": 22,
   "metadata": {},
   "outputs": [],
   "source": [
    "# create view and copy of array a\n",
    "v = a.view()\n",
    "c = a.copy()"
   ]
  },
  {
   "cell_type": "code",
   "execution_count": 23,
   "metadata": {},
   "outputs": [
    {
     "name": "stdout",
     "output_type": "stream",
     "text": [
      "View has base array :  [59 87 64]\n",
      "Copy has base array :  None\n"
     ]
    }
   ],
   "source": [
    "# check if view and copy has base array or not\n",
    "print(\"View has base array : \", v.base)\n",
    "print(\"Copy has base array : \", c.base)"
   ]
  }
 ],
 "metadata": {
  "kernelspec": {
   "display_name": "Python 3",
   "language": "python",
   "name": "python3"
  },
  "language_info": {
   "codemirror_mode": {
    "name": "ipython",
    "version": 3
   },
   "file_extension": ".py",
   "mimetype": "text/x-python",
   "name": "python",
   "nbconvert_exporter": "python",
   "pygments_lexer": "ipython3",
   "version": "3.8.5"
  }
 },
 "nbformat": 4,
 "nbformat_minor": 4
}
