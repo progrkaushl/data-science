{
 "cells": [
  {
   "cell_type": "markdown",
   "metadata": {},
   "source": [
    "# <span style=\"color:#4D77CF; font-family: Helvetica; font-size: 200%; font-weight:700\"> Numpy | <span style=\"font-size: 50%; font-weight:300\">Data Types</span>"
   ]
  },
  {
   "cell_type": "markdown",
   "metadata": {},
   "source": [
    "To use numpy in python import it first by using the following command:"
   ]
  },
  {
   "cell_type": "code",
   "execution_count": 1,
   "metadata": {},
   "outputs": [],
   "source": [
    "# import numpy\n",
    "import numpy as np"
   ]
  },
  {
   "cell_type": "markdown",
   "metadata": {},
   "source": [
    "NumPy supports a much greater variety of numerical types than Python does."
   ]
  },
  {
   "cell_type": "markdown",
   "metadata": {},
   "source": [
    "|   Data type    | Description                | Value/Range                                        |\n",
    "| :------------: | :------------------------- | :------------------------------------------------- |\n",
    "|   **bool_**    | Boolean stored as a byte.  | True or False                                      |\n",
    "|    **int_**    | Default integer type.      | Same as C long; normally either int64 or int32.    |\n",
    "|    **intc**    | Identical to C int.        | Normally int32 or int64.                           |\n",
    "|    **intp**    | Integer used for indexing. | Same as C ssize_t; normally either int32 or int64. |\n",
    "|    **int8**    | Byte.                      | -128 to 127                                        |\n",
    "|   **int16**    | Integer.                   | -32768 to 32767                                    |\n",
    "|   **int32**    | Integer.                   | -2147483648 to 2147483647                          |\n",
    "|   **int64**    | Integer.                   | -9223372036854775808 to 9223372036854775807        |\n",
    "|   **uint8**    | Unsigned integer.          | 0 to 255                                           |\n",
    "|   **uint16**   | Unsigned integer.          | 0 to 65535                                         |\n",
    "|   **uint32**   | Unsigned integer.          | 0 to 4294967295                                    |\n",
    "|   **uint64**   | Unsigned integer           | 0 to 18446744073709551615                          |\n",
    "|   **float_**   | Shorthand for float64.     |                                                    |\n",
    "|  **float16**   | Half precision float.      | sign bit, 5 bits exponent, 10 bits mantissa        |\n",
    "|  **float32**   | Single precision float.    | sign bit, 8 bits exponent, 23 bits mantissa        |\n",
    "|  **float64**   | Double precision float.    | sign bit, 11 bits exponent, 52 bits mantissa       |\n",
    "|  **complex_**  | Shorthand for complex128.  |                                                    |\n",
    "| **complex64**  | Complex number,            | two 32-bit floats (real and imaginary components)  |\n",
    "| **complex128** | Complex number,            | two 64-bit floats (real and imaginary components)  |"
   ]
  },
  {
   "cell_type": "markdown",
   "metadata": {},
   "source": [
    "NumPy numerical types are instances of dtype (data-type) objects, each having unique characteristics."
   ]
  },
  {
   "cell_type": "markdown",
   "metadata": {},
   "source": [
    "<br>"
   ]
  },
  {
   "cell_type": "markdown",
   "metadata": {},
   "source": [
    "## <span style=\"color:#4D77CF\"> Data Type Objects (dtype) </span>"
   ]
  },
  {
   "cell_type": "markdown",
   "metadata": {},
   "source": [
    "A data type object describes interpretation of fixed block of memory corresponding to an array, depending on the following aspects: \n",
    "- Type of data (integer, float or Python object)\n",
    "- Size of data\n",
    "- Byte order (little-endian or big-endian)\n",
    "- In case of structured type, the names of fields, data type of each field and part of the memory block taken by each field.\n",
    "- If data type is a subarray, its shape and data type"
   ]
  },
  {
   "cell_type": "markdown",
   "metadata": {},
   "source": [
    "The byte order is decided by prefixing '<' or '>' to data type. \n",
    "- `<` means that encoding is `little-endian` (least significant is stored in smallest address). \n",
    "- `>` means that encoding is `big-endian` (most significant byte is stored in smallest address)."
   ]
  },
  {
   "cell_type": "markdown",
   "metadata": {},
   "source": [
    "*Syntax:*\n",
    "```python\n",
    "numpy.dtype(obj, align=False, copy=False)\n",
    "```"
   ]
  },
  {
   "cell_type": "markdown",
   "metadata": {},
   "source": [
    "|   Name    | Description                                                  | Type | Default | Required |\n",
    "| :-------: | :----------------------------------------------------------- | ---- | ------- | :------- |\n",
    "|  **obj**  | Object to be converted to a data type object.                |      |         | Required |\n",
    "| **align** | If true, adds padding to the field to make it similar to C-struct | Bool | False   | Optional |\n",
    "| **copy**  | Makes a new copy of dtype object. If false, the result is reference to builtin data type object | Bool | False   | optional |"
   ]
  },
  {
   "cell_type": "markdown",
   "metadata": {},
   "source": [
    "*Return:*\n",
    "> dtype : dtype or Python type - The data type of rep."
   ]
  },
  {
   "cell_type": "markdown",
   "metadata": {},
   "source": [
    "<br>"
   ]
  },
  {
   "cell_type": "markdown",
   "metadata": {},
   "source": [
    "Each built-in data type has a character code that uniquely identifies it."
   ]
  },
  {
   "cell_type": "markdown",
   "metadata": {},
   "source": [
    "<br>"
   ]
  },
  {
   "cell_type": "markdown",
   "metadata": {},
   "source": [
    "| Character Code | Data Type                               |\n",
    "| :------------: | --------------------------------------- |\n",
    "|     `'?'`      | boolean                                 |\n",
    "|     `'b'`      | (signed) byte                           |\n",
    "|     `'B'`      | unsigned byte                           |\n",
    "|     `'i'`      | (signed) integer                        |\n",
    "|     `'u'`      | unsigned integer                        |\n",
    "|     `'f'`      | floating-point                          |\n",
    "|     `'c'`      | complex-floating point                  |\n",
    "|     `'m'`      | timedelta                               |\n",
    "|     `'M'`      | datetime                                |\n",
    "|     `'O'`      | (Python) objects                        |\n",
    "|  `'S'`, `'a'`  | zero-terminated bytes (not recommended) |\n",
    "|     `'U'`      | Unicode string                          |\n",
    "|     `'V'`      | raw data (`void`)                       |"
   ]
  },
  {
   "cell_type": "markdown",
   "metadata": {},
   "source": [
    "*Examples:* Creating basic data-type object."
   ]
  },
  {
   "cell_type": "code",
   "execution_count": 4,
   "metadata": {},
   "outputs": [
    {
     "name": "stdout",
     "output_type": "stream",
     "text": [
      "int32\n"
     ]
    }
   ],
   "source": [
    "# using array-scalar type \n",
    "dt = np.dtype(np.int32) \n",
    "print(dt)"
   ]
  },
  {
   "cell_type": "code",
   "execution_count": 11,
   "metadata": {},
   "outputs": [
    {
     "name": "stdout",
     "output_type": "stream",
     "text": [
      "int64\n"
     ]
    }
   ],
   "source": [
    "# int8, int16, int32, int64 can be replaced by equivalent string 'i1', 'i2','i4' and 'i8' \n",
    "dt = np.dtype('i8')\n",
    "print(dt)"
   ]
  },
  {
   "cell_type": "code",
   "execution_count": 12,
   "metadata": {},
   "outputs": [
    {
     "name": "stdout",
     "output_type": "stream",
     "text": [
      ">i8\n"
     ]
    }
   ],
   "source": [
    "# using endian notation \n",
    "dt = np.dtype('>i8')\n",
    "print(dt)"
   ]
  },
  {
   "cell_type": "markdown",
   "metadata": {},
   "source": [
    "<br>"
   ]
  },
  {
   "cell_type": "markdown",
   "metadata": {},
   "source": [
    "*Examples:* Use of Structured Data Type."
   ]
  },
  {
   "cell_type": "markdown",
   "metadata": {},
   "source": [
    "Field name and the corresponding scalar data type is to be declared."
   ]
  },
  {
   "cell_type": "code",
   "execution_count": 25,
   "metadata": {},
   "outputs": [
    {
     "name": "stdout",
     "output_type": "stream",
     "text": [
      "[('name', 'S20'), ('age', 'i1'), ('salary_k', '<f8')]\n"
     ]
    }
   ],
   "source": [
    "# 1. create structured data type \n",
    "employee = np.dtype([('name', 'S20'), ('age', 'i1'), ('salary_k', 'f8')]) \n",
    "print(employee)"
   ]
  },
  {
   "cell_type": "code",
   "execution_count": 26,
   "metadata": {},
   "outputs": [
    {
     "name": "stdout",
     "output_type": "stream",
     "text": [
      "[(b'Raj', 25, 55.5) (b'Anjali', 21, 60.8)]\n"
     ]
    }
   ],
   "source": [
    "# 2. apply it to ndarray object \n",
    "a = np.array([('Raj', 25, 55.5), ('Anjali', 21, 60.8)], dtype = employee)\n",
    "print(a)"
   ]
  },
  {
   "cell_type": "code",
   "execution_count": 27,
   "metadata": {},
   "outputs": [
    {
     "name": "stdout",
     "output_type": "stream",
     "text": [
      "[55.5 60.8]\n"
     ]
    }
   ],
   "source": [
    "# 3. file name can be used to access content of age column \n",
    "print(a['salary_k'])"
   ]
  }
 ],
 "metadata": {
  "kernelspec": {
   "display_name": "Python 3",
   "language": "python",
   "name": "python3"
  },
  "language_info": {
   "codemirror_mode": {
    "name": "ipython",
    "version": 3
   },
   "file_extension": ".py",
   "mimetype": "text/x-python",
   "name": "python",
   "nbconvert_exporter": "python",
   "pygments_lexer": "ipython3",
   "version": "3.8.5"
  }
 },
 "nbformat": 4,
 "nbformat_minor": 4
}
