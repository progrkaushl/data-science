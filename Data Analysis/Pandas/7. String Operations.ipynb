{
 "cells": [
  {
   "cell_type": "markdown",
   "metadata": {},
   "source": [
    "# <span style=\"color:#130654; font-family: Helvetica; font-size: 200%; font-weight:700\"> Pandas | <span style=\"font-size: 50%; font-weight:300\">String Functions</span>"
   ]
  },
  {
   "cell_type": "markdown",
   "metadata": {},
   "source": [
    "To use pandas in python import it first by using the following command:"
   ]
  },
  {
   "cell_type": "code",
   "execution_count": 1,
   "metadata": {},
   "outputs": [],
   "source": [
    "# import pandas\n",
    "import pandas as pd"
   ]
  },
  {
   "cell_type": "markdown",
   "metadata": {},
   "source": [
    "Pandas provides a set of string functions which make it easy to operate on string data. Most importantly, these functions ignore (or exclude) missing/NaN values.\n",
    "\n",
    "<span style=\"color:green\">Note: Always use \".str\" attribute while using any of these functions.</span>"
   ]
  },
  {
   "cell_type": "markdown",
   "metadata": {},
   "source": [
    "| Function                | Description                                                  |\n",
    "| ----------------------- | ------------------------------------------------------------ |\n",
    "| **lower**()             | Converts strings in the Series/Index to lower case.          |\n",
    "| **upper**()             | Converts strings in the Series/Index to upper case.          |\n",
    "| **len**()               | Computes String length().                                    |\n",
    "| **strip**()             | Helps strip whitespace(including newline) from each string in the Series/index from both the sides. |\n",
    "| **split**(' ')          | Splits each string with the given pattern.                   |\n",
    "| **cat(sep=' ')**        | Concatenates the series/index elements with given separator. |\n",
    "| **get_dummies**()       | Returns the DataFrame with One-Hot Encoded values.           |\n",
    "| **contains(pattern)**   | Returns a Boolean value True for each element if the substring contains in the element, else False. |\n",
    "| **replace(a,b)**        | Replaces the value *a* with the value *b*.                   |\n",
    "| **repeat(value)**       | Repeats each element with specified number of times.         |\n",
    "| **count(pattern)**      | Returns count of appearance of pattern in each element.      |\n",
    "| **startswith(pattern)** | Returns true if the element in the Series/Index starts with the pattern. |\n",
    "| **endswith(pattern)**   | Returns true if the element in the Series/Index ends with the pattern. |\n",
    "| **find(pattern)**       | Returns the first position of the first occurrence of the pattern. |\n",
    "| **findall(pattern)**    | Returns a list of all occurrence of the pattern.             |\n",
    "| **swapcase**            | Swaps the case lower/upper.                                  |\n",
    "| **islower()**           | Checks whether all characters in each string in the Series/Index in lower case or not. Returns Boolean |\n",
    "| **isupper()**           | Checks whether all characters in each string in the Series/Index in upper case or not. Returns Boolean. |\n",
    "| **isnumeric()**         | Checks whether all characters in each string in the Series/Index are numeric. Returns Boolean. |"
   ]
  },
  {
   "cell_type": "markdown",
   "metadata": {},
   "source": [
    "### <span style=\"color:#130654\">Create DataFrame</span>"
   ]
  },
  {
   "cell_type": "markdown",
   "metadata": {},
   "source": [
    "Creating a dataset using dictionary:"
   ]
  },
  {
   "cell_type": "code",
   "execution_count": 2,
   "metadata": {},
   "outputs": [],
   "source": [
    "data = {'emp_name': ['NEHA KULKARNI   ', ' RAJ PANNAL', 'JAY SINHA '],\n",
    "        'dept_name': ['ops', 'product', 'sales'],\n",
    "        'salary': [394800, 400000, 600000]}"
   ]
  },
  {
   "cell_type": "code",
   "execution_count": 3,
   "metadata": {},
   "outputs": [
    {
     "data": {
      "text/plain": [
       "{'emp_name': ['NEHA KULKARNI   ', ' RAJ PANNAL', 'JAY SINHA '],\n",
       " 'dept_name': ['ops', 'product', 'sales'],\n",
       " 'salary': [394800, 400000, 600000]}"
      ]
     },
     "execution_count": 3,
     "metadata": {},
     "output_type": "execute_result"
    }
   ],
   "source": [
    "data"
   ]
  },
  {
   "cell_type": "markdown",
   "metadata": {},
   "source": [
    "Lets create a dataframe with automatic index assigned by pandas."
   ]
  },
  {
   "cell_type": "code",
   "execution_count": 5,
   "metadata": {},
   "outputs": [
    {
     "name": "stdout",
     "output_type": "stream",
     "text": [
      "           emp_name dept_name  salary\n",
      "0  NEHA KULKARNI          ops  394800\n",
      "1        RAJ PANNAL   product  400000\n",
      "2        JAY SINHA      sales  600000\n"
     ]
    }
   ],
   "source": [
    "df = pd.DataFrame(data)\n",
    "print(df)"
   ]
  },
  {
   "cell_type": "markdown",
   "metadata": {},
   "source": [
    "<br>"
   ]
  },
  {
   "cell_type": "markdown",
   "metadata": {},
   "source": [
    "### <span style=\"color:#130654\">String Functions</span>"
   ]
  },
  {
   "cell_type": "markdown",
   "metadata": {},
   "source": [
    "`strip()` - remove the white space from employe name \"NEHA KULKARNI\"."
   ]
  },
  {
   "cell_type": "code",
   "execution_count": 6,
   "metadata": {},
   "outputs": [
    {
     "data": {
      "text/html": [
       "<div>\n",
       "<style scoped>\n",
       "    .dataframe tbody tr th:only-of-type {\n",
       "        vertical-align: middle;\n",
       "    }\n",
       "\n",
       "    .dataframe tbody tr th {\n",
       "        vertical-align: top;\n",
       "    }\n",
       "\n",
       "    .dataframe thead th {\n",
       "        text-align: right;\n",
       "    }\n",
       "</style>\n",
       "<table border=\"1\" class=\"dataframe\">\n",
       "  <thead>\n",
       "    <tr style=\"text-align: right;\">\n",
       "      <th></th>\n",
       "      <th>emp_name</th>\n",
       "      <th>dept_name</th>\n",
       "      <th>salary</th>\n",
       "    </tr>\n",
       "  </thead>\n",
       "  <tbody>\n",
       "    <tr>\n",
       "      <th>0</th>\n",
       "      <td>NEHA KULKARNI</td>\n",
       "      <td>ops</td>\n",
       "      <td>394800</td>\n",
       "    </tr>\n",
       "    <tr>\n",
       "      <th>1</th>\n",
       "      <td>RAJ PANNAL</td>\n",
       "      <td>product</td>\n",
       "      <td>400000</td>\n",
       "    </tr>\n",
       "    <tr>\n",
       "      <th>2</th>\n",
       "      <td>JAY SINHA</td>\n",
       "      <td>sales</td>\n",
       "      <td>600000</td>\n",
       "    </tr>\n",
       "  </tbody>\n",
       "</table>\n",
       "</div>"
      ],
      "text/plain": [
       "        emp_name dept_name  salary\n",
       "0  NEHA KULKARNI       ops  394800\n",
       "1     RAJ PANNAL   product  400000\n",
       "2      JAY SINHA     sales  600000"
      ]
     },
     "execution_count": 6,
     "metadata": {},
     "output_type": "execute_result"
    }
   ],
   "source": [
    "df['emp_name'] = df['emp_name'].str.strip()\n",
    "df"
   ]
  },
  {
   "cell_type": "markdown",
   "metadata": {},
   "source": [
    "`lower()` - convert upper case employee names to lower case"
   ]
  },
  {
   "cell_type": "code",
   "execution_count": 7,
   "metadata": {},
   "outputs": [
    {
     "data": {
      "text/html": [
       "<div>\n",
       "<style scoped>\n",
       "    .dataframe tbody tr th:only-of-type {\n",
       "        vertical-align: middle;\n",
       "    }\n",
       "\n",
       "    .dataframe tbody tr th {\n",
       "        vertical-align: top;\n",
       "    }\n",
       "\n",
       "    .dataframe thead th {\n",
       "        text-align: right;\n",
       "    }\n",
       "</style>\n",
       "<table border=\"1\" class=\"dataframe\">\n",
       "  <thead>\n",
       "    <tr style=\"text-align: right;\">\n",
       "      <th></th>\n",
       "      <th>emp_name</th>\n",
       "      <th>dept_name</th>\n",
       "      <th>salary</th>\n",
       "    </tr>\n",
       "  </thead>\n",
       "  <tbody>\n",
       "    <tr>\n",
       "      <th>0</th>\n",
       "      <td>neha kulkarni</td>\n",
       "      <td>ops</td>\n",
       "      <td>394800</td>\n",
       "    </tr>\n",
       "    <tr>\n",
       "      <th>1</th>\n",
       "      <td>raj pannal</td>\n",
       "      <td>product</td>\n",
       "      <td>400000</td>\n",
       "    </tr>\n",
       "    <tr>\n",
       "      <th>2</th>\n",
       "      <td>jay sinha</td>\n",
       "      <td>sales</td>\n",
       "      <td>600000</td>\n",
       "    </tr>\n",
       "  </tbody>\n",
       "</table>\n",
       "</div>"
      ],
      "text/plain": [
       "        emp_name dept_name  salary\n",
       "0  neha kulkarni       ops  394800\n",
       "1     raj pannal   product  400000\n",
       "2      jay sinha     sales  600000"
      ]
     },
     "execution_count": 7,
     "metadata": {},
     "output_type": "execute_result"
    }
   ],
   "source": [
    "df['emp_name'] = df['emp_name'].str.lower()\n",
    "df"
   ]
  },
  {
   "cell_type": "markdown",
   "metadata": {},
   "source": [
    "`upper()` - convert lower case department names to upper case"
   ]
  },
  {
   "cell_type": "code",
   "execution_count": 8,
   "metadata": {},
   "outputs": [
    {
     "data": {
      "text/html": [
       "<div>\n",
       "<style scoped>\n",
       "    .dataframe tbody tr th:only-of-type {\n",
       "        vertical-align: middle;\n",
       "    }\n",
       "\n",
       "    .dataframe tbody tr th {\n",
       "        vertical-align: top;\n",
       "    }\n",
       "\n",
       "    .dataframe thead th {\n",
       "        text-align: right;\n",
       "    }\n",
       "</style>\n",
       "<table border=\"1\" class=\"dataframe\">\n",
       "  <thead>\n",
       "    <tr style=\"text-align: right;\">\n",
       "      <th></th>\n",
       "      <th>emp_name</th>\n",
       "      <th>dept_name</th>\n",
       "      <th>salary</th>\n",
       "    </tr>\n",
       "  </thead>\n",
       "  <tbody>\n",
       "    <tr>\n",
       "      <th>0</th>\n",
       "      <td>neha kulkarni</td>\n",
       "      <td>OPS</td>\n",
       "      <td>394800</td>\n",
       "    </tr>\n",
       "    <tr>\n",
       "      <th>1</th>\n",
       "      <td>raj pannal</td>\n",
       "      <td>PRODUCT</td>\n",
       "      <td>400000</td>\n",
       "    </tr>\n",
       "    <tr>\n",
       "      <th>2</th>\n",
       "      <td>jay sinha</td>\n",
       "      <td>SALES</td>\n",
       "      <td>600000</td>\n",
       "    </tr>\n",
       "  </tbody>\n",
       "</table>\n",
       "</div>"
      ],
      "text/plain": [
       "        emp_name dept_name  salary\n",
       "0  neha kulkarni       OPS  394800\n",
       "1     raj pannal   PRODUCT  400000\n",
       "2      jay sinha     SALES  600000"
      ]
     },
     "execution_count": 8,
     "metadata": {},
     "output_type": "execute_result"
    }
   ],
   "source": [
    "df['dept_name'] = df['dept_name'].str.upper()\n",
    "df"
   ]
  },
  {
   "cell_type": "markdown",
   "metadata": {},
   "source": [
    "`len()` - find the length of employee names' string"
   ]
  },
  {
   "cell_type": "code",
   "execution_count": 9,
   "metadata": {},
   "outputs": [
    {
     "data": {
      "text/html": [
       "<div>\n",
       "<style scoped>\n",
       "    .dataframe tbody tr th:only-of-type {\n",
       "        vertical-align: middle;\n",
       "    }\n",
       "\n",
       "    .dataframe tbody tr th {\n",
       "        vertical-align: top;\n",
       "    }\n",
       "\n",
       "    .dataframe thead th {\n",
       "        text-align: right;\n",
       "    }\n",
       "</style>\n",
       "<table border=\"1\" class=\"dataframe\">\n",
       "  <thead>\n",
       "    <tr style=\"text-align: right;\">\n",
       "      <th></th>\n",
       "      <th>emp_name</th>\n",
       "      <th>dept_name</th>\n",
       "      <th>salary</th>\n",
       "      <th>empn_len</th>\n",
       "    </tr>\n",
       "  </thead>\n",
       "  <tbody>\n",
       "    <tr>\n",
       "      <th>0</th>\n",
       "      <td>neha kulkarni</td>\n",
       "      <td>OPS</td>\n",
       "      <td>394800</td>\n",
       "      <td>13</td>\n",
       "    </tr>\n",
       "    <tr>\n",
       "      <th>1</th>\n",
       "      <td>raj pannal</td>\n",
       "      <td>PRODUCT</td>\n",
       "      <td>400000</td>\n",
       "      <td>10</td>\n",
       "    </tr>\n",
       "    <tr>\n",
       "      <th>2</th>\n",
       "      <td>jay sinha</td>\n",
       "      <td>SALES</td>\n",
       "      <td>600000</td>\n",
       "      <td>9</td>\n",
       "    </tr>\n",
       "  </tbody>\n",
       "</table>\n",
       "</div>"
      ],
      "text/plain": [
       "        emp_name dept_name  salary  empn_len\n",
       "0  neha kulkarni       OPS  394800        13\n",
       "1     raj pannal   PRODUCT  400000        10\n",
       "2      jay sinha     SALES  600000         9"
      ]
     },
     "execution_count": 9,
     "metadata": {},
     "output_type": "execute_result"
    }
   ],
   "source": [
    "df['empn_len'] = df['emp_name'].str.len()\n",
    "df"
   ]
  },
  {
   "cell_type": "markdown",
   "metadata": {},
   "source": [
    "`split()` - split employee name into his/her first and last name by splitting at \" \"<br>\n",
    "Expand = True, will create columns of splitted text."
   ]
  },
  {
   "cell_type": "code",
   "execution_count": 10,
   "metadata": {},
   "outputs": [
    {
     "data": {
      "text/html": [
       "<div>\n",
       "<style scoped>\n",
       "    .dataframe tbody tr th:only-of-type {\n",
       "        vertical-align: middle;\n",
       "    }\n",
       "\n",
       "    .dataframe tbody tr th {\n",
       "        vertical-align: top;\n",
       "    }\n",
       "\n",
       "    .dataframe thead th {\n",
       "        text-align: right;\n",
       "    }\n",
       "</style>\n",
       "<table border=\"1\" class=\"dataframe\">\n",
       "  <thead>\n",
       "    <tr style=\"text-align: right;\">\n",
       "      <th></th>\n",
       "      <th>emp_name</th>\n",
       "      <th>dept_name</th>\n",
       "      <th>salary</th>\n",
       "      <th>empn_len</th>\n",
       "      <th>first_name</th>\n",
       "      <th>last_name</th>\n",
       "    </tr>\n",
       "  </thead>\n",
       "  <tbody>\n",
       "    <tr>\n",
       "      <th>0</th>\n",
       "      <td>neha kulkarni</td>\n",
       "      <td>OPS</td>\n",
       "      <td>394800</td>\n",
       "      <td>13</td>\n",
       "      <td>neha</td>\n",
       "      <td>kulkarni</td>\n",
       "    </tr>\n",
       "    <tr>\n",
       "      <th>1</th>\n",
       "      <td>raj pannal</td>\n",
       "      <td>PRODUCT</td>\n",
       "      <td>400000</td>\n",
       "      <td>10</td>\n",
       "      <td>raj</td>\n",
       "      <td>pannal</td>\n",
       "    </tr>\n",
       "    <tr>\n",
       "      <th>2</th>\n",
       "      <td>jay sinha</td>\n",
       "      <td>SALES</td>\n",
       "      <td>600000</td>\n",
       "      <td>9</td>\n",
       "      <td>jay</td>\n",
       "      <td>sinha</td>\n",
       "    </tr>\n",
       "  </tbody>\n",
       "</table>\n",
       "</div>"
      ],
      "text/plain": [
       "        emp_name dept_name  salary  empn_len first_name last_name\n",
       "0  neha kulkarni       OPS  394800        13       neha  kulkarni\n",
       "1     raj pannal   PRODUCT  400000        10        raj    pannal\n",
       "2      jay sinha     SALES  600000         9        jay     sinha"
      ]
     },
     "execution_count": 10,
     "metadata": {},
     "output_type": "execute_result"
    }
   ],
   "source": [
    "df[['first_name', 'last_name']] = df['emp_name'].str.split(\" \", expand=True)\n",
    "df"
   ]
  },
  {
   "cell_type": "markdown",
   "metadata": {},
   "source": [
    "Take first 3 chars from first name and last name columns and concatenate them together to create user name"
   ]
  },
  {
   "cell_type": "code",
   "execution_count": 11,
   "metadata": {},
   "outputs": [
    {
     "data": {
      "text/html": [
       "<div>\n",
       "<style scoped>\n",
       "    .dataframe tbody tr th:only-of-type {\n",
       "        vertical-align: middle;\n",
       "    }\n",
       "\n",
       "    .dataframe tbody tr th {\n",
       "        vertical-align: top;\n",
       "    }\n",
       "\n",
       "    .dataframe thead th {\n",
       "        text-align: right;\n",
       "    }\n",
       "</style>\n",
       "<table border=\"1\" class=\"dataframe\">\n",
       "  <thead>\n",
       "    <tr style=\"text-align: right;\">\n",
       "      <th></th>\n",
       "      <th>emp_name</th>\n",
       "      <th>dept_name</th>\n",
       "      <th>salary</th>\n",
       "      <th>empn_len</th>\n",
       "      <th>first_name</th>\n",
       "      <th>last_name</th>\n",
       "      <th>user_name</th>\n",
       "    </tr>\n",
       "  </thead>\n",
       "  <tbody>\n",
       "    <tr>\n",
       "      <th>0</th>\n",
       "      <td>neha kulkarni</td>\n",
       "      <td>OPS</td>\n",
       "      <td>394800</td>\n",
       "      <td>13</td>\n",
       "      <td>neha</td>\n",
       "      <td>kulkarni</td>\n",
       "      <td>neh&amp;kul@email</td>\n",
       "    </tr>\n",
       "    <tr>\n",
       "      <th>1</th>\n",
       "      <td>raj pannal</td>\n",
       "      <td>PRODUCT</td>\n",
       "      <td>400000</td>\n",
       "      <td>10</td>\n",
       "      <td>raj</td>\n",
       "      <td>pannal</td>\n",
       "      <td>raj&amp;pan@email</td>\n",
       "    </tr>\n",
       "    <tr>\n",
       "      <th>2</th>\n",
       "      <td>jay sinha</td>\n",
       "      <td>SALES</td>\n",
       "      <td>600000</td>\n",
       "      <td>9</td>\n",
       "      <td>jay</td>\n",
       "      <td>sinha</td>\n",
       "      <td>jay&amp;sin@email</td>\n",
       "    </tr>\n",
       "  </tbody>\n",
       "</table>\n",
       "</div>"
      ],
      "text/plain": [
       "        emp_name dept_name  salary  empn_len first_name last_name  \\\n",
       "0  neha kulkarni       OPS  394800        13       neha  kulkarni   \n",
       "1     raj pannal   PRODUCT  400000        10        raj    pannal   \n",
       "2      jay sinha     SALES  600000         9        jay     sinha   \n",
       "\n",
       "       user_name  \n",
       "0  neh&kul@email  \n",
       "1  raj&pan@email  \n",
       "2  jay&sin@email  "
      ]
     },
     "execution_count": 11,
     "metadata": {},
     "output_type": "execute_result"
    }
   ],
   "source": [
    "df['user_name'] = df['first_name'].astype(str).str[:3] + \"&\" + df['last_name'].astype(str).str[:3] + \"@email\"\n",
    "df"
   ]
  },
  {
   "cell_type": "markdown",
   "metadata": {},
   "source": [
    "`replace()` - replace \"&\" in column username with \"_\""
   ]
  },
  {
   "cell_type": "code",
   "execution_count": 12,
   "metadata": {},
   "outputs": [
    {
     "data": {
      "text/html": [
       "<div>\n",
       "<style scoped>\n",
       "    .dataframe tbody tr th:only-of-type {\n",
       "        vertical-align: middle;\n",
       "    }\n",
       "\n",
       "    .dataframe tbody tr th {\n",
       "        vertical-align: top;\n",
       "    }\n",
       "\n",
       "    .dataframe thead th {\n",
       "        text-align: right;\n",
       "    }\n",
       "</style>\n",
       "<table border=\"1\" class=\"dataframe\">\n",
       "  <thead>\n",
       "    <tr style=\"text-align: right;\">\n",
       "      <th></th>\n",
       "      <th>emp_name</th>\n",
       "      <th>dept_name</th>\n",
       "      <th>salary</th>\n",
       "      <th>empn_len</th>\n",
       "      <th>first_name</th>\n",
       "      <th>last_name</th>\n",
       "      <th>user_name</th>\n",
       "    </tr>\n",
       "  </thead>\n",
       "  <tbody>\n",
       "    <tr>\n",
       "      <th>0</th>\n",
       "      <td>neha kulkarni</td>\n",
       "      <td>OPS</td>\n",
       "      <td>394800</td>\n",
       "      <td>13</td>\n",
       "      <td>neha</td>\n",
       "      <td>kulkarni</td>\n",
       "      <td>neh_kul@email</td>\n",
       "    </tr>\n",
       "    <tr>\n",
       "      <th>1</th>\n",
       "      <td>raj pannal</td>\n",
       "      <td>PRODUCT</td>\n",
       "      <td>400000</td>\n",
       "      <td>10</td>\n",
       "      <td>raj</td>\n",
       "      <td>pannal</td>\n",
       "      <td>raj_pan@email</td>\n",
       "    </tr>\n",
       "    <tr>\n",
       "      <th>2</th>\n",
       "      <td>jay sinha</td>\n",
       "      <td>SALES</td>\n",
       "      <td>600000</td>\n",
       "      <td>9</td>\n",
       "      <td>jay</td>\n",
       "      <td>sinha</td>\n",
       "      <td>jay_sin@email</td>\n",
       "    </tr>\n",
       "  </tbody>\n",
       "</table>\n",
       "</div>"
      ],
      "text/plain": [
       "        emp_name dept_name  salary  empn_len first_name last_name  \\\n",
       "0  neha kulkarni       OPS  394800        13       neha  kulkarni   \n",
       "1     raj pannal   PRODUCT  400000        10        raj    pannal   \n",
       "2      jay sinha     SALES  600000         9        jay     sinha   \n",
       "\n",
       "       user_name  \n",
       "0  neh_kul@email  \n",
       "1  raj_pan@email  \n",
       "2  jay_sin@email  "
      ]
     },
     "execution_count": 12,
     "metadata": {},
     "output_type": "execute_result"
    }
   ],
   "source": [
    "df['user_name'] = df['user_name'].str.replace(\"&\", \"_\")\n",
    "df"
   ]
  },
  {
   "cell_type": "markdown",
   "metadata": {},
   "source": [
    "`repeat()` - repeat string, if .str is not used then it will repeat vertically"
   ]
  },
  {
   "cell_type": "code",
   "execution_count": 13,
   "metadata": {},
   "outputs": [
    {
     "data": {
      "text/html": [
       "<div>\n",
       "<style scoped>\n",
       "    .dataframe tbody tr th:only-of-type {\n",
       "        vertical-align: middle;\n",
       "    }\n",
       "\n",
       "    .dataframe tbody tr th {\n",
       "        vertical-align: top;\n",
       "    }\n",
       "\n",
       "    .dataframe thead th {\n",
       "        text-align: right;\n",
       "    }\n",
       "</style>\n",
       "<table border=\"1\" class=\"dataframe\">\n",
       "  <thead>\n",
       "    <tr style=\"text-align: right;\">\n",
       "      <th></th>\n",
       "      <th>emp_name</th>\n",
       "      <th>dept_name</th>\n",
       "      <th>salary</th>\n",
       "      <th>empn_len</th>\n",
       "      <th>first_name</th>\n",
       "      <th>last_name</th>\n",
       "      <th>user_name</th>\n",
       "      <th>email_pass</th>\n",
       "    </tr>\n",
       "  </thead>\n",
       "  <tbody>\n",
       "    <tr>\n",
       "      <th>0</th>\n",
       "      <td>neha kulkarni</td>\n",
       "      <td>OPS</td>\n",
       "      <td>394800</td>\n",
       "      <td>13</td>\n",
       "      <td>neha</td>\n",
       "      <td>kulkarni</td>\n",
       "      <td>neh_kul@email</td>\n",
       "      <td>nene1313@ii</td>\n",
       "    </tr>\n",
       "    <tr>\n",
       "      <th>1</th>\n",
       "      <td>raj pannal</td>\n",
       "      <td>PRODUCT</td>\n",
       "      <td>400000</td>\n",
       "      <td>10</td>\n",
       "      <td>raj</td>\n",
       "      <td>pannal</td>\n",
       "      <td>raj_pan@email</td>\n",
       "      <td>rara1010@ll</td>\n",
       "    </tr>\n",
       "    <tr>\n",
       "      <th>2</th>\n",
       "      <td>jay sinha</td>\n",
       "      <td>SALES</td>\n",
       "      <td>600000</td>\n",
       "      <td>9</td>\n",
       "      <td>jay</td>\n",
       "      <td>sinha</td>\n",
       "      <td>jay_sin@email</td>\n",
       "      <td>jaja99@aa</td>\n",
       "    </tr>\n",
       "  </tbody>\n",
       "</table>\n",
       "</div>"
      ],
      "text/plain": [
       "        emp_name dept_name  salary  empn_len first_name last_name  \\\n",
       "0  neha kulkarni       OPS  394800        13       neha  kulkarni   \n",
       "1     raj pannal   PRODUCT  400000        10        raj    pannal   \n",
       "2      jay sinha     SALES  600000         9        jay     sinha   \n",
       "\n",
       "       user_name   email_pass  \n",
       "0  neh_kul@email  nene1313@ii  \n",
       "1  raj_pan@email  rara1010@ll  \n",
       "2  jay_sin@email    jaja99@aa  "
      ]
     },
     "execution_count": 13,
     "metadata": {},
     "output_type": "execute_result"
    }
   ],
   "source": [
    "ch1 = df['first_name'].str[0:2].str.repeat(2)      # takes first 2 characters of first name and repeat twice\n",
    "ch2 = df['empn_len'].astype('str').str.repeat(2)   # convert empn_len to string and repeat twice\n",
    "ch3 = \"@\"\n",
    "ch4 = df['last_name'].str[-1:].str.repeat(2)       # takes last 2 characters of last name and repeat twice\n",
    "\n",
    "df['email_pass'] =  ch1 + ch2 + ch3 + ch4\n",
    "\n",
    "df"
   ]
  },
  {
   "cell_type": "markdown",
   "metadata": {},
   "source": [
    "<br>"
   ]
  },
  {
   "cell_type": "markdown",
   "metadata": {},
   "source": [
    "`get_dummies()` - one hot encoded values"
   ]
  },
  {
   "cell_type": "code",
   "execution_count": 14,
   "metadata": {},
   "outputs": [
    {
     "data": {
      "text/html": [
       "<div>\n",
       "<style scoped>\n",
       "    .dataframe tbody tr th:only-of-type {\n",
       "        vertical-align: middle;\n",
       "    }\n",
       "\n",
       "    .dataframe tbody tr th {\n",
       "        vertical-align: top;\n",
       "    }\n",
       "\n",
       "    .dataframe thead th {\n",
       "        text-align: right;\n",
       "    }\n",
       "</style>\n",
       "<table border=\"1\" class=\"dataframe\">\n",
       "  <thead>\n",
       "    <tr style=\"text-align: right;\">\n",
       "      <th></th>\n",
       "      <th>jay sinha</th>\n",
       "      <th>neha kulkarni</th>\n",
       "      <th>raj pannal</th>\n",
       "    </tr>\n",
       "  </thead>\n",
       "  <tbody>\n",
       "    <tr>\n",
       "      <th>0</th>\n",
       "      <td>0</td>\n",
       "      <td>1</td>\n",
       "      <td>0</td>\n",
       "    </tr>\n",
       "    <tr>\n",
       "      <th>1</th>\n",
       "      <td>0</td>\n",
       "      <td>0</td>\n",
       "      <td>1</td>\n",
       "    </tr>\n",
       "    <tr>\n",
       "      <th>2</th>\n",
       "      <td>1</td>\n",
       "      <td>0</td>\n",
       "      <td>0</td>\n",
       "    </tr>\n",
       "  </tbody>\n",
       "</table>\n",
       "</div>"
      ],
      "text/plain": [
       "   jay sinha  neha kulkarni  raj pannal\n",
       "0          0              1           0\n",
       "1          0              0           1\n",
       "2          1              0           0"
      ]
     },
     "execution_count": 14,
     "metadata": {},
     "output_type": "execute_result"
    }
   ],
   "source": [
    "df['emp_name'].str.get_dummies()"
   ]
  },
  {
   "cell_type": "markdown",
   "metadata": {},
   "source": [
    "`cat()` - concatenate whole employee name column into one continous string joined by \"_\" after each name"
   ]
  },
  {
   "cell_type": "code",
   "execution_count": 15,
   "metadata": {},
   "outputs": [
    {
     "data": {
      "text/plain": [
       "'neha kulkarni_raj pannal_jay sinha'"
      ]
     },
     "execution_count": 15,
     "metadata": {},
     "output_type": "execute_result"
    }
   ],
   "source": [
    "df['emp_name'].str.cat(sep=\"_\")"
   ]
  },
  {
   "cell_type": "markdown",
   "metadata": {},
   "source": [
    "`count()` - count \"a\" in employee names"
   ]
  },
  {
   "cell_type": "code",
   "execution_count": 16,
   "metadata": {},
   "outputs": [
    {
     "data": {
      "text/plain": [
       "0    2\n",
       "1    3\n",
       "2    2\n",
       "Name: emp_name, dtype: int64"
      ]
     },
     "execution_count": 16,
     "metadata": {},
     "output_type": "execute_result"
    }
   ],
   "source": [
    "df['emp_name'].str.count(\"a\")"
   ]
  },
  {
   "cell_type": "markdown",
   "metadata": {},
   "source": [
    "`startswith()` - names which start with 'r'"
   ]
  },
  {
   "cell_type": "code",
   "execution_count": 17,
   "metadata": {},
   "outputs": [
    {
     "data": {
      "text/plain": [
       "0    False\n",
       "1     True\n",
       "2    False\n",
       "Name: emp_name, dtype: bool"
      ]
     },
     "execution_count": 17,
     "metadata": {},
     "output_type": "execute_result"
    }
   ],
   "source": [
    "df['emp_name'].str.startswith(\"r\")"
   ]
  },
  {
   "cell_type": "markdown",
   "metadata": {},
   "source": [
    "`endswith()` - names which ends with 'r'"
   ]
  },
  {
   "cell_type": "code",
   "execution_count": 18,
   "metadata": {},
   "outputs": [
    {
     "data": {
      "text/plain": [
       "0     True\n",
       "1    False\n",
       "2    False\n",
       "Name: emp_name, dtype: bool"
      ]
     },
     "execution_count": 18,
     "metadata": {},
     "output_type": "execute_result"
    }
   ],
   "source": [
    "df['emp_name'].str.endswith(\"i\")"
   ]
  },
  {
   "cell_type": "markdown",
   "metadata": {},
   "source": [
    "`find()` - first occurence of alphabet 'a' in the employee name. <br>\n",
    "Starts with 0."
   ]
  },
  {
   "cell_type": "code",
   "execution_count": 19,
   "metadata": {},
   "outputs": [
    {
     "data": {
      "text/plain": [
       "0    3\n",
       "1    1\n",
       "2    1\n",
       "Name: emp_name, dtype: int64"
      ]
     },
     "execution_count": 19,
     "metadata": {},
     "output_type": "execute_result"
    }
   ],
   "source": [
    "df['emp_name'].str.find(\"a\")"
   ]
  },
  {
   "cell_type": "markdown",
   "metadata": {},
   "source": [
    "`findall()` - all occurence of \"a\" in names as list."
   ]
  },
  {
   "cell_type": "code",
   "execution_count": 20,
   "metadata": {},
   "outputs": [
    {
     "data": {
      "text/plain": [
       "0       [a, a]\n",
       "1    [a, a, a]\n",
       "2       [a, a]\n",
       "Name: emp_name, dtype: object"
      ]
     },
     "execution_count": 20,
     "metadata": {},
     "output_type": "execute_result"
    }
   ],
   "source": [
    "df['emp_name'].str.findall(\"a\")"
   ]
  },
  {
   "cell_type": "markdown",
   "metadata": {},
   "source": [
    "`islower()` - check if employee name is in lower case."
   ]
  },
  {
   "cell_type": "code",
   "execution_count": 21,
   "metadata": {},
   "outputs": [
    {
     "data": {
      "text/plain": [
       "0    True\n",
       "1    True\n",
       "2    True\n",
       "Name: emp_name, dtype: bool"
      ]
     },
     "execution_count": 21,
     "metadata": {},
     "output_type": "execute_result"
    }
   ],
   "source": [
    "df['emp_name'].str.islower()"
   ]
  },
  {
   "cell_type": "markdown",
   "metadata": {},
   "source": [
    "`isupper()` - check if employee name is in upper case."
   ]
  },
  {
   "cell_type": "code",
   "execution_count": 22,
   "metadata": {},
   "outputs": [
    {
     "data": {
      "text/plain": [
       "0    False\n",
       "1    False\n",
       "2    False\n",
       "Name: emp_name, dtype: bool"
      ]
     },
     "execution_count": 22,
     "metadata": {},
     "output_type": "execute_result"
    }
   ],
   "source": [
    "df['emp_name'].str.isupper()"
   ]
  },
  {
   "cell_type": "markdown",
   "metadata": {},
   "source": [
    "`isnumeric()` - check if salary column is has numeric values."
   ]
  },
  {
   "cell_type": "code",
   "execution_count": 23,
   "metadata": {},
   "outputs": [
    {
     "data": {
      "text/plain": [
       "0    True\n",
       "1    True\n",
       "2    True\n",
       "Name: salary, dtype: bool"
      ]
     },
     "execution_count": 23,
     "metadata": {},
     "output_type": "execute_result"
    }
   ],
   "source": [
    "df['salary'].astype('str').str.isnumeric()"
   ]
  }
 ],
 "metadata": {
  "kernelspec": {
   "display_name": "Python 3",
   "language": "python",
   "name": "python3"
  },
  "language_info": {
   "codemirror_mode": {
    "name": "ipython",
    "version": 3
   },
   "file_extension": ".py",
   "mimetype": "text/x-python",
   "name": "python",
   "nbconvert_exporter": "python",
   "pygments_lexer": "ipython3",
   "version": "3.8.5"
  }
 },
 "nbformat": 4,
 "nbformat_minor": 4
}
