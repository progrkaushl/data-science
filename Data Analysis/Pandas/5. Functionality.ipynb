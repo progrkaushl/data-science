{
 "cells": [
  {
   "cell_type": "markdown",
   "metadata": {},
   "source": [
    "# <span style=\"color:#130654; font-family: Helvetica; font-size: 200%; font-weight:700\"> Pandas | <span style=\"font-size: 50%; font-weight:300\">Functionality</span>"
   ]
  },
  {
   "cell_type": "markdown",
   "metadata": {},
   "source": [
    "To use pandas in python import it first by using the following command:"
   ]
  },
  {
   "cell_type": "code",
   "execution_count": 1,
   "metadata": {},
   "outputs": [],
   "source": [
    "# import pandas\n",
    "import pandas as pd\n",
    "\n",
    "# import other libraries here\n",
    "import numpy as np"
   ]
  },
  {
   "cell_type": "markdown",
   "metadata": {},
   "source": [
    "<br>"
   ]
  },
  {
   "cell_type": "markdown",
   "metadata": {},
   "source": [
    "## <span style=\"color:#130654\">Basic Functions</span>"
   ]
  },
  {
   "cell_type": "markdown",
   "metadata": {},
   "source": [
    "These are the basic functions in `pandas` for working with `series` and `dataframe`:"
   ]
  },
  {
   "cell_type": "markdown",
   "metadata": {},
   "source": [
    "| Functionality | Series                          | DataFerame        |\n",
    "| :-----------: | --------------------------------| ------------------|\n",
    "| **T**         | <span style=\"color:red\">Does nothing for series.</span> | Transposes rows and columns. |\n",
    "| **axes**      | Returns a list of the row axis labels. | Returns a list with the row axis labels and column axis labels as the only members. |\n",
    "| **dtypes**    | Returns the dtype/dtypes of series.| Returns the dtypes in this object.                           |\n",
    "| **empty**     | Returns True if series is empty.| True if NDFrame is entirely empty [no items]; if any of the axes are of length 0. |\n",
    "| **ndim**      | Returns the number of dimensions of the underlying data, by definition 1. | Number of axes / array dimensions. |\n",
    "| **shape**     | <span style=\"color:red\">Return number of rows.</span> | Returns a tuple representing the dimensionality of the DataFrame. |\n",
    "| **size**      | <span style=\"color:red\">Return number of rows.</span>  | Number of elements in the NDFrame.|\n",
    "| **values**    | Returns the Series as ndarray.| Numpy representation of NDFrame.|\n",
    "| **head()**    | Returns the first n rows.| Returns the first n rows.|\n",
    "| **tail()**    | Returns the last n rows. | Returns last n rows.|"
   ]
  },
  {
   "cell_type": "markdown",
   "metadata": {},
   "source": [
    "*Examples:*"
   ]
  },
  {
   "cell_type": "markdown",
   "metadata": {},
   "source": [
    "Let's start with creating a `series` and a `dataframe`:"
   ]
  },
  {
   "cell_type": "code",
   "execution_count": 2,
   "metadata": {},
   "outputs": [
    {
     "name": "stdout",
     "output_type": "stream",
     "text": [
      "Created series is:\n",
      " a    1\n",
      "b    2\n",
      "c    3\n",
      "d    4\n",
      "e    5\n",
      "dtype: int64 \n",
      "\n",
      "Created dataframe is:\n",
      "    one  two  three\n",
      "a  1.0  1.0      1\n",
      "b  2.0  2.0      2\n",
      "c  3.0  3.0      3\n",
      "d  NaN  4.0      4\n",
      "e  NaN  NaN      5\n"
     ]
    }
   ],
   "source": [
    "# creating a series\n",
    "series = pd.Series([1,2,3,4,5],index = ['a','b','c','d','e'])\n",
    "print(\"Created series is:\\n\", series, \"\\n\")\n",
    "\n",
    "# creating a dataframe\n",
    "data = {'one' : pd.Series([1, 2, 3], index=['a', 'b', 'c']),\n",
    "        'two' : pd.Series([1, 2, 3, 4], index=['a', 'b', 'c', 'd']),\n",
    "        'three' : pd.Series([1, 2, 3, 4, 5], index=['a', 'b', 'c', 'd', 'e'])}\n",
    "\n",
    "df = pd.DataFrame(data, dtype=\"int64\")\n",
    "print(\"Created dataframe is:\\n\", df)"
   ]
  },
  {
   "cell_type": "markdown",
   "metadata": {},
   "source": [
    "Functions common for both Series and DataFrame:tail"
   ]
  },
  {
   "cell_type": "code",
   "execution_count": 3,
   "metadata": {},
   "outputs": [
    {
     "name": "stdout",
     "output_type": "stream",
     "text": [
      "Series axes:\n",
      " [Index(['a', 'b', 'c', 'd', 'e'], dtype='object')] \n",
      "\n",
      "DataFrame axes:\n",
      " [Index(['a', 'b', 'c', 'd', 'e'], dtype='object'), Index(['one', 'two', 'three'], dtype='object')]\n"
     ]
    }
   ],
   "source": [
    "# 1. axes\n",
    "\n",
    "s = series.axes\n",
    "print(\"Series axes:\\n\", s, \"\\n\")\n",
    "\n",
    "d = df.axes\n",
    "print(\"DataFrame axes:\\n\", d)"
   ]
  },
  {
   "cell_type": "code",
   "execution_count": 4,
   "metadata": {},
   "outputs": [
    {
     "name": "stdout",
     "output_type": "stream",
     "text": [
      "Series dtype:\n",
      " int64 \n",
      "\n",
      "DataFrame dtype:\n",
      " one      float64\n",
      "two      float64\n",
      "three      int64\n",
      "dtype: object\n"
     ]
    }
   ],
   "source": [
    "# 2. dtypes\n",
    "# for series both `dtype` and `dtypes` will work, for dataframe only `dtypes` work\n",
    "\n",
    "s = series.dtypes\n",
    "print(\"Series dtype:\\n\", s, \"\\n\")\n",
    "\n",
    "d = df.dtypes\n",
    "print(\"DataFrame dtype:\\n\", d)"
   ]
  },
  {
   "cell_type": "markdown",
   "metadata": {},
   "source": [
    "##### Common dtypes in Pandas\n",
    "\n",
    "|**Pandas dtype**|Python type|NumPy type|Usage|\n",
    "|:-------------------:|-------------------|-------------------|-------------------|\n",
    "|**object**|str or mixed|string_, unicode_, mixed types|Text or mixed numeric and non-numeric values|\n",
    "|**int64**|int|int_, int8, int16, int32, int64, uint8, uint16, uint32, uint64|Integer numbers|\n",
    "|**float64**|float|float_, float16, float32, float64|Floating point numbers|\n",
    "|**bool**|bool|bool_|True/False values|\n",
    "|**datetime64**|<span style=\"color:red\">NA</span>|datetime64[ns]|Date and time values|\n",
    "|**timedelta[ns]**|<span style=\"color:red\">NA</span>|<span style=\"color:red\">NA</span>|Differences between two datetimes|\n",
    "|**category**|<span style=\"color:red\">NA</span>|<span style=\"color:red\">NA</span>|Finite list of text values|"
   ]
  },
  {
   "cell_type": "code",
   "execution_count": 5,
   "metadata": {},
   "outputs": [
    {
     "name": "stdout",
     "output_type": "stream",
     "text": [
      "Series empty:\n",
      " False \n",
      "\n",
      "DataFrame empty:\n",
      " False\n"
     ]
    }
   ],
   "source": [
    "# 3. empty\n",
    "\n",
    "s = series.empty\n",
    "print(\"Series empty:\\n\", s, \"\\n\")\n",
    "\n",
    "d = df.empty\n",
    "print(\"DataFrame empty:\\n\", d)"
   ]
  },
  {
   "cell_type": "code",
   "execution_count": 6,
   "metadata": {},
   "outputs": [
    {
     "name": "stdout",
     "output_type": "stream",
     "text": [
      "Series ndim:\n",
      " 1 \n",
      "\n",
      "DataFrame ndim:\n",
      " 2\n"
     ]
    }
   ],
   "source": [
    "# 4. ndim\n",
    "\n",
    "s = series.ndim\n",
    "print(\"Series ndim:\\n\", s, \"\\n\")\n",
    "\n",
    "d = df.ndim\n",
    "print(\"DataFrame ndim:\\n\", d)"
   ]
  },
  {
   "cell_type": "code",
   "execution_count": 7,
   "metadata": {},
   "outputs": [
    {
     "name": "stdout",
     "output_type": "stream",
     "text": [
      "Series shape:\n",
      " (5,) \n",
      "\n",
      "DataFrame shape:\n",
      " (5, 3)\n"
     ]
    }
   ],
   "source": [
    "# 5. shape\n",
    "# shape is represented as (# of rows, # of columns)\n",
    "# series doesn't have columns\n",
    "\n",
    "s = series.shape\n",
    "print(\"Series shape:\\n\", s, \"\\n\")\n",
    "\n",
    "d = df.shape\n",
    "print(\"DataFrame shape:\\n\", d)"
   ]
  },
  {
   "cell_type": "code",
   "execution_count": 8,
   "metadata": {},
   "outputs": [
    {
     "name": "stdout",
     "output_type": "stream",
     "text": [
      "Series size:\n",
      " 5 \n",
      "\n",
      "DataFrame size:\n",
      " 15\n"
     ]
    }
   ],
   "source": [
    "# 6. size\n",
    "# size is represented as (# of rows x # of columns)\n",
    "# series doesn't have columns\n",
    "\n",
    "\n",
    "s = series.size\n",
    "print(\"Series size:\\n\", s, \"\\n\")\n",
    "\n",
    "d = df.size\n",
    "print(\"DataFrame size:\\n\", d)"
   ]
  },
  {
   "cell_type": "code",
   "execution_count": 9,
   "metadata": {},
   "outputs": [
    {
     "name": "stdout",
     "output_type": "stream",
     "text": [
      "Series values:\n",
      " [1 2 3 4 5] \n",
      "\n",
      "DataFrame values:\n",
      " [[ 1.  1.  1.]\n",
      " [ 2.  2.  2.]\n",
      " [ 3.  3.  3.]\n",
      " [nan  4.  4.]\n",
      " [nan nan  5.]]\n"
     ]
    }
   ],
   "source": [
    "# 7. values\n",
    "\n",
    "s = series.values\n",
    "print(\"Series values:\\n\", s, \"\\n\")\n",
    "\n",
    "d = df.values\n",
    "print(\"DataFrame values:\\n\", d)"
   ]
  },
  {
   "cell_type": "code",
   "execution_count": 10,
   "metadata": {},
   "outputs": [
    {
     "name": "stdout",
     "output_type": "stream",
     "text": [
      "Series head:\n",
      " a    1\n",
      "b    2\n",
      "dtype: int64 \n",
      "\n",
      "DataFrame head:\n",
      "    one  two  three\n",
      "a  1.0  1.0      1\n",
      "b  2.0  2.0      2\n"
     ]
    }
   ],
   "source": [
    "# 8. head()\n",
    "\n",
    "s = series.head(2)\n",
    "print(\"Series head:\\n\", s, \"\\n\")\n",
    "\n",
    "d = df.head(2)\n",
    "print(\"DataFrame head:\\n\", d)"
   ]
  },
  {
   "cell_type": "code",
   "execution_count": 11,
   "metadata": {},
   "outputs": [
    {
     "name": "stdout",
     "output_type": "stream",
     "text": [
      "Series head:\n",
      " d    4\n",
      "e    5\n",
      "dtype: int64 \n",
      "\n",
      "DataFrame head:\n",
      "    one  two  three\n",
      "d  NaN  4.0      4\n",
      "e  NaN  NaN      5\n"
     ]
    }
   ],
   "source": [
    "# 9. tail()\n",
    "\n",
    "s = series.tail(2)\n",
    "print(\"Series head:\\n\", s, \"\\n\")\n",
    "\n",
    "d = df.tail(2)\n",
    "print(\"DataFrame head:\\n\", d)"
   ]
  },
  {
   "cell_type": "code",
   "execution_count": 12,
   "metadata": {},
   "outputs": [
    {
     "name": "stdout",
     "output_type": "stream",
     "text": [
      "Series Transpose:\n",
      " a    1\n",
      "b    2\n",
      "c    3\n",
      "d    4\n",
      "e    5\n",
      "dtype: int64 \n",
      "\n",
      "DataFrame Transpose:\n",
      "          a    b    c    d    e\n",
      "one    1.0  2.0  3.0  NaN  NaN\n",
      "two    1.0  2.0  3.0  4.0  NaN\n",
      "three  1.0  2.0  3.0  4.0  5.0\n"
     ]
    }
   ],
   "source": [
    "# 10. T or Transpose\n",
    "\n",
    "s = series.T\n",
    "print(\"Series Transpose:\\n\", s, \"\\n\")\n",
    "\n",
    "d = df.T\n",
    "print(\"DataFrame Transpose:\\n\", d)"
   ]
  },
  {
   "cell_type": "markdown",
   "metadata": {},
   "source": [
    "<br>"
   ]
  },
  {
   "cell_type": "markdown",
   "metadata": {},
   "source": [
    "## <span style=\"color:#130654\">Function Application</span>"
   ]
  },
  {
   "cell_type": "markdown",
   "metadata": {},
   "source": [
    "- Function application is used to <u>apply your own or another library’s functions to Pandas objects</u>\n",
    "- There are 3 types of FAs depending upon the object where they will be applied i.e dataframe, row or column, and elements.\n",
    "\n",
    "| Function | Usage|\n",
    "|:--------:|------|\n",
    "|**pipe()**|Table wise Function Application.|\n",
    "|**apply()**|Row or Column Wise Function Application.|\n",
    "|**applymap()**|Element wise Function Application.|"
   ]
  },
  {
   "cell_type": "markdown",
   "metadata": {},
   "source": [
    "### Tablewise Function Application"
   ]
  },
  {
   "cell_type": "markdown",
   "metadata": {},
   "source": [
    "Custom operations can be performed by passing the function and the appropriate number of parameters as pipe arguments. \n",
    "*Syntax:*\n",
    "```python\n",
    "DataFrame.pipe(self, func, *args, **kwargs)\n",
    "```\n",
    "\n",
    "| Name   | Description                                                  | Type | Required |\n",
    "| :----- :| :----------------------------------------------------------- | :----------------- | :------------------ |\n",
    "| **func**   | function to apply to the Series/DataFrame. args, and kwargs are passed into func. Alternatively a (callable, data_keyword) tuple where data_keyword is a string indicating the keyword of callable that expects the Series/DataFrame. | function           | Required            |\n",
    "| **args**   | positional arguments passed into func.                       | iterable           | Optional            |\n",
    "| **kwargs** | a dictionary of keyword arguments passed into func.          | mapping            | Optional            |\n",
    "\n",
    "*Example:*"
   ]
  },
  {
   "cell_type": "code",
   "execution_count": 13,
   "metadata": {},
   "outputs": [
    {
     "name": "stdout",
     "output_type": "stream",
     "text": [
      "Normal DataFrame:\n",
      "    one  two  three\n",
      "a  1.0  1.0      1\n",
      "b  2.0  2.0      2\n",
      "c  3.0  3.0      3\n",
      "d  NaN  4.0      4\n",
      "e  NaN  NaN      5\n",
      "\n",
      "\n",
      "DataFrame with Pipe:\n",
      "    one  two  three\n",
      "a  2.0  2.0      2\n",
      "b  4.0  4.0      4\n",
      "c  6.0  6.0      6\n",
      "d  NaN  8.0      8\n",
      "e  NaN  NaN     10\n"
     ]
    }
   ],
   "source": [
    "# Lets create a custom function which will double any argument it takes\n",
    "def double(x):\n",
    "    return x * 2\n",
    "\n",
    "# Now use the pipe() FA and apply it with double() function on dataframe df\n",
    "df_pipe =  df.pipe(double)\n",
    "\n",
    "print(\"Normal DataFrame:\\n\", df)\n",
    "print(\"\\n\")\n",
    "print(\"DataFrame with Pipe:\\n\", df_pipe)"
   ]
  },
  {
   "cell_type": "markdown",
   "metadata": {},
   "source": [
    "Notice how values of original dataframe `df` are doubled using `pipe()` and printed as second dataframe `df_pipe`. Here `double()` function is applied for each row and column in the dataframe through `pipe()`. "
   ]
  },
  {
   "cell_type": "markdown",
   "metadata": {},
   "source": [
    "### Row or Column Wise Function Application"
   ]
  },
  {
   "cell_type": "markdown",
   "metadata": {},
   "source": [
    "- The apply() function is used to apply a function along an axis of the DataFrame.\n",
    "- Objects passed to the function are Series objects whose index is either the DataFrame’s index (axis=0) or the DataFrame’s columns (axis=1).\n",
    "- By default (result_type=None), the final return type is inferred from the return type of the applied function. Otherwise, it depends on the result_type argument.\n",
    "\n",
    "<div style=\"text-align:centeR\">\n",
    "    <img src=\"./img/pandas-dataframe-apply.png\" width=300 height=200 />\n",
    "    <img src=\"./img/pandas-dataframe-apply-1.png\" width=300 height=200 />\n",
    "</div>\n",
    "\n",
    "*Syntax:*\n",
    "```python\n",
    "DataFrame.apply(self, func, axis=0, broadcast=None, raw=False, reduce=None, result_type=None, args=(), **kwds)\n",
    "```\n",
    "\n",
    "|      Name       | Description                                                  | Type                                  | Required |\n",
    "| :-------------: | :----------------------------------------------------------- | :------------------------------------ | :------- |\n",
    "|    **func**     | Function to apply to each column or row.                     | function                              | Required |\n",
    "|    **axis**     | Axis along which the function is applied: 0 or ‘index’ and 1 or ‘columns’ | 0 or ‘index’, 1 or ‘columns’}         | Required |\n",
    "|     **raw**     | False : passes each row or column as a Series to the function.True : the passed function will receive ndarray objects instead. | bool                                  | Required |\n",
    "| **result_type** | These only act when axis=1 (columns):<br />1. ‘expand’ : list-like results will be turned into columns.<br />2. 'reduce' : returns a Series if possible rather than expanding list-like results. This is the opposite of ‘expand’.<br />3. 'broadcast' : results will be broadcast to the original shape of the DataFrame, the original index and columns will be retained.<br /><br />The default behaviour (None) depends on the return value of the applied function: list-like results will be returned as a Series of those. However if the apply function returns a Series these are expanded to columns. | 'expand', 'reduce', 'broadcast', None | Required |\n",
    "|    **args**     | Positional arguments to pass to func in addition to the array/series. | tuple                                 | Required |\n",
    "|   ****kwds**    | Additional keyword arguments to pass as keywords arguments to func. | ----                                  | Required |\n",
    "\n",
    "*Example:*"
   ]
  },
  {
   "cell_type": "code",
   "execution_count": 15,
   "metadata": {},
   "outputs": [
    {
     "data": {
      "text/html": [
       "<div>\n",
       "<style scoped>\n",
       "    .dataframe tbody tr th:only-of-type {\n",
       "        vertical-align: middle;\n",
       "    }\n",
       "\n",
       "    .dataframe tbody tr th {\n",
       "        vertical-align: top;\n",
       "    }\n",
       "\n",
       "    .dataframe thead th {\n",
       "        text-align: right;\n",
       "    }\n",
       "</style>\n",
       "<table border=\"1\" class=\"dataframe\">\n",
       "  <thead>\n",
       "    <tr style=\"text-align: right;\">\n",
       "      <th></th>\n",
       "      <th>one</th>\n",
       "      <th>two</th>\n",
       "      <th>three</th>\n",
       "    </tr>\n",
       "  </thead>\n",
       "  <tbody>\n",
       "    <tr>\n",
       "      <th>a</th>\n",
       "      <td>1.0</td>\n",
       "      <td>1.0</td>\n",
       "      <td>1</td>\n",
       "    </tr>\n",
       "    <tr>\n",
       "      <th>b</th>\n",
       "      <td>2.0</td>\n",
       "      <td>2.0</td>\n",
       "      <td>2</td>\n",
       "    </tr>\n",
       "    <tr>\n",
       "      <th>c</th>\n",
       "      <td>3.0</td>\n",
       "      <td>3.0</td>\n",
       "      <td>3</td>\n",
       "    </tr>\n",
       "    <tr>\n",
       "      <th>d</th>\n",
       "      <td>NaN</td>\n",
       "      <td>4.0</td>\n",
       "      <td>4</td>\n",
       "    </tr>\n",
       "    <tr>\n",
       "      <th>e</th>\n",
       "      <td>NaN</td>\n",
       "      <td>NaN</td>\n",
       "      <td>5</td>\n",
       "    </tr>\n",
       "  </tbody>\n",
       "</table>\n",
       "</div>"
      ],
      "text/plain": [
       "   one  two  three\n",
       "a  1.0  1.0      1\n",
       "b  2.0  2.0      2\n",
       "c  3.0  3.0      3\n",
       "d  NaN  4.0      4\n",
       "e  NaN  NaN      5"
      ]
     },
     "execution_count": 15,
     "metadata": {},
     "output_type": "execute_result"
    }
   ],
   "source": [
    "df"
   ]
  },
  {
   "cell_type": "code",
   "execution_count": 20,
   "metadata": {},
   "outputs": [
    {
     "data": {
      "text/plain": [
       "one       6.0\n",
       "two      10.0\n",
       "three    15.0\n",
       "dtype: float64"
      ]
     },
     "execution_count": 20,
     "metadata": {},
     "output_type": "execute_result"
    }
   ],
   "source": [
    "# Lets apply sum on columns\n",
    "df.apply(np.sum, axis=0)"
   ]
  },
  {
   "cell_type": "markdown",
   "metadata": {},
   "source": [
    "*Ignoring index cell with `NaN`*\n",
    "- for column `one` = index a + index b + index c = 1 + 2 + 3 = 6\n",
    "- for column `two` = index a + index b + index c + index d = 1 + 2 + 3 + 4 = 10\n",
    "- for column `three` = index a + index b + index c +  + index e = 1 + 2 + 3 + 4 + 5 = 15"
   ]
  },
  {
   "cell_type": "code",
   "execution_count": 21,
   "metadata": {},
   "outputs": [
    {
     "data": {
      "text/plain": [
       "a    3.0\n",
       "b    6.0\n",
       "c    9.0\n",
       "d    8.0\n",
       "e    5.0\n",
       "dtype: float64"
      ]
     },
     "execution_count": 21,
     "metadata": {},
     "output_type": "execute_result"
    }
   ],
   "source": [
    "# Lets apply sum on row\n",
    "df.apply(np.sum, axis=1)"
   ]
  },
  {
   "cell_type": "markdown",
   "metadata": {},
   "source": [
    "*Ignoring column cell with `NaN`*\n",
    "- for index `a` = col one + col two + col three = 1 + 1 + 1 = 3\n",
    "- for index `b` = col one + col two + col three = 2 + 2 + 2 = 6\n",
    "- for index `c` = col one + col two + col three = 3 + 3 + 3 = 9\n",
    "- for index `d` = col two + col three = 4 + 4 = 8\n",
    "- for index `e` = col three = 5 = 5"
   ]
  },
  {
   "cell_type": "markdown",
   "metadata": {},
   "source": [
    "### Element Wise Function Application"
   ]
  },
  {
   "cell_type": "markdown",
   "metadata": {},
   "source": [
    "- The applymap() function is used to apply a function to a Dataframe elementwise.\n",
    "- This method applies a function that accepts and returns a scalar to every element of a DataFrame\n",
    "\n",
    "*Syntax:*\n",
    "```python\n",
    "DataFrame.applymap(self, func)\n",
    "```\n",
    "\n",
    "|   Name   | Description                                                  | Type     | Required |\n",
    "| :------: | :----------------------------------------------------------- | :------- | :------- |\n",
    "| **func** | Python function, returns a single value from a single value. | callable | Required |\n",
    "\n",
    "*Example:*"
   ]
  },
  {
   "cell_type": "code",
   "execution_count": 22,
   "metadata": {},
   "outputs": [
    {
     "data": {
      "text/html": [
       "<div>\n",
       "<style scoped>\n",
       "    .dataframe tbody tr th:only-of-type {\n",
       "        vertical-align: middle;\n",
       "    }\n",
       "\n",
       "    .dataframe tbody tr th {\n",
       "        vertical-align: top;\n",
       "    }\n",
       "\n",
       "    .dataframe thead th {\n",
       "        text-align: right;\n",
       "    }\n",
       "</style>\n",
       "<table border=\"1\" class=\"dataframe\">\n",
       "  <thead>\n",
       "    <tr style=\"text-align: right;\">\n",
       "      <th></th>\n",
       "      <th>one</th>\n",
       "      <th>two</th>\n",
       "      <th>three</th>\n",
       "    </tr>\n",
       "  </thead>\n",
       "  <tbody>\n",
       "    <tr>\n",
       "      <th>a</th>\n",
       "      <td>2.0</td>\n",
       "      <td>2.0</td>\n",
       "      <td>2</td>\n",
       "    </tr>\n",
       "    <tr>\n",
       "      <th>b</th>\n",
       "      <td>4.0</td>\n",
       "      <td>4.0</td>\n",
       "      <td>4</td>\n",
       "    </tr>\n",
       "    <tr>\n",
       "      <th>c</th>\n",
       "      <td>6.0</td>\n",
       "      <td>6.0</td>\n",
       "      <td>6</td>\n",
       "    </tr>\n",
       "    <tr>\n",
       "      <th>d</th>\n",
       "      <td>NaN</td>\n",
       "      <td>8.0</td>\n",
       "      <td>8</td>\n",
       "    </tr>\n",
       "    <tr>\n",
       "      <th>e</th>\n",
       "      <td>NaN</td>\n",
       "      <td>NaN</td>\n",
       "      <td>10</td>\n",
       "    </tr>\n",
       "  </tbody>\n",
       "</table>\n",
       "</div>"
      ],
      "text/plain": [
       "   one  two  three\n",
       "a  2.0  2.0      2\n",
       "b  4.0  4.0      4\n",
       "c  6.0  6.0      6\n",
       "d  NaN  8.0      8\n",
       "e  NaN  NaN     10"
      ]
     },
     "execution_count": 22,
     "metadata": {},
     "output_type": "execute_result"
    }
   ],
   "source": [
    "df.applymap(lambda x: x*2)"
   ]
  },
  {
   "cell_type": "code",
   "execution_count": 23,
   "metadata": {},
   "outputs": [
    {
     "data": {
      "text/html": [
       "<div>\n",
       "<style scoped>\n",
       "    .dataframe tbody tr th:only-of-type {\n",
       "        vertical-align: middle;\n",
       "    }\n",
       "\n",
       "    .dataframe tbody tr th {\n",
       "        vertical-align: top;\n",
       "    }\n",
       "\n",
       "    .dataframe thead th {\n",
       "        text-align: right;\n",
       "    }\n",
       "</style>\n",
       "<table border=\"1\" class=\"dataframe\">\n",
       "  <thead>\n",
       "    <tr style=\"text-align: right;\">\n",
       "      <th></th>\n",
       "      <th>one</th>\n",
       "      <th>two</th>\n",
       "      <th>three</th>\n",
       "    </tr>\n",
       "  </thead>\n",
       "  <tbody>\n",
       "    <tr>\n",
       "      <th>a</th>\n",
       "      <td>3</td>\n",
       "      <td>3</td>\n",
       "      <td>1</td>\n",
       "    </tr>\n",
       "    <tr>\n",
       "      <th>b</th>\n",
       "      <td>3</td>\n",
       "      <td>3</td>\n",
       "      <td>1</td>\n",
       "    </tr>\n",
       "    <tr>\n",
       "      <th>c</th>\n",
       "      <td>3</td>\n",
       "      <td>3</td>\n",
       "      <td>1</td>\n",
       "    </tr>\n",
       "    <tr>\n",
       "      <th>d</th>\n",
       "      <td>3</td>\n",
       "      <td>3</td>\n",
       "      <td>1</td>\n",
       "    </tr>\n",
       "    <tr>\n",
       "      <th>e</th>\n",
       "      <td>3</td>\n",
       "      <td>3</td>\n",
       "      <td>1</td>\n",
       "    </tr>\n",
       "  </tbody>\n",
       "</table>\n",
       "</div>"
      ],
      "text/plain": [
       "   one  two  three\n",
       "a    3    3      1\n",
       "b    3    3      1\n",
       "c    3    3      1\n",
       "d    3    3      1\n",
       "e    3    3      1"
      ]
     },
     "execution_count": 23,
     "metadata": {},
     "output_type": "execute_result"
    }
   ],
   "source": [
    "df.applymap(lambda x: len(str(x)))"
   ]
  }
 ],
 "metadata": {
  "kernelspec": {
   "display_name": "Python 3",
   "language": "python",
   "name": "python3"
  },
  "language_info": {
   "codemirror_mode": {
    "name": "ipython",
    "version": 3
   },
   "file_extension": ".py",
   "mimetype": "text/x-python",
   "name": "python",
   "nbconvert_exporter": "python",
   "pygments_lexer": "ipython3",
   "version": "3.8.5"
  }
 },
 "nbformat": 4,
 "nbformat_minor": 4
}
