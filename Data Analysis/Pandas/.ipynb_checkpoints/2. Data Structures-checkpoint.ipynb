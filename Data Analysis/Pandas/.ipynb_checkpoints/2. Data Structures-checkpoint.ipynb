{
 "cells": [
  {
   "cell_type": "markdown",
   "metadata": {},
   "source": [
    "# <span style=\"color:#130654; font-family: Helvetica; font-size: 200%; font-weight:700\"> Pandas | <span style=\"font-size: 50%; font-weight:300\">Data Structures</span>"
   ]
  },
  {
   "cell_type": "markdown",
   "metadata": {},
   "source": [
    "To use pandas in python import it first by using the following command:"
   ]
  },
  {
   "cell_type": "code",
   "execution_count": 1,
   "metadata": {},
   "outputs": [],
   "source": [
    "# import pandas\n",
    "import pandas as pd\n",
    "\n",
    "# import other libraries here\n",
    "import numpy as np"
   ]
  },
  {
   "cell_type": "markdown",
   "metadata": {},
   "source": [
    "## <span style=\"color:#130654\">Data Structures</span>\n",
    "\n",
    "- Pandas deals with 3 data structures that are <u>built on Numpy array</u> (which means they are fast).\n",
    "- Higher dimensional data structure is a container of its lower dimensional data structure. \n",
    "\n",
    "|Data Structure |Dimension |Data Type   |Size      |Data     |\n",
    "|:-------------:|----------|------------|----------|---------|\n",
    "|**Series**     |1D        |<span style=\"color:red\">Homogeneous</span> |<span style=\"color:red\">Immutable</span>|Mutable  |\n",
    "|**DataFrame**  |2D        |Hetrogeneous|Mutable   |Mutable  |\n",
    "|**Panel**      |3D        |Hetrogeneous|Mutable   |Mutable  |\n",
    "\n",
    "All Pandas data structures are value mutable (can be changed) and except Series all are size mutable.\n",
    "\n",
    "- Panel, container of:\n",
    "    - DataFrame, container of:\n",
    "            - Series\n",
    "\n",
    "<div style=\"text-align:center\">\n",
    "    <img src=\"../img/pandas-data-structures.png\" width=\"620\" height=\"620\"/>\n",
    "</div>"
   ]
  },
  {
   "cell_type": "markdown",
   "metadata": {},
   "source": [
    "-------------"
   ]
  },
  {
   "cell_type": "markdown",
   "metadata": {},
   "source": [
    "### <span style=\"color:#130654\">A. Series</span>\n",
    "\n",
    "- Series is a one-dimensional labeled array.\n",
    "- The axis labels are collectively called index.\n",
    "- A series can be created using `array`, `dict`, `scalar`.\n",
    "\n",
    "*Syntax:*\n",
    "```python\n",
    "pandas.Series( data, index, dtype, copy)\n",
    "```\n",
    "\n",
    "| Parameters | Details                                                      |\n",
    "| :--------: | ------------------------------------------------------------ |\n",
    "|  **data**  | Takes various forms like ndarray, list, constants            |\n",
    "| **index**  | Index values must be unique and hashable, same length as data. Default **np.arrange(n)** if no index is passed. |\n",
    "| **dtype**  | dtype is for data type. If None, data type will be inferred  |\n",
    "|  **copy**  | Copy data. Default False                                     |"
   ]
  },
  {
   "cell_type": "markdown",
   "metadata": {},
   "source": [
    "#### <span style=\"color:#130654\">Creating Series</span>"
   ]
  },
  {
   "cell_type": "markdown",
   "metadata": {},
   "source": [
    "**1. Empty Series**"
   ]
  },
  {
   "cell_type": "code",
   "execution_count": 2,
   "metadata": {},
   "outputs": [
    {
     "name": "stdout",
     "output_type": "stream",
     "text": [
      "Series([], dtype: float64)\n"
     ]
    },
    {
     "name": "stderr",
     "output_type": "stream",
     "text": [
      "<ipython-input-2-893de6a9497a>:1: DeprecationWarning: The default dtype for empty Series will be 'object' instead of 'float64' in a future version. Specify a dtype explicitly to silence this warning.\n",
      "  s = pd.Series()\n"
     ]
    }
   ],
   "source": [
    "s = pd.Series()\n",
    "print(s)"
   ]
  },
  {
   "cell_type": "markdown",
   "metadata": {},
   "source": [
    "**2. Using ndarray**"
   ]
  },
  {
   "cell_type": "code",
   "execution_count": 3,
   "metadata": {},
   "outputs": [
    {
     "name": "stdout",
     "output_type": "stream",
     "text": [
      "Without index:\n",
      "0    a\n",
      "1    b\n",
      "2    c\n",
      "3    d\n",
      "dtype: object\n",
      "\n",
      "\n",
      "with index:\n",
      "100    a\n",
      "101    b\n",
      "102    c\n",
      "103    d\n",
      "dtype: object\n",
      "\n",
      "\n",
      "If no index is passed then by default index is assigned ranging from '0' to 'len(data)-1' \n"
     ]
    }
   ],
   "source": [
    "data = np.array(['a','b','c','d'])\n",
    "\n",
    "# without defining index\n",
    "s_noindex = pd.Series(data)\n",
    "\n",
    "# with defining index\n",
    "index = [100, 101, 102, 103] # creating index variable\n",
    "s_index = pd.Series(data, index=index) # assiging index variable to index parameter\n",
    "\n",
    "print(\"Without index:\")\n",
    "print(s_noindex)\n",
    "print(\"\\n\")\n",
    "print(\"with index:\")\n",
    "print(s_index)\n",
    "print(\"\\n\")\n",
    "print(\"If no index is passed then by default index is assigned ranging from '0' to 'len(data)-1' \")"
   ]
  },
  {
   "cell_type": "markdown",
   "metadata": {},
   "source": [
    "**3. Using dict**"
   ]
  },
  {
   "cell_type": "code",
   "execution_count": 4,
   "metadata": {},
   "outputs": [
    {
     "name": "stdout",
     "output_type": "stream",
     "text": [
      "Without index:\n",
      "a    0.0\n",
      "b    1.0\n",
      "c    2.0\n",
      "dtype: float64\n",
      "\n",
      "\n",
      "with index:\n",
      "b    1.0\n",
      "c    2.0\n",
      "d    NaN\n",
      "a    0.0\n",
      "dtype: float64\n"
     ]
    }
   ],
   "source": [
    "data = {'a' : 0, 'b' : 1, 'c' : 2}\n",
    "\n",
    "# without defining index\n",
    "s_noindex = pd.Series(data, dtype=\"float64\")\n",
    "\n",
    "# with defining index\n",
    "index = ['b','c','d','a']\n",
    "s_index = pd.Series(data, index=index, dtype=\"float64\")\n",
    "\n",
    "print(\"Without index:\")\n",
    "print(s_noindex)\n",
    "print(\"\\n\")\n",
    "print(\"with index:\")\n",
    "print(s_index)"
   ]
  },
  {
   "cell_type": "markdown",
   "metadata": {},
   "source": [
    "- <span style=\"color:#130654\">Dictionary keys are used to construct index.</span>\n",
    "- If no index is passed then by default order of index will be order of keys in dictionary.\n",
    "- If there is any index which is not subset of key then its value will be `NaN` equivalent to *Null*."
   ]
  },
  {
   "cell_type": "markdown",
   "metadata": {},
   "source": [
    "**4. Using scalar**"
   ]
  },
  {
   "cell_type": "code",
   "execution_count": 5,
   "metadata": {},
   "outputs": [
    {
     "name": "stdout",
     "output_type": "stream",
     "text": [
      "a    5\n",
      "b    5\n",
      "c    5\n",
      "d    5\n",
      "dtype: int64\n"
     ]
    }
   ],
   "source": [
    "s = pd.Series(5, index=['a', 'b', 'c', 'd'])\n",
    "print(s)"
   ]
  },
  {
   "cell_type": "markdown",
   "metadata": {},
   "source": [
    "#### <span style=\"color:#130654\">Accessing / Retreiving values</span>"
   ]
  },
  {
   "cell_type": "markdown",
   "metadata": {},
   "source": [
    "**1. By Indexing**\n",
    "\n",
    "<div style=\"text-align:center\"><img src=\"../img/python-slicing.png\"/></div>"
   ]
  },
  {
   "cell_type": "markdown",
   "metadata": {},
   "source": [
    "<span style=\"color:green; font-family: Helvetica;\">\n",
    "    Note: if length of series is n then Indexing in python starts from 0 and ends on n-1.\n",
    "</span>\n",
    "\n",
    "- <span style=\"color:#130654\">**0 = absolute first index**</span>\n",
    "- A = initial indexing position\n",
    "- N = last indexing position\n",
    "- X = any indexing position\n",
    "- <span style=\"color:#130654\">**n-1 = absolute last index**</span>\n",
    "\n",
    "|Indexing|Return|\n",
    "|:------:|------|\n",
    "|**series[X]**|Xth value in the list|\n",
    "|**series[A:]**|All values starting from to A to n-1.|\n",
    "|**series[A:N]**|All values between A and N-1|\n",
    "|**series[:N]**|All values starting from index 0 to N-1|\n",
    "|**series[-A:]**|All values except from 0 to A|\n",
    "|**series[:-N]**|All values except from N to n-1|\n",
    "\n",
    "*Examples:*"
   ]
  },
  {
   "cell_type": "code",
   "execution_count": 6,
   "metadata": {},
   "outputs": [],
   "source": [
    "series = pd.Series(['a','b','c','d','e'])"
   ]
  },
  {
   "cell_type": "code",
   "execution_count": 7,
   "metadata": {},
   "outputs": [
    {
     "data": {
      "text/plain": [
       "'c'"
      ]
     },
     "execution_count": 7,
     "metadata": {},
     "output_type": "execute_result"
    }
   ],
   "source": [
    "# Return xth value\n",
    "series[2]"
   ]
  },
  {
   "cell_type": "code",
   "execution_count": 8,
   "metadata": {},
   "outputs": [
    {
     "data": {
      "text/plain": [
       "2    c\n",
       "3    d\n",
       "4    e\n",
       "dtype: object"
      ]
     },
     "execution_count": 8,
     "metadata": {},
     "output_type": "execute_result"
    }
   ],
   "source": [
    "# Return from A to N\n",
    "series[2:]"
   ]
  },
  {
   "cell_type": "code",
   "execution_count": 9,
   "metadata": {},
   "outputs": [
    {
     "data": {
      "text/plain": [
       "2    c\n",
       "3    d\n",
       "dtype: object"
      ]
     },
     "execution_count": 9,
     "metadata": {},
     "output_type": "execute_result"
    }
   ],
   "source": [
    "# Return values between A to n-1 index\n",
    "series[2:4]"
   ]
  },
  {
   "cell_type": "code",
   "execution_count": 10,
   "metadata": {},
   "outputs": [
    {
     "data": {
      "text/plain": [
       "0    a\n",
       "1    b\n",
       "2    c\n",
       "dtype: object"
      ]
     },
     "execution_count": 10,
     "metadata": {},
     "output_type": "execute_result"
    }
   ],
   "source": [
    "# Return values from 0 index to n-1 index\n",
    "series[:3]"
   ]
  },
  {
   "cell_type": "code",
   "execution_count": 11,
   "metadata": {},
   "outputs": [
    {
     "data": {
      "text/plain": [
       "3    d\n",
       "4    e\n",
       "dtype: object"
      ]
     },
     "execution_count": 11,
     "metadata": {},
     "output_type": "execute_result"
    }
   ],
   "source": [
    "# Return all values after A till n-1\n",
    "series[-2:]"
   ]
  },
  {
   "cell_type": "code",
   "execution_count": 12,
   "metadata": {},
   "outputs": [
    {
     "data": {
      "text/plain": [
       "0    a\n",
       "1    b\n",
       "2    c\n",
       "dtype: object"
      ]
     },
     "execution_count": 12,
     "metadata": {},
     "output_type": "execute_result"
    }
   ],
   "source": [
    "# Return all values before N till n-1\n",
    "series[:-2]"
   ]
  },
  {
   "cell_type": "markdown",
   "metadata": {},
   "source": [
    "**2. By Label**\n",
    "\n",
    "A Series is like a fixed-size dict in that you can get and set values by index label."
   ]
  },
  {
   "cell_type": "code",
   "execution_count": 13,
   "metadata": {},
   "outputs": [],
   "source": [
    "series = pd.Series([1,2,3,4,5],index = ['a','b','c','d','e'])"
   ]
  },
  {
   "cell_type": "code",
   "execution_count": 14,
   "metadata": {},
   "outputs": [
    {
     "data": {
      "text/plain": [
       "3"
      ]
     },
     "execution_count": 14,
     "metadata": {},
     "output_type": "execute_result"
    }
   ],
   "source": [
    "#single value\n",
    "series['c']"
   ]
  },
  {
   "cell_type": "code",
   "execution_count": 15,
   "metadata": {},
   "outputs": [
    {
     "data": {
      "text/plain": [
       "a    1\n",
       "c    3\n",
       "e    5\n",
       "dtype: int64"
      ]
     },
     "execution_count": 15,
     "metadata": {},
     "output_type": "execute_result"
    }
   ],
   "source": [
    "# multiple sequential / non sequential values\n",
    "series[['a','c','e']]"
   ]
  },
  {
   "cell_type": "markdown",
   "metadata": {},
   "source": [
    "<span style=\"color:green; font-family: Helvetica;\">Note: Always use extra \"[]\" if retreiving multiple values.</span>"
   ]
  },
  {
   "cell_type": "markdown",
   "metadata": {},
   "source": [
    "-------------"
   ]
  },
  {
   "cell_type": "markdown",
   "metadata": {},
   "source": [
    "## <span style=\"color:#130654\">B. DataFrame</span>\n",
    "\n",
    "- It is a two-dimensional data structure (data is aligined in tabular row and column fashion).\n",
    "- It is size and value mutable.\n",
    "- Potentially columns are of different types.\n",
    "- Labeled axes (rows and columns).\n",
    "- <span style=\"color:#130654\">Arithmetic operations on rows and columns.</span>\n",
    "\n",
    "*Syntax:*\n",
    "```python\n",
    "pandas.DataFrame( data, index, columns, dtype, copy)\n",
    "```\n",
    "\n",
    "| Parameters | Details                                                      |\n",
    "| :--------: | ------------------------------------------------------------ |\n",
    "|  **data**  | Takes various forms like ndarray, list, constants            |\n",
    "| **index**  | Index values must be unique and hashable, same length as data. Default **np.arrange(n)** if no index is passed. |\n",
    "|**columns**|For column labels, the optional default syntax is - np.arange(n). This is only true if no index is passed.|\n",
    "| **dtype**  | dtype is for data type. If None, data type will be inferred  |\n",
    "|  **copy**  | Copy data. Default False                                     |"
   ]
  },
  {
   "cell_type": "markdown",
   "metadata": {},
   "source": [
    "#### <span style=\"color:#130654\">Creating DataFrame</span>\n"
   ]
  },
  {
   "cell_type": "markdown",
   "metadata": {},
   "source": [
    "**1. Empty DataFrame**\n",
    "\n",
    "To create an empty DataFrame just run the DataFrame() method."
   ]
  },
  {
   "cell_type": "code",
   "execution_count": 16,
   "metadata": {},
   "outputs": [
    {
     "name": "stdout",
     "output_type": "stream",
     "text": [
      "Empty DataFrame\n",
      "Columns: []\n",
      "Index: []\n"
     ]
    }
   ],
   "source": [
    "df = pd.DataFrame()\n",
    "print(df)"
   ]
  },
  {
   "cell_type": "markdown",
   "metadata": {},
   "source": [
    "**2. Using List**"
   ]
  },
  {
   "cell_type": "code",
   "execution_count": 17,
   "metadata": {},
   "outputs": [
    {
     "name": "stdout",
     "output_type": "stream",
     "text": [
      "DataFrame using simple list:\n",
      "   Column 1\n",
      "0         1\n",
      "1         2\n",
      "2         3\n",
      "3         4\n",
      "4         5\n",
      "\n",
      "DataFrame using nested list:\n",
      "     Name  Age\n",
      "0    Alex   10\n",
      "1     Bob   12\n",
      "2  Clarke   13\n"
     ]
    }
   ],
   "source": [
    "# using simple list\n",
    "simple_list = [1,2,3,4,5]\n",
    "df_simple_list = pd.DataFrame(simple_list, columns=[\"Column 1\"])\n",
    "print(\"DataFrame using simple list:\")\n",
    "print(df_simple_list)\n",
    "\n",
    "# using nested list\n",
    "nest_list = [['Alex',10],['Bob',12],['Clarke',13]]\n",
    "df_nest_list = pd.DataFrame(nest_list,columns=['Name','Age'])\n",
    "print(\"\\nDataFrame using nested list:\")\n",
    "print(df_nest_list)"
   ]
  },
  {
   "cell_type": "markdown",
   "metadata": {},
   "source": [
    "**3. Using Dict of ndarrays / Lists**"
   ]
  },
  {
   "cell_type": "code",
   "execution_count": 18,
   "metadata": {},
   "outputs": [
    {
     "data": {
      "text/html": [
       "<div>\n",
       "<style scoped>\n",
       "    .dataframe tbody tr th:only-of-type {\n",
       "        vertical-align: middle;\n",
       "    }\n",
       "\n",
       "    .dataframe tbody tr th {\n",
       "        vertical-align: top;\n",
       "    }\n",
       "\n",
       "    .dataframe thead th {\n",
       "        text-align: right;\n",
       "    }\n",
       "</style>\n",
       "<table border=\"1\" class=\"dataframe\">\n",
       "  <thead>\n",
       "    <tr style=\"text-align: right;\">\n",
       "      <th></th>\n",
       "      <th>Name</th>\n",
       "      <th>Age</th>\n",
       "    </tr>\n",
       "  </thead>\n",
       "  <tbody>\n",
       "    <tr>\n",
       "      <th>0</th>\n",
       "      <td>Tom</td>\n",
       "      <td>28</td>\n",
       "    </tr>\n",
       "    <tr>\n",
       "      <th>1</th>\n",
       "      <td>Jack</td>\n",
       "      <td>34</td>\n",
       "    </tr>\n",
       "    <tr>\n",
       "      <th>2</th>\n",
       "      <td>Steve</td>\n",
       "      <td>29</td>\n",
       "    </tr>\n",
       "    <tr>\n",
       "      <th>3</th>\n",
       "      <td>Ricky</td>\n",
       "      <td>42</td>\n",
       "    </tr>\n",
       "  </tbody>\n",
       "</table>\n",
       "</div>"
      ],
      "text/plain": [
       "    Name  Age\n",
       "0    Tom   28\n",
       "1   Jack   34\n",
       "2  Steve   29\n",
       "3  Ricky   42"
      ]
     },
     "execution_count": 18,
     "metadata": {},
     "output_type": "execute_result"
    }
   ],
   "source": [
    "dict_ndarray = {'Name':['Tom', 'Jack', 'Steve', 'Ricky'],'Age':[28,34,29,42]}\n",
    "df_ndarray = pd.DataFrame(dict_ndarray)\n",
    "df_ndarray"
   ]
  },
  {
   "cell_type": "markdown",
   "metadata": {},
   "source": [
    "**4. Using List of Dicts**"
   ]
  },
  {
   "cell_type": "code",
   "execution_count": 19,
   "metadata": {},
   "outputs": [
    {
     "data": {
      "text/html": [
       "<div>\n",
       "<style scoped>\n",
       "    .dataframe tbody tr th:only-of-type {\n",
       "        vertical-align: middle;\n",
       "    }\n",
       "\n",
       "    .dataframe tbody tr th {\n",
       "        vertical-align: top;\n",
       "    }\n",
       "\n",
       "    .dataframe thead th {\n",
       "        text-align: right;\n",
       "    }\n",
       "</style>\n",
       "<table border=\"1\" class=\"dataframe\">\n",
       "  <thead>\n",
       "    <tr style=\"text-align: right;\">\n",
       "      <th></th>\n",
       "      <th>a</th>\n",
       "      <th>b</th>\n",
       "      <th>c</th>\n",
       "      <th>d</th>\n",
       "    </tr>\n",
       "  </thead>\n",
       "  <tbody>\n",
       "    <tr>\n",
       "      <th>0</th>\n",
       "      <td>1</td>\n",
       "      <td>2</td>\n",
       "      <td>NaN</td>\n",
       "      <td>NaN</td>\n",
       "    </tr>\n",
       "    <tr>\n",
       "      <th>1</th>\n",
       "      <td>5</td>\n",
       "      <td>10</td>\n",
       "      <td>20.0</td>\n",
       "      <td>NaN</td>\n",
       "    </tr>\n",
       "  </tbody>\n",
       "</table>\n",
       "</div>"
      ],
      "text/plain": [
       "   a   b     c   d\n",
       "0  1   2   NaN NaN\n",
       "1  5  10  20.0 NaN"
      ]
     },
     "execution_count": 19,
     "metadata": {},
     "output_type": "execute_result"
    }
   ],
   "source": [
    "list_dicts = [{'a': 1, 'b': 2},{'a': 5, 'b': 10, 'c': 20}]\n",
    "df_list_dicts = pd.DataFrame(list_dicts, columns=['a','b','c','d'])\n",
    "df_list_dicts"
   ]
  },
  {
   "cell_type": "markdown",
   "metadata": {},
   "source": [
    "<span style=\"color:green; font-family: Helvetica;\">\n",
    "    <strong>Note</strong>:\n",
    "        <ul>\n",
    "            <li>Observe, NaN (Not a Number) is appended in missing areas.</li>\n",
    "            <li>If column index is created with other than the dictionary key, then it will return <strong>NaN</strong>.</li>\n",
    "        </ul> \n",
    "</span>"
   ]
  },
  {
   "cell_type": "markdown",
   "metadata": {},
   "source": [
    "**5. Using Dict of Series**"
   ]
  },
  {
   "cell_type": "code",
   "execution_count": 20,
   "metadata": {},
   "outputs": [
    {
     "data": {
      "text/html": [
       "<div>\n",
       "<style scoped>\n",
       "    .dataframe tbody tr th:only-of-type {\n",
       "        vertical-align: middle;\n",
       "    }\n",
       "\n",
       "    .dataframe tbody tr th {\n",
       "        vertical-align: top;\n",
       "    }\n",
       "\n",
       "    .dataframe thead th {\n",
       "        text-align: right;\n",
       "    }\n",
       "</style>\n",
       "<table border=\"1\" class=\"dataframe\">\n",
       "  <thead>\n",
       "    <tr style=\"text-align: right;\">\n",
       "      <th></th>\n",
       "      <th>one</th>\n",
       "      <th>two</th>\n",
       "    </tr>\n",
       "  </thead>\n",
       "  <tbody>\n",
       "    <tr>\n",
       "      <th>a</th>\n",
       "      <td>1.0</td>\n",
       "      <td>1</td>\n",
       "    </tr>\n",
       "    <tr>\n",
       "      <th>b</th>\n",
       "      <td>2.0</td>\n",
       "      <td>2</td>\n",
       "    </tr>\n",
       "    <tr>\n",
       "      <th>c</th>\n",
       "      <td>3.0</td>\n",
       "      <td>3</td>\n",
       "    </tr>\n",
       "    <tr>\n",
       "      <th>d</th>\n",
       "      <td>NaN</td>\n",
       "      <td>4</td>\n",
       "    </tr>\n",
       "  </tbody>\n",
       "</table>\n",
       "</div>"
      ],
      "text/plain": [
       "   one  two\n",
       "a  1.0    1\n",
       "b  2.0    2\n",
       "c  3.0    3\n",
       "d  NaN    4"
      ]
     },
     "execution_count": 20,
     "metadata": {},
     "output_type": "execute_result"
    }
   ],
   "source": [
    "dict_series = {'one' : pd.Series([1, 2, 3], index=['a', 'b', 'c']),\n",
    "   'two' : pd.Series([1, 2, 3, 4], index=['a', 'b', 'c', 'd'])}\n",
    "\n",
    "df_dict_series = pd.DataFrame(dict_series)\n",
    "df_dict_series"
   ]
  },
  {
   "cell_type": "markdown",
   "metadata": {},
   "source": [
    "<span style=\"color:green; font-family: Helvetica;\">\n",
    "    <strong>Note</strong>: Creating dataframe with multiple series of uneven length, then dataframe will be created for longest series with appending <strong>NaN</strong> for subsequent indexs for smaller series.\n",
    "</span>"
   ]
  },
  {
   "cell_type": "markdown",
   "metadata": {},
   "source": [
    "#### <span style=\"color:#130654\">Copying DataFrame</span>"
   ]
  },
  {
   "cell_type": "markdown",
   "metadata": {},
   "source": [
    "Extra care should be taken while assiging and copying a dataframe to another variable. Both assiging `=` and copying `cop()` methods for dataframe behaves diffrently in pandas."
   ]
  },
  {
   "cell_type": "markdown",
   "metadata": {},
   "source": [
    "Assign dataframe `df` to a variable `df_assign`:"
   ]
  },
  {
   "cell_type": "code",
   "execution_count": 63,
   "metadata": {},
   "outputs": [],
   "source": [
    "df_assign = df"
   ]
  },
  {
   "cell_type": "code",
   "execution_count": 69,
   "metadata": {},
   "outputs": [
    {
     "name": "stdout",
     "output_type": "stream",
     "text": [
      "Object ID for df         :  1764144506528\n",
      "Object ID for df_assign  :  1764144506528\n"
     ]
    }
   ],
   "source": [
    "# Check the object ID for new dataframe and original dataframe using id() funtion.\n",
    "print(\"Object ID for df         : \",id(df))\n",
    "print(\"Object ID for df_assign  : \",id(df_assign))"
   ]
  },
  {
   "cell_type": "markdown",
   "metadata": {},
   "source": [
    "Object ID for both `df` and `df_assign` are same which means both dataframes are sharing / refering to same object in the memory.\n",
    "\n",
    "Copy the original dataframe to new variable `df_copy`:"
   ]
  },
  {
   "cell_type": "code",
   "execution_count": 70,
   "metadata": {},
   "outputs": [],
   "source": [
    "df_copy = df.copy()"
   ]
  },
  {
   "cell_type": "code",
   "execution_count": 71,
   "metadata": {},
   "outputs": [
    {
     "name": "stdout",
     "output_type": "stream",
     "text": [
      "Object ID for df       :  1764144506528\n",
      "Object ID for df_copy  :  1764160033408\n"
     ]
    }
   ],
   "source": [
    "# Check the object ID for new dataframe and original dataframe using id() funtion.\n",
    "print(\"Object ID for df       : \",id(df))\n",
    "print(\"Object ID for df_copy  : \",id(df_copy))"
   ]
  },
  {
   "cell_type": "markdown",
   "metadata": {},
   "source": [
    "Object ID for both `df` and `df_copy` are different which means, although the values and everything for both dataframes are exaclty same but they are refering to different objects in the memory.\n",
    "\n",
    "<span style=\"color:green\">Conclusion:</span>\n",
    "- If we assign dataframe to new variable then any changes made to new variables will reflect in original dataframe as they are basically sharing same object in the memory.\n",
    "- In case of dataframe using `copy()` method, changes to new dataframe won't reflect in orginal dataframe as both have different object ID."
   ]
  },
  {
   "cell_type": "markdown",
   "metadata": {},
   "source": [
    "-------------"
   ]
  },
  {
   "cell_type": "markdown",
   "metadata": {},
   "source": [
    "## <span style=\"color:#130654\">C. Panel</span>"
   ]
  },
  {
   "cell_type": "markdown",
   "metadata": {},
   "source": [
    "### <span style=\"color: Red; font-family: Helvetica; font-size: 125%; font-weight:700\"> Warning: </span> Panel was removed in 0.25.0.\n",
    "\n",
    "- `Panel` is a 3D container of data\n",
    "- The term panel data originates from somewhere in econometrics\n",
    "- The names for the 3 axes are intended to give some semantic meaning to describing operations involving panel data\n",
    "\n",
    "*Syntax:*\n",
    "```python\n",
    "pandas.Panel(data, items, major_axis, minor_axis, dtype, copy)\n",
    "```\n",
    "\n",
    "|Param|Details|\n",
    "|:----:|------|\n",
    "|**data**| Data takes various forms like ndarray, series, map, lists, dict, constants and also another DataFrame.|\n",
    "|<span style=\"color:red\">**items**</span>| `axis 0`, each item corresponds to a DataFrame contained inside.|\n",
    "|<span style=\"color:red\">**major_axis**</span>| `axis 1`, it is the index (rows) of each of the DataFrames. |\n",
    "|<span style=\"color:red\">**minor_axis**</span>| `axis 2`, it is the columns of each of the DataFrames. |\n",
    "|**dtype**| Data type of each column. |\n",
    "|**copy**| Copy data. Default, false. |"
   ]
  },
  {
   "cell_type": "code",
   "execution_count": null,
   "metadata": {},
   "outputs": [],
   "source": []
  }
 ],
 "metadata": {
  "kernelspec": {
   "display_name": "Python 3",
   "language": "python",
   "name": "python3"
  },
  "language_info": {
   "codemirror_mode": {
    "name": "ipython",
    "version": 3
   },
   "file_extension": ".py",
   "mimetype": "text/x-python",
   "name": "python",
   "nbconvert_exporter": "python",
   "pygments_lexer": "ipython3",
   "version": "3.8.5"
  }
 },
 "nbformat": 4,
 "nbformat_minor": 4
}
