{
 "cells": [
  {
   "cell_type": "markdown",
   "metadata": {},
   "source": [
    "# <span style=\"color:#130654; font-family: Helvetica; font-size: 200%; font-weight:700\"> Pandas | <span style=\"font-size: 50%; font-weight:300\">Functionality</span>"
   ]
  },
  {
   "cell_type": "markdown",
   "metadata": {},
   "source": [
    "To use pandas in python import it first by using the following command:"
   ]
  },
  {
   "cell_type": "code",
   "execution_count": 1,
   "metadata": {},
   "outputs": [],
   "source": [
    "# import pandas\n",
    "import pandas as pd\n",
    "\n",
    "# import other libraries here\n",
    "import numpy as np"
   ]
  },
  {
   "cell_type": "markdown",
   "metadata": {},
   "source": [
    "## <span style=\"color:#130654\">Basic Funcationality</span>"
   ]
  },
  {
   "cell_type": "markdown",
   "metadata": {},
   "source": [
    "| Functionality | Series                          | DataFerame        |\n",
    "| :-----------: | --------------------------------| ------------------|\n",
    "| **T**         | <span style=\"color:red\">Does nothing for series.</span> | Transposes rows and columns. |\n",
    "| **axes**      | Returns a list of the row axis labels. | Returns a list with the row axis labels and column axis labels as the only members. |\n",
    "| **dtypes**    | Returns the dtype/dtypes of series.| Returns the dtypes in this object.                           |\n",
    "| **empty**     | Returns True if series is empty.| True if NDFrame is entirely empty [no items]; if any of the axes are of length 0. |\n",
    "| **ndim**      | Returns the number of dimensions of the underlying data, by definition 1. | Number of axes / array dimensions. |\n",
    "| **shape**     | <span style=\"color:red\">Return number of rows.</span> | Returns a tuple representing the dimensionality of the DataFrame. |\n",
    "| **size**      | <span style=\"color:red\">Return number of rows.</span>  | Number of elements in the NDFrame.|\n",
    "| **values**    | Returns the Series as ndarray.| Numpy representation of NDFrame.|\n",
    "| **head()**    | Returns the first n rows.| Returns the first n rows.|\n",
    "| **tail()**    | Returns the last n rows. | Returns last n rows.|"
   ]
  },
  {
   "cell_type": "markdown",
   "metadata": {},
   "source": [
    "*Examples:*"
   ]
  },
  {
   "cell_type": "markdown",
   "metadata": {},
   "source": [
    "Let's start with creating a `series` and a `dataframe`:"
   ]
  },
  {
   "cell_type": "code",
   "execution_count": 2,
   "metadata": {},
   "outputs": [
    {
     "name": "stdout",
     "output_type": "stream",
     "text": [
      "Created series is:\n",
      " a    1\n",
      "b    2\n",
      "c    3\n",
      "d    4\n",
      "e    5\n",
      "dtype: int64 \n",
      "\n",
      "Created dataframe is:\n",
      "    one  two  three\n",
      "a  1.0  1.0      1\n",
      "b  2.0  2.0      2\n",
      "c  3.0  3.0      3\n",
      "d  NaN  4.0      4\n",
      "e  NaN  NaN      5\n"
     ]
    }
   ],
   "source": [
    "# creating a series\n",
    "series = pd.Series([1,2,3,4,5],index = ['a','b','c','d','e'])\n",
    "print(\"Created series is:\\n\", series, \"\\n\")\n",
    "\n",
    "# creating a dataframe\n",
    "data = {'one' : pd.Series([1, 2, 3], index=['a', 'b', 'c']),\n",
    "        'two' : pd.Series([1, 2, 3, 4], index=['a', 'b', 'c', 'd']),\n",
    "        'three' : pd.Series([1, 2, 3, 4, 5], index=['a', 'b', 'c', 'd', 'e'])}\n",
    "\n",
    "df = pd.DataFrame(data, dtype=\"int64\")\n",
    "print(\"Created dataframe is:\\n\", df)"
   ]
  },
  {
   "cell_type": "markdown",
   "metadata": {},
   "source": [
    "Functions common for both Series and DataFrame:tail"
   ]
  },
  {
   "cell_type": "code",
   "execution_count": 3,
   "metadata": {},
   "outputs": [
    {
     "name": "stdout",
     "output_type": "stream",
     "text": [
      "Series axes:\n",
      " [Index(['a', 'b', 'c', 'd', 'e'], dtype='object')] \n",
      "\n",
      "DataFrame axes:\n",
      " [Index(['a', 'b', 'c', 'd', 'e'], dtype='object'), Index(['one', 'two', 'three'], dtype='object')]\n"
     ]
    }
   ],
   "source": [
    "# 1. axes\n",
    "\n",
    "s = series.axes\n",
    "print(\"Series axes:\\n\", s, \"\\n\")\n",
    "\n",
    "d = df.axes\n",
    "print(\"DataFrame axes:\\n\", d)"
   ]
  },
  {
   "cell_type": "code",
   "execution_count": 4,
   "metadata": {},
   "outputs": [
    {
     "name": "stdout",
     "output_type": "stream",
     "text": [
      "Series dtype:\n",
      " int64 \n",
      "\n",
      "DataFrame dtype:\n",
      " one      float64\n",
      "two      float64\n",
      "three      int64\n",
      "dtype: object\n"
     ]
    }
   ],
   "source": [
    "# 2. dtypes\n",
    "# for series both `dtype` and `dtypes` will work, for dataframe only `dtypes` work\n",
    "\n",
    "s = series.dtypes\n",
    "print(\"Series dtype:\\n\", s, \"\\n\")\n",
    "\n",
    "d = df.dtypes\n",
    "print(\"DataFrame dtype:\\n\", d)"
   ]
  },
  {
   "cell_type": "markdown",
   "metadata": {},
   "source": [
    "##### Common dtypes in Pandas\n",
    "\n",
    "|**Pandas dtype**|Python type|NumPy type|Usage|\n",
    "|:-------------------:|-------------------|-------------------|-------------------|\n",
    "|**object**|str or mixed|string_, unicode_, mixed types|Text or mixed numeric and non-numeric values|\n",
    "|**int64**|int|int_, int8, int16, int32, int64, uint8, uint16, uint32, uint64|Integer numbers|\n",
    "|**float64**|float|float_, float16, float32, float64|Floating point numbers|\n",
    "|**bool**|bool|bool_|True/False values|\n",
    "|**datetime64**|<span style=\"color:red\">NA</span>|datetime64[ns]|Date and time values|\n",
    "|**timedelta[ns]**|<span style=\"color:red\">NA</span>|<span style=\"color:red\">NA</span>|Differences between two datetimes|\n",
    "|**category**|<span style=\"color:red\">NA</span>|<span style=\"color:red\">NA</span>|Finite list of text values|"
   ]
  },
  {
   "cell_type": "code",
   "execution_count": 5,
   "metadata": {},
   "outputs": [
    {
     "name": "stdout",
     "output_type": "stream",
     "text": [
      "Series empty:\n",
      " False \n",
      "\n",
      "DataFrame empty:\n",
      " False\n"
     ]
    }
   ],
   "source": [
    "# 3. empty\n",
    "\n",
    "s = series.empty\n",
    "print(\"Series empty:\\n\", s, \"\\n\")\n",
    "\n",
    "d = df.empty\n",
    "print(\"DataFrame empty:\\n\", d)"
   ]
  },
  {
   "cell_type": "code",
   "execution_count": 6,
   "metadata": {},
   "outputs": [
    {
     "name": "stdout",
     "output_type": "stream",
     "text": [
      "Series ndim:\n",
      " 1 \n",
      "\n",
      "DataFrame ndim:\n",
      " 2\n"
     ]
    }
   ],
   "source": [
    "# 4. ndim\n",
    "\n",
    "s = series.ndim\n",
    "print(\"Series ndim:\\n\", s, \"\\n\")\n",
    "\n",
    "d = df.ndim\n",
    "print(\"DataFrame ndim:\\n\", d)"
   ]
  },
  {
   "cell_type": "code",
   "execution_count": 7,
   "metadata": {},
   "outputs": [
    {
     "name": "stdout",
     "output_type": "stream",
     "text": [
      "Series shape:\n",
      " (5,) \n",
      "\n",
      "DataFrame shape:\n",
      " (5, 3)\n"
     ]
    }
   ],
   "source": [
    "# 5. shape\n",
    "# shape is represented as (# of rows, # of columns)\n",
    "# series doesn't have columns\n",
    "\n",
    "s = series.shape\n",
    "print(\"Series shape:\\n\", s, \"\\n\")\n",
    "\n",
    "d = df.shape\n",
    "print(\"DataFrame shape:\\n\", d)"
   ]
  },
  {
   "cell_type": "code",
   "execution_count": 8,
   "metadata": {},
   "outputs": [
    {
     "name": "stdout",
     "output_type": "stream",
     "text": [
      "Series size:\n",
      " 5 \n",
      "\n",
      "DataFrame size:\n",
      " 15\n"
     ]
    }
   ],
   "source": [
    "# 6. size\n",
    "# size is represented as (# of rows x # of columns)\n",
    "# series doesn't have columns\n",
    "\n",
    "\n",
    "s = series.size\n",
    "print(\"Series size:\\n\", s, \"\\n\")\n",
    "\n",
    "d = df.size\n",
    "print(\"DataFrame size:\\n\", d)"
   ]
  },
  {
   "cell_type": "code",
   "execution_count": 9,
   "metadata": {},
   "outputs": [
    {
     "name": "stdout",
     "output_type": "stream",
     "text": [
      "Series values:\n",
      " [1 2 3 4 5] \n",
      "\n",
      "DataFrame values:\n",
      " [[ 1.  1.  1.]\n",
      " [ 2.  2.  2.]\n",
      " [ 3.  3.  3.]\n",
      " [nan  4.  4.]\n",
      " [nan nan  5.]]\n"
     ]
    }
   ],
   "source": [
    "# 7. values\n",
    "\n",
    "s = series.values\n",
    "print(\"Series values:\\n\", s, \"\\n\")\n",
    "\n",
    "d = df.values\n",
    "print(\"DataFrame values:\\n\", d)"
   ]
  },
  {
   "cell_type": "code",
   "execution_count": 10,
   "metadata": {},
   "outputs": [
    {
     "name": "stdout",
     "output_type": "stream",
     "text": [
      "Series head:\n",
      " a    1\n",
      "b    2\n",
      "dtype: int64 \n",
      "\n",
      "DataFrame head:\n",
      "    one  two  three\n",
      "a  1.0  1.0      1\n",
      "b  2.0  2.0      2\n"
     ]
    }
   ],
   "source": [
    "# 8. head()\n",
    "\n",
    "s = series.head(2)\n",
    "print(\"Series head:\\n\", s, \"\\n\")\n",
    "\n",
    "d = df.head(2)\n",
    "print(\"DataFrame head:\\n\", d)"
   ]
  },
  {
   "cell_type": "code",
   "execution_count": 11,
   "metadata": {},
   "outputs": [
    {
     "name": "stdout",
     "output_type": "stream",
     "text": [
      "Series head:\n",
      " d    4\n",
      "e    5\n",
      "dtype: int64 \n",
      "\n",
      "DataFrame head:\n",
      "    one  two  three\n",
      "d  NaN  4.0      4\n",
      "e  NaN  NaN      5\n"
     ]
    }
   ],
   "source": [
    "# 9. tail()\n",
    "\n",
    "s = series.tail(2)\n",
    "print(\"Series head:\\n\", s, \"\\n\")\n",
    "\n",
    "d = df.tail(2)\n",
    "print(\"DataFrame head:\\n\", d)"
   ]
  },
  {
   "cell_type": "code",
   "execution_count": 12,
   "metadata": {},
   "outputs": [
    {
     "name": "stdout",
     "output_type": "stream",
     "text": [
      "Series Transpose:\n",
      " a    1\n",
      "b    2\n",
      "c    3\n",
      "d    4\n",
      "e    5\n",
      "dtype: int64 \n",
      "\n",
      "DataFrame Transpose:\n",
      "          a    b    c    d    e\n",
      "one    1.0  2.0  3.0  NaN  NaN\n",
      "two    1.0  2.0  3.0  4.0  NaN\n",
      "three  1.0  2.0  3.0  4.0  5.0\n"
     ]
    }
   ],
   "source": [
    "# 10. T or Transpose\n",
    "\n",
    "s = series.T\n",
    "print(\"Series Transpose:\\n\", s, \"\\n\")\n",
    "\n",
    "d = df.T\n",
    "print(\"DataFrame Transpose:\\n\", d)"
   ]
  }
 ],
 "metadata": {
  "kernelspec": {
   "display_name": "Python 3",
   "language": "python",
   "name": "python3"
  },
  "language_info": {
   "codemirror_mode": {
    "name": "ipython",
    "version": 3
   },
   "file_extension": ".py",
   "mimetype": "text/x-python",
   "name": "python",
   "nbconvert_exporter": "python",
   "pygments_lexer": "ipython3",
   "version": "3.8.5"
  }
 },
 "nbformat": 4,
 "nbformat_minor": 4
}
