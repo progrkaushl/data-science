{
 "cells": [
  {
   "cell_type": "markdown",
   "metadata": {},
   "source": [
    "# <span style=\"color:#130654; font-family: Helvetica; font-size: 200%; font-weight:700\"> Pandas | <span style=\"font-size: 50%; font-weight:300\">Iteration</span>"
   ]
  },
  {
   "cell_type": "markdown",
   "metadata": {},
   "source": [
    "To use pandas in python import it first by using the following command:"
   ]
  },
  {
   "cell_type": "code",
   "execution_count": 2,
   "metadata": {},
   "outputs": [],
   "source": [
    "# import pandas\n",
    "import pandas as pd"
   ]
  },
  {
   "cell_type": "markdown",
   "metadata": {},
   "source": [
    "The behavior of basic iteration over Pandas objects depends on the type. Basic iteration (for i in object) produces −\n",
    "\n",
    "|Data Structure| Iteration Type| Produces|\n",
    "|:------------:|---------------|---------|\n",
    "|**Series**| Array-like | Values|\n",
    "|**DataFrame**| Dictionary-like| Column labels|\n",
    "|**Panel**| Dictionary-like| Item labels|"
   ]
  },
  {
   "cell_type": "markdown",
   "metadata": {},
   "source": [
    "## <span style=\"color:#130654\">**Iterating over DataFrame**</span>"
   ]
  },
  {
   "cell_type": "markdown",
   "metadata": {},
   "source": [
    "Normally iterating over a DataFrame using `for loop` will produce `column names`, to iterate over rows of DataFrame following methods can be used:\n",
    "\n",
    "|Method | Usage|\n",
    "|:-----:|------|\n",
    "|**iteritems()** | iterate over the (key,value) pairs. |\n",
    "|**iterrows()**  | iterate over the rows as (index,series) pairs. |\n",
    "|**itertuples()**| iterate over the rows as namedtuples. |"
   ]
  },
  {
   "cell_type": "markdown",
   "metadata": {},
   "source": [
    "To iterate over row, above mentioned methods can be use on dataframe with `For` loop."
   ]
  },
  {
   "cell_type": "markdown",
   "metadata": {},
   "source": [
    "Note − Do not try to modify any object while iterating. Iterating is meant for reading and the iterator returns a copy of the original object (a view), thus the changes will not reflect on the original object"
   ]
  },
  {
   "cell_type": "markdown",
   "metadata": {},
   "source": [
    "<br>"
   ]
  },
  {
   "cell_type": "markdown",
   "metadata": {},
   "source": [
    "### <span style=\"color:#130654\">Create DataFrame</span>"
   ]
  },
  {
   "cell_type": "markdown",
   "metadata": {},
   "source": [
    "Creating a dataset using dictionary:"
   ]
  },
  {
   "cell_type": "code",
   "execution_count": 15,
   "metadata": {},
   "outputs": [],
   "source": [
    "data = {'species': ['mammal', 'mammal', 'fish'],\n",
    "        'population': [3948, 4000, 6000]}\n",
    "index = ['tiger', 'fox', 'shark']"
   ]
  },
  {
   "cell_type": "markdown",
   "metadata": {},
   "source": [
    "Lets create a dataframe with automatic index assigned by pandas."
   ]
  },
  {
   "cell_type": "code",
   "execution_count": 16,
   "metadata": {},
   "outputs": [
    {
     "data": {
      "text/html": [
       "<div>\n",
       "<style scoped>\n",
       "    .dataframe tbody tr th:only-of-type {\n",
       "        vertical-align: middle;\n",
       "    }\n",
       "\n",
       "    .dataframe tbody tr th {\n",
       "        vertical-align: top;\n",
       "    }\n",
       "\n",
       "    .dataframe thead th {\n",
       "        text-align: right;\n",
       "    }\n",
       "</style>\n",
       "<table border=\"1\" class=\"dataframe\">\n",
       "  <thead>\n",
       "    <tr style=\"text-align: right;\">\n",
       "      <th></th>\n",
       "      <th>species</th>\n",
       "      <th>population</th>\n",
       "    </tr>\n",
       "  </thead>\n",
       "  <tbody>\n",
       "    <tr>\n",
       "      <th>tiger</th>\n",
       "      <td>mammal</td>\n",
       "      <td>3948</td>\n",
       "    </tr>\n",
       "    <tr>\n",
       "      <th>fox</th>\n",
       "      <td>mammal</td>\n",
       "      <td>4000</td>\n",
       "    </tr>\n",
       "    <tr>\n",
       "      <th>shark</th>\n",
       "      <td>fish</td>\n",
       "      <td>6000</td>\n",
       "    </tr>\n",
       "  </tbody>\n",
       "</table>\n",
       "</div>"
      ],
      "text/plain": [
       "      species  population\n",
       "tiger  mammal        3948\n",
       "fox    mammal        4000\n",
       "shark    fish        6000"
      ]
     },
     "execution_count": 16,
     "metadata": {},
     "output_type": "execute_result"
    }
   ],
   "source": [
    "df = pd.DataFrame(data, index=index)\n",
    "df"
   ]
  },
  {
   "cell_type": "markdown",
   "metadata": {},
   "source": [
    "If we use normal iteration over dataframe then it will product labels of columns.\n",
    "\n",
    "*Example:*"
   ]
  },
  {
   "cell_type": "code",
   "execution_count": 17,
   "metadata": {},
   "outputs": [
    {
     "name": "stdout",
     "output_type": "stream",
     "text": [
      "species\n",
      "population\n"
     ]
    }
   ],
   "source": [
    "for col in df:\n",
    "    print(col)"
   ]
  },
  {
   "cell_type": "markdown",
   "metadata": {},
   "source": [
    "<br>"
   ]
  },
  {
   "cell_type": "markdown",
   "metadata": {},
   "source": [
    "### <span style=\"color:#130654\">iteritems()</span>"
   ]
  },
  {
   "cell_type": "markdown",
   "metadata": {},
   "source": [
    "Iterates over each column as key, value pair with label as key and column value as a Series object.\n",
    "\n",
    "Since it iterate over key-value pair, then both needed to be mentioned in for loop."
   ]
  },
  {
   "cell_type": "code",
   "execution_count": 30,
   "metadata": {},
   "outputs": [
    {
     "name": "stdout",
     "output_type": "stream",
     "text": [
      "label: species\n",
      "content:\n",
      "tiger    mammal\n",
      "fox      mammal\n",
      "shark      fish\n",
      "Name: species, dtype: object\n",
      "\n",
      "\n",
      "label: population\n",
      "content:\n",
      "tiger    3948\n",
      "fox      4000\n",
      "shark    6000\n",
      "Name: population, dtype: int64\n",
      "\n",
      "\n"
     ]
    }
   ],
   "source": [
    "for label, content in df.items():\n",
    "    print('label:', label)\n",
    "    print('content:', content, sep='\\n')\n",
    "    print('\\n')"
   ]
  },
  {
   "cell_type": "markdown",
   "metadata": {},
   "source": [
    "<img src=\"../img/iteritems.png\" width=400/>"
   ]
  },
  {
   "cell_type": "markdown",
   "metadata": {},
   "source": [
    "Each column is iterated separately as a key-value pair in a Series."
   ]
  },
  {
   "cell_type": "markdown",
   "metadata": {},
   "source": [
    "<br>"
   ]
  },
  {
   "cell_type": "markdown",
   "metadata": {},
   "source": [
    "### <span style=\"color:#130654\">iterrows()</span>"
   ]
  },
  {
   "cell_type": "markdown",
   "metadata": {},
   "source": [
    "iterrows() returns the iterator yielding each index value along with a series containing the data in each row."
   ]
  },
  {
   "cell_type": "code",
   "execution_count": 32,
   "metadata": {},
   "outputs": [
    {
     "name": "stdout",
     "output_type": "stream",
     "text": [
      "index: tiger\n",
      "content:\n",
      "species       mammal\n",
      "population      3948\n",
      "Name: tiger, dtype: object\n",
      "\n",
      "\n",
      "index: fox\n",
      "content:\n",
      "species       mammal\n",
      "population      4000\n",
      "Name: fox, dtype: object\n",
      "\n",
      "\n",
      "index: shark\n",
      "content:\n",
      "species       fish\n",
      "population    6000\n",
      "Name: shark, dtype: object\n",
      "\n",
      "\n"
     ]
    }
   ],
   "source": [
    "for row_index, row in df.iterrows():\n",
    "    print('index:', row_index)\n",
    "    print('content:', row, sep='\\n')\n",
    "    print('\\n')"
   ]
  },
  {
   "cell_type": "markdown",
   "metadata": {},
   "source": [
    "Note − Because iterrows() iterate over the rows, it doesn't preserve the data type across the row."
   ]
  },
  {
   "cell_type": "markdown",
   "metadata": {},
   "source": [
    "<br>"
   ]
  },
  {
   "cell_type": "markdown",
   "metadata": {},
   "source": [
    "### <span style=\"color:#130654\">itertuples()</span>"
   ]
  },
  {
   "cell_type": "markdown",
   "metadata": {},
   "source": [
    "itertuples() method will return an iterator yielding a named tuple for each row in the DataFrame. \n",
    "\n",
    "The first element of the tuple will be the row’s corresponding index value, while the remaining values are the row values."
   ]
  },
  {
   "cell_type": "code",
   "execution_count": 23,
   "metadata": {},
   "outputs": [
    {
     "name": "stdout",
     "output_type": "stream",
     "text": [
      "Pandas(Index='tiger', species='mammal', population=3948)\n",
      "Pandas(Index='fox', species='mammal', population=4000)\n",
      "Pandas(Index='shark', species='fish', population=6000)\n"
     ]
    }
   ],
   "source": [
    "for row in df.itertuples():\n",
    "    print(row)"
   ]
  },
  {
   "cell_type": "markdown",
   "metadata": {},
   "source": [
    "<br>"
   ]
  },
  {
   "cell_type": "markdown",
   "metadata": {},
   "source": [
    "----------"
   ]
  },
  {
   "cell_type": "markdown",
   "metadata": {},
   "source": [
    "## <span style=\"color:#130654\">**Bonus**</span>"
   ]
  },
  {
   "cell_type": "markdown",
   "metadata": {},
   "source": [
    "### <span style=\"color:#130654\">items()</span>"
   ]
  },
  {
   "cell_type": "markdown",
   "metadata": {},
   "source": [
    "`items()` method iterate over (column name, Series) pairs.\n",
    "\n",
    "Iterates over the DataFrame columns, returning a tuple with the column name and the content as a Series."
   ]
  },
  {
   "cell_type": "code",
   "execution_count": 35,
   "metadata": {},
   "outputs": [
    {
     "name": "stdout",
     "output_type": "stream",
     "text": [
      "label: species\n",
      "content:\n",
      "tiger    mammal\n",
      "fox      mammal\n",
      "shark      fish\n",
      "Name: species, dtype: object\n",
      "\n",
      "\n",
      "label: population\n",
      "content:\n",
      "tiger    3948\n",
      "fox      4000\n",
      "shark    6000\n",
      "Name: population, dtype: int64\n",
      "\n",
      "\n"
     ]
    }
   ],
   "source": [
    "for label, row in df.items():\n",
    "    print('label:', label)\n",
    "    print('content:', row, sep='\\n')\n",
    "    print('\\n')"
   ]
  },
  {
   "cell_type": "markdown",
   "metadata": {},
   "source": [
    "**Question:** So what is the difference between `iteritems()` and `items()` since they both are producing similar results?"
   ]
  },
  {
   "cell_type": "markdown",
   "metadata": {},
   "source": [
    "**Answer:**"
   ]
  },
  {
   "cell_type": "markdown",
   "metadata": {},
   "source": [
    "`items()` returns a list of tuples and it is time-consuming and memory exhausting whereas, `iteritems()` is an iter-generator method which yield tuples and it is less time consuming and less memory exhausting.\n",
    "\n",
    "In Python 3, some changes were made and now, items() returns iterators and never builds a list fully. Moreover, in this version iteritems() was removed since items() performed the same function like viewitems() in Python 2.7."
   ]
  },
  {
   "cell_type": "code",
   "execution_count": null,
   "metadata": {},
   "outputs": [],
   "source": []
  }
 ],
 "metadata": {
  "kernelspec": {
   "display_name": "Python 3",
   "language": "python",
   "name": "python3"
  },
  "language_info": {
   "codemirror_mode": {
    "name": "ipython",
    "version": 3
   },
   "file_extension": ".py",
   "mimetype": "text/x-python",
   "name": "python",
   "nbconvert_exporter": "python",
   "pygments_lexer": "ipython3",
   "version": "3.8.5"
  }
 },
 "nbformat": 4,
 "nbformat_minor": 4
}
