{
 "cells": [
  {
   "cell_type": "markdown",
   "metadata": {},
   "source": [
    "# <span style=\"color:#130654; font-family: Helvetica; font-size: 200%; font-weight:700\"> Pandas | <span style=\"font-size: 50%; font-weight:300\">Statistical Functions</span>"
   ]
  },
  {
   "cell_type": "markdown",
   "metadata": {},
   "source": [
    "Statistical methods help in the understanding and analyzing the behavior of data."
   ]
  },
  {
   "cell_type": "markdown",
   "metadata": {},
   "source": [
    "To use pandas in python import it first by using the following command:"
   ]
  },
  {
   "cell_type": "code",
   "execution_count": 6,
   "metadata": {},
   "outputs": [],
   "source": [
    "# import pandas\n",
    "import pandas as pd"
   ]
  },
  {
   "cell_type": "markdown",
   "metadata": {},
   "source": [
    "<br>"
   ]
  },
  {
   "cell_type": "markdown",
   "metadata": {},
   "source": [
    "### <span style=\"color:#130654\">Create DataFrame</span>"
   ]
  },
  {
   "cell_type": "markdown",
   "metadata": {},
   "source": [
    "Creating a dataset using dictionary:"
   ]
  },
  {
   "cell_type": "code",
   "execution_count": 10,
   "metadata": {},
   "outputs": [],
   "source": [
    "data = {\n",
    "    'fruit':['Apple', 'Banana', 'Dates', 'Grapes', 'Mango', 'Orange', 'Papaya'],\n",
    "    'price':[80, 40, 180, 65, 60, 35, 55],\n",
    "    'serving(grams)':[182, 125, 7.1, 151, 336, 131, 500],\n",
    "    'calories':[95, 111, 20, 104, 202, 62, 215]\n",
    "}"
   ]
  },
  {
   "cell_type": "code",
   "execution_count": 11,
   "metadata": {},
   "outputs": [
    {
     "data": {
      "text/html": [
       "<div>\n",
       "<style scoped>\n",
       "    .dataframe tbody tr th:only-of-type {\n",
       "        vertical-align: middle;\n",
       "    }\n",
       "\n",
       "    .dataframe tbody tr th {\n",
       "        vertical-align: top;\n",
       "    }\n",
       "\n",
       "    .dataframe thead th {\n",
       "        text-align: right;\n",
       "    }\n",
       "</style>\n",
       "<table border=\"1\" class=\"dataframe\">\n",
       "  <thead>\n",
       "    <tr style=\"text-align: right;\">\n",
       "      <th></th>\n",
       "      <th>fruit</th>\n",
       "      <th>price</th>\n",
       "      <th>serving(grams)</th>\n",
       "      <th>calories</th>\n",
       "    </tr>\n",
       "  </thead>\n",
       "  <tbody>\n",
       "    <tr>\n",
       "      <th>0</th>\n",
       "      <td>Apple</td>\n",
       "      <td>80</td>\n",
       "      <td>182.0</td>\n",
       "      <td>95</td>\n",
       "    </tr>\n",
       "    <tr>\n",
       "      <th>1</th>\n",
       "      <td>Banana</td>\n",
       "      <td>40</td>\n",
       "      <td>125.0</td>\n",
       "      <td>111</td>\n",
       "    </tr>\n",
       "    <tr>\n",
       "      <th>2</th>\n",
       "      <td>Dates</td>\n",
       "      <td>180</td>\n",
       "      <td>7.1</td>\n",
       "      <td>20</td>\n",
       "    </tr>\n",
       "    <tr>\n",
       "      <th>3</th>\n",
       "      <td>Grapes</td>\n",
       "      <td>65</td>\n",
       "      <td>151.0</td>\n",
       "      <td>104</td>\n",
       "    </tr>\n",
       "    <tr>\n",
       "      <th>4</th>\n",
       "      <td>Mango</td>\n",
       "      <td>60</td>\n",
       "      <td>336.0</td>\n",
       "      <td>202</td>\n",
       "    </tr>\n",
       "    <tr>\n",
       "      <th>5</th>\n",
       "      <td>Orange</td>\n",
       "      <td>35</td>\n",
       "      <td>131.0</td>\n",
       "      <td>62</td>\n",
       "    </tr>\n",
       "    <tr>\n",
       "      <th>6</th>\n",
       "      <td>Papaya</td>\n",
       "      <td>55</td>\n",
       "      <td>500.0</td>\n",
       "      <td>215</td>\n",
       "    </tr>\n",
       "  </tbody>\n",
       "</table>\n",
       "</div>"
      ],
      "text/plain": [
       "    fruit  price  serving(grams)  calories\n",
       "0   Apple     80           182.0        95\n",
       "1  Banana     40           125.0       111\n",
       "2   Dates    180             7.1        20\n",
       "3  Grapes     65           151.0       104\n",
       "4   Mango     60           336.0       202\n",
       "5  Orange     35           131.0        62\n",
       "6  Papaya     55           500.0       215"
      ]
     },
     "execution_count": 11,
     "metadata": {},
     "output_type": "execute_result"
    }
   ],
   "source": [
    "df = pd.DataFrame(data)\n",
    "df"
   ]
  },
  {
   "cell_type": "markdown",
   "metadata": {},
   "source": [
    "<br>"
   ]
  },
  {
   "cell_type": "markdown",
   "metadata": {},
   "source": [
    "### <span style=\"color:#130654\">Data Rank</span>"
   ]
  },
  {
   "cell_type": "markdown",
   "metadata": {},
   "source": [
    "`rank()` - produces ranking for each element in the array of elements. In case of ties, assigns the mean rank.\n",
    "- Rank optionally takes a parameter ascending which by default is true; when false, data is reverse-ranked, with larger values assigned a smaller rank."
   ]
  },
  {
   "cell_type": "markdown",
   "metadata": {},
   "source": [
    "*Syntax:*\n",
    "```python\n",
    "DataFrame.rank(self, axis=0, method='average', numeric_only=None, na_option='keep', ascending=True, pct=False)\n",
    "```"
   ]
  },
  {
   "cell_type": "markdown",
   "metadata": {},
   "source": [
    "\n",
    "|       Name       | Description                                                  | Type                              | Required |\n",
    "| :--------------: | :----------------------------------------------------------- | :---------------------------------------------- | :-----------------: |\n",
    "|     **axis**     | Index to direct ranking.                                     | {0 or ‘index’, 1 or ‘columns’}                  |      Required       |\n",
    "|    **method**    | How to rank the group of records that have the same value (i.e. ties):<br />1. average: average rank of the group<br />2. min: lowest rank in the group<br />3. max: highest rank in the group<br />4. first: ranks assigned in order they appear in the array<br />5. dense: like ‘min’, but rank always increases by 1 between groups | {‘average’, ‘min’, ‘max’, ‘first’, ‘dense’}     |      Required       |\n",
    "| **numeric_only** | For DataFrame objects, rank only numeric columns if set to True. | bool                                            |      Optional       |\n",
    "|  **na_option**   | How to rank NaN values:<br />1. keep: assign NaN rank to NaN values<br />2. top: assign smallest rank to NaN values if ascending<br />3. bottom: assign highest rank to NaN values if ascending | {‘keep’, ‘top’, ‘bottom’} |      Required       |\n",
    "|  **ascending**   | Whether or not the elements should be ranked in ascending order. | bool                                            |      Required       |\n",
    "|     **pct**      | Whether or not to display the returned rankings in percentile form. | bool                                            |      Required       |"
   ]
  },
  {
   "cell_type": "code",
   "execution_count": 17,
   "metadata": {},
   "outputs": [
    {
     "data": {
      "text/plain": [
       "0    5.0\n",
       "1    2.0\n",
       "2    1.0\n",
       "3    4.0\n",
       "4    6.0\n",
       "5    3.0\n",
       "6    7.0\n",
       "Name: serving(grams), dtype: float64"
      ]
     },
     "execution_count": 17,
     "metadata": {},
     "output_type": "execute_result"
    }
   ],
   "source": [
    "df['serving(grams)'].rank(method='first', ascending=True)"
   ]
  },
  {
   "cell_type": "markdown",
   "metadata": {},
   "source": [
    "<br>"
   ]
  },
  {
   "cell_type": "markdown",
   "metadata": {},
   "source": [
    "### <span style=\"color:#130654\">Percentage Change</span>"
   ]
  },
  {
   "cell_type": "markdown",
   "metadata": {},
   "source": [
    "`pct_change()` - compares every element with its prior element and computes the change percentage.\n",
    "\n",
    "By default, the pct_change() operates on columns; if you want to apply the same row wise, then use axis=1() argument."
   ]
  },
  {
   "cell_type": "markdown",
   "metadata": {},
   "source": [
    "*Synaxt:*\n",
    "```python\n",
    "Series.pct_change(self, periods=1, fill_method='pad', limit=None, freq=None, **kwargs)\n",
    "```"
   ]
  },
  {
   "cell_type": "markdown",
   "metadata": {},
   "source": [
    "|      Name       | Description                                                  | Type                                          | Required |\n",
    "| :-------------: | :----------------------------------------------------------- | :-------------------------------------------- | :------- |\n",
    "|   **periods**   | Periods to shift for forming percent change.                 | int                                           | Required |\n",
    "| **fill_method** | How to handle NAs before computing percent changes.          | str                                           | Required |\n",
    "|    **limit**    | The number of consecutive NAs to fill before stopping.       | int                                           | Required |\n",
    "|    **freq**     | Increment to use from time series API (e.g. ‘M’ or BDay()).  | DateOffset, timedelta, or offset alias string | Optional |\n",
    "|    **kwargs     | Additional keyword arguments are passed into DataFrame.shift or Series.shift. |                                               | Required |"
   ]
  },
  {
   "cell_type": "code",
   "execution_count": 18,
   "metadata": {},
   "outputs": [
    {
     "data": {
      "text/plain": [
       "0          NaN\n",
       "1    -0.313187\n",
       "2    -0.943200\n",
       "3    20.267606\n",
       "4     1.225166\n",
       "5    -0.610119\n",
       "6     2.816794\n",
       "Name: serving(grams), dtype: float64"
      ]
     },
     "execution_count": 18,
     "metadata": {},
     "output_type": "execute_result"
    }
   ],
   "source": [
    "df['serving(grams)'].pct_change()"
   ]
  },
  {
   "cell_type": "markdown",
   "metadata": {},
   "source": [
    "<br>"
   ]
  },
  {
   "cell_type": "markdown",
   "metadata": {},
   "source": [
    "### <span style=\"color:#130654\">Correlation</span>"
   ]
  },
  {
   "cell_type": "markdown",
   "metadata": {},
   "source": [
    "`corr()` - compute pairwise correlation of columns\n",
    "- Correlation shows the linear relationship between any two array of values (series).\n",
    "- There are multiple methods to compute the correlation like pearson(default), spearman and kendall.\n",
    "- If any non-numeric column is present in the DataFrame, it is excluded automatically."
   ]
  },
  {
   "cell_type": "markdown",
   "metadata": {},
   "source": [
    "*Synatx:*\n",
    "```python\n",
    "DataFrame.corr(self, method='pearson', min_periods=1)\n",
    "```"
   ]
  },
  {
   "cell_type": "markdown",
   "metadata": {},
   "source": [
    "|      Name       | Description                                                  | Type                             | Required |\n",
    "| :-------------: | :----------------------------------------------------------- | :--------------------------------------------- | :------------------ |\n",
    "|   **method**    | 1. pearson : standard correlation coefficient<br />2. kendall : Kendall Tau correlation coefficient<br />3. spearman : Spearman rank correlation <br /><br />Note that the returned matrix from corr will have 1 along the diagonals and will be symmetric regardless of the callable’s behavior | {'pearson', 'kendall', 'spearman'} or callable | Required            |\n",
    "| **min_periods** | Minimum number of observations required per pair of columns to have a valid result. Currently only available for Pearson and Spearman correlation. | int                                            | Optional            |"
   ]
  },
  {
   "cell_type": "markdown",
   "metadata": {},
   "source": [
    "Correlation between servings and calories columns:"
   ]
  },
  {
   "cell_type": "code",
   "execution_count": 19,
   "metadata": {},
   "outputs": [
    {
     "data": {
      "text/plain": [
       "0.9430266848211656"
      ]
     },
     "execution_count": 19,
     "metadata": {},
     "output_type": "execute_result"
    }
   ],
   "source": [
    "df['serving(grams)'].corr(df['calories'])"
   ]
  },
  {
   "cell_type": "markdown",
   "metadata": {},
   "source": [
    "<br>"
   ]
  },
  {
   "cell_type": "markdown",
   "metadata": {},
   "source": [
    "### <span style=\"color:#130654\">Covariance</span>"
   ]
  },
  {
   "cell_type": "markdown",
   "metadata": {},
   "source": [
    "`cov()` - compute pairwise covariance of columns.\n",
    "- Covariance is applied on series data. \n",
    "- The Series object has a method cov to compute covariance between series objects. \n",
    "- NA will be excluded automatically."
   ]
  },
  {
   "cell_type": "markdown",
   "metadata": {},
   "source": [
    "*Syntax:*\n",
    "```python\n",
    "DataFrame.cov(self, min_periods=None)\n",
    "```"
   ]
  },
  {
   "cell_type": "markdown",
   "metadata": {},
   "source": [
    "| Name            | Description                                                  | Type | Required |\n",
    "| :-------------- | :----------------------------------------------------------- | :--- | :------: |\n",
    "| **min_periods** | Minimum number of observations required per pair of columns to have a valid result. | int  | Optional |"
   ]
  },
  {
   "cell_type": "markdown",
   "metadata": {},
   "source": [
    "Covariance between servings and calories columns:"
   ]
  },
  {
   "cell_type": "code",
   "execution_count": 20,
   "metadata": {},
   "outputs": [
    {
     "data": {
      "text/plain": [
       "10832.52619047619"
      ]
     },
     "execution_count": 20,
     "metadata": {},
     "output_type": "execute_result"
    }
   ],
   "source": [
    "df['serving(grams)'].cov(df['calories'])"
   ]
  }
 ],
 "metadata": {
  "kernelspec": {
   "display_name": "Python 3",
   "language": "python",
   "name": "python3"
  },
  "language_info": {
   "codemirror_mode": {
    "name": "ipython",
    "version": 3
   },
   "file_extension": ".py",
   "mimetype": "text/x-python",
   "name": "python",
   "nbconvert_exporter": "python",
   "pygments_lexer": "ipython3",
   "version": "3.8.5"
  }
 },
 "nbformat": 4,
 "nbformat_minor": 4
}
