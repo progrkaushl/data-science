{
 "cells": [
  {
   "cell_type": "markdown",
   "metadata": {},
   "source": [
    "# <span style=\"color:#130654; font-family: Helvetica; font-size: 200%; font-weight:700\"> Pandas | <span style=\"font-size: 50%; font-weight:300\">Descriptive Functions</span>"
   ]
  },
  {
   "cell_type": "markdown",
   "metadata": {},
   "source": [
    "- These functions can be used to compute descriptive statistics and other related operations on DataFrame.\n",
    "- Generally. these methods take an axis argument, just like ndarray.{sum, std, ...}, but the axis can be specified by name or integer\n",
    "> DataFrame − “index” (axis=0, default), “columns” (axis=1)"
   ]
  },
  {
   "cell_type": "markdown",
   "metadata": {},
   "source": [
    "|Function|Description|\n",
    "|:------:|-----------|\n",
    "|**count()**|Number of non-null observations|\n",
    "|**sum()**|Sum of values|\n",
    "|**mean()**|Mean of Values|\n",
    "|**median()**|Median of Values|\n",
    "|**mode()**|Mode of values|\n",
    "|**std()**|Standard Deviation of the Values|\n",
    "|**min()**|Minimum Value|\n",
    "|**max()**|Maximum Value|\n",
    "|**abs()**|Absolute Value|\n",
    "|**prod()**|Product of Values|\n",
    "|**cumsum()**|Cumulative Sum|\n",
    "|**cumprod()**|Cumulative Product|"
   ]
  }
 ],
 "metadata": {
  "kernelspec": {
   "display_name": "Python 3",
   "language": "python",
   "name": "python3"
  },
  "language_info": {
   "codemirror_mode": {
    "name": "ipython",
    "version": 3
   },
   "file_extension": ".py",
   "mimetype": "text/x-python",
   "name": "python",
   "nbconvert_exporter": "python",
   "pygments_lexer": "ipython3",
   "version": "3.8.5"
  }
 },
 "nbformat": 4,
 "nbformat_minor": 4
}
