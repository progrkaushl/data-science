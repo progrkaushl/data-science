{
 "cells": [
  {
   "cell_type": "markdown",
   "metadata": {},
   "source": [
    "# <span style=\"color:#130654; font-family: Helvetica; font-size: 200%; font-weight:700\"> Python | <span style=\"font-size: 50%; font-weight:300\">Assign and Copy</span>"
   ]
  },
  {
   "cell_type": "markdown",
   "metadata": {},
   "source": [
    "Python has a strange behaviour - in comparison with other programming languages - when assigning and copying simple data types like integers and strings. "
   ]
  },
  {
   "cell_type": "markdown",
   "metadata": {},
   "source": [
    "Lets assign string `hello world` to two different variables and check the id of these two varibles in memory using `id()` method:"
   ]
  },
  {
   "cell_type": "code",
   "execution_count": 1,
   "metadata": {},
   "outputs": [],
   "source": [
    "a = \"hello world\"\n",
    "b = \"hello world\""
   ]
  },
  {
   "cell_type": "code",
   "execution_count": 2,
   "metadata": {},
   "outputs": [
    {
     "name": "stdout",
     "output_type": "stream",
     "text": [
      "id of object a:  1875769313520\n",
      "id of object b:  1875769313584\n"
     ]
    }
   ],
   "source": [
    "print(\"id of object a: \", id(a))\n",
    "print(\"id of object b: \", id(b))"
   ]
  },
  {
   "cell_type": "markdown",
   "metadata": {},
   "source": [
    "Since these two string are different immutable objects, so their id are different."
   ]
  },
  {
   "cell_type": "markdown",
   "metadata": {},
   "source": [
    "Now lets assign string `hello` to two different variables and check the id of these two varibles in memory using id() method:"
   ]
  },
  {
   "cell_type": "code",
   "execution_count": 3,
   "metadata": {},
   "outputs": [],
   "source": [
    "a = \"hello\"\n",
    "b = \"hello\""
   ]
  },
  {
   "cell_type": "code",
   "execution_count": 4,
   "metadata": {},
   "outputs": [
    {
     "name": "stdout",
     "output_type": "stream",
     "text": [
      "id of object a:  1875769444912\n",
      "id of object b:  1875769444912\n"
     ]
    }
   ],
   "source": [
    "print(\"id of object a: \", id(a))\n",
    "print(\"id of object b: \", id(b))"
   ]
  },
  {
   "cell_type": "markdown",
   "metadata": {},
   "source": [
    "Now id for both `a` and `b` are same, that means python is refering to same object in memory for two different variables."
   ]
  },
  {
   "cell_type": "markdown",
   "metadata": {},
   "source": [
    "**Question:** But why id's variables `a` & `b` are differen for string `hello word\"` and same for string `hello`?<br>\n",
    "**Answer:** Special set of objects!"
   ]
  },
  {
   "cell_type": "markdown",
   "metadata": {},
   "source": [
    "For optimizing memory, Python treats a special set of objects differently. String `hello` belongs to previleged set of objects.\n",
    "\n",
    "These objects are always reused or interned. The rationale behind doing this is as follows:\n",
    "- Since programmers use these objects frequently, interning existing objects saves memory.\n",
    "- Since immutable objects like tuples and strings cannot be modified, there is no risk in interning the same object."
   ]
  },
  {
   "cell_type": "markdown",
   "metadata": {},
   "source": [
    "However, Python does not do this for all immutable objects because there is a runtime cost involved for this feature. \n",
    "For interning an object, it must first search for the object in memory, and searching takes time. \n",
    "\n",
    "This is why the special treatment only applies for small integers and strings, because finding them is not that costly."
   ]
  },
  {
   "cell_type": "markdown",
   "metadata": {},
   "source": [
    "<br>"
   ]
  },
  {
   "cell_type": "markdown",
   "metadata": {},
   "source": [
    "## <span style=\"color:#130654\">**Assignment Operator (=)**</span>"
   ]
  },
  {
   "cell_type": "markdown",
   "metadata": {},
   "source": [
    "Lets first understand which data types are `mutable` and `immutable`:<br>\n",
    "<div style=\"text-align:center\"><img src=\"./img/mutable_immutable.png\" width=500 height=500 /></div><br>\n",
    "<span style=\"color:green\">Mutable objects can be modified in the memory while immutable obejects cannot be modified.<span style=\"color:green\">"
   ]
  },
  {
   "cell_type": "markdown",
   "metadata": {},
   "source": [
    "### <span style=\"color:#130654\">String</span>"
   ]
  },
  {
   "cell_type": "markdown",
   "metadata": {},
   "source": [
    "Lets create a string variable `a` and assign it to another variable `b`:"
   ]
  },
  {
   "cell_type": "code",
   "execution_count": 5,
   "metadata": {},
   "outputs": [],
   "source": [
    "a = 'i have apple'\n",
    "b = a"
   ]
  },
  {
   "cell_type": "markdown",
   "metadata": {},
   "source": [
    "In this case nothing is created. Both variable `a` and `b` refers to same object in the memory."
   ]
  },
  {
   "cell_type": "code",
   "execution_count": 6,
   "metadata": {},
   "outputs": [
    {
     "name": "stdout",
     "output_type": "stream",
     "text": [
      "a :  i have apple\n",
      "b :  i have apple\n"
     ]
    }
   ],
   "source": [
    "print(\"a : \", a)\n",
    "print(\"b : \", b)"
   ]
  },
  {
   "cell_type": "markdown",
   "metadata": {},
   "source": [
    "Since string is a immutable object it cannot be udpated or modified. Let's try to modify the tuple for variable b and then compare variable again."
   ]
  },
  {
   "cell_type": "code",
   "execution_count": 7,
   "metadata": {},
   "outputs": [],
   "source": [
    "b = b.replace(\"apple\", \"orange\")"
   ]
  },
  {
   "cell_type": "code",
   "execution_count": 8,
   "metadata": {},
   "outputs": [
    {
     "name": "stdout",
     "output_type": "stream",
     "text": [
      "a :  i have apple\n",
      "b :  i have orange\n"
     ]
    }
   ],
   "source": [
    "print(\"a : \", a)\n",
    "print(\"b : \", b)"
   ]
  },
  {
   "cell_type": "markdown",
   "metadata": {},
   "source": [
    "Only variable `b` is modified therefore, in this case, an independent copy is created and whatever changed you make in new variable won't change original variable."
   ]
  },
  {
   "cell_type": "markdown",
   "metadata": {},
   "source": [
    "### <span style=\"color:#130654\">Tuple</span>"
   ]
  },
  {
   "cell_type": "markdown",
   "metadata": {},
   "source": [
    "Lets create a tuple variable a and assign it to another variable b:"
   ]
  },
  {
   "cell_type": "code",
   "execution_count": 9,
   "metadata": {},
   "outputs": [],
   "source": [
    "a = (1,2,3)\n",
    "b = a"
   ]
  },
  {
   "cell_type": "code",
   "execution_count": 10,
   "metadata": {},
   "outputs": [
    {
     "name": "stdout",
     "output_type": "stream",
     "text": [
      "a :  (1, 2, 3)\n",
      "b :  (1, 2, 3)\n"
     ]
    }
   ],
   "source": [
    "print(\"a : \", a)\n",
    "print(\"b : \", b)"
   ]
  },
  {
   "cell_type": "markdown",
   "metadata": {},
   "source": [
    "Since tuple is a immutable object it cannot be udpated or modified. Let's try to modify the tuple for variable b and then compare variable again."
   ]
  },
  {
   "cell_type": "code",
   "execution_count": 11,
   "metadata": {},
   "outputs": [],
   "source": [
    "b += ('x',)"
   ]
  },
  {
   "cell_type": "code",
   "execution_count": 12,
   "metadata": {},
   "outputs": [
    {
     "name": "stdout",
     "output_type": "stream",
     "text": [
      "a :  (1, 2, 3)\n",
      "b :  (1, 2, 3, 'x')\n"
     ]
    }
   ],
   "source": [
    "print(\"a : \", a)\n",
    "print(\"b : \", b)"
   ]
  },
  {
   "cell_type": "markdown",
   "metadata": {},
   "source": [
    "Only variable `b` is modified therefore, in this case, an independent copy is created and whatever changed you make in new variable won't change original variable."
   ]
  },
  {
   "cell_type": "markdown",
   "metadata": {},
   "source": [
    "### <span style=\"color:#130654\">List</span>"
   ]
  },
  {
   "cell_type": "markdown",
   "metadata": {},
   "source": [
    "Lets create a list variable a and assign it to another variable b:"
   ]
  },
  {
   "cell_type": "code",
   "execution_count": 13,
   "metadata": {},
   "outputs": [],
   "source": [
    "a = [1, 2, 3]\n",
    "b = a"
   ]
  },
  {
   "cell_type": "code",
   "execution_count": 14,
   "metadata": {},
   "outputs": [
    {
     "name": "stdout",
     "output_type": "stream",
     "text": [
      "id of a:  1875769219904\n",
      "id of b:  1875769219904\n"
     ]
    }
   ],
   "source": [
    "print(\"id of a: \", id(a))\n",
    "print(\"id of b: \", id(b))"
   ]
  },
  {
   "cell_type": "markdown",
   "metadata": {},
   "source": [
    "Since list is a mutable object which means it can be modified and updated inplace. Let's try to modify the tuple for variable b and then compare variable again."
   ]
  },
  {
   "cell_type": "code",
   "execution_count": 15,
   "metadata": {},
   "outputs": [],
   "source": [
    "b[1] = 'a'"
   ]
  },
  {
   "cell_type": "code",
   "execution_count": 16,
   "metadata": {},
   "outputs": [
    {
     "name": "stdout",
     "output_type": "stream",
     "text": [
      "a :  [1, 'a', 3]\n",
      "b :  [1, 'a', 3]\n"
     ]
    }
   ],
   "source": [
    "print(\"a : \", a)\n",
    "print(\"b : \", b)"
   ]
  },
  {
   "cell_type": "markdown",
   "metadata": {},
   "source": [
    "Both variable `a` and `b` are modified, this means the copy is not independent."
   ]
  },
  {
   "cell_type": "markdown",
   "metadata": {},
   "source": [
    "**Question:** Then how we can make an make independent copy of mutable objects?<br>\n",
    "**Answer:** Using `shallow` and `deep` copy methods."
   ]
  },
  {
   "cell_type": "markdown",
   "metadata": {},
   "source": [
    "<br>"
   ]
  },
  {
   "cell_type": "markdown",
   "metadata": {},
   "source": [
    "## <span style=\"color:#130654\">Assignment vs Copy vs Deep Copy</span>"
   ]
  },
  {
   "cell_type": "markdown",
   "metadata": {},
   "source": [
    "- Assignment operator is suitable for creating independent copy of `immutable` object.\n",
    "- Shallow Copy method created `partially` independent copy of `mutable` objects till `parent` level.\n",
    "- Deep Copy method created `fully` independent copy of `mutable` objects till `child` level."
   ]
  },
  {
   "cell_type": "markdown",
   "metadata": {},
   "source": [
    "|Method|Object |Copy Level|\n",
    "|:----:|-------|----------|\n",
    "|Assignment|Immutable|Independent |\n",
    "|Shallow Copy|Mutable|Partially independent|\n",
    "|Deep Copy|Mutable|Fully independent|"
   ]
  },
  {
   "cell_type": "markdown",
   "metadata": {},
   "source": [
    "Note: Since immutable objects cannot be modified inplace, thus they are independenly copied nuturally in python. Below comparison is for mutable objects only."
   ]
  },
  {
   "cell_type": "markdown",
   "metadata": {},
   "source": [
    "Both Shallow and Deep Copy uses `copy` module of python."
   ]
  },
  {
   "cell_type": "code",
   "execution_count": 33,
   "metadata": {},
   "outputs": [],
   "source": [
    "import copy"
   ]
  },
  {
   "cell_type": "markdown",
   "metadata": {},
   "source": [
    "### <span style=\"color:#130654\">A. Assignment</span>"
   ]
  },
  {
   "cell_type": "markdown",
   "metadata": {},
   "source": [
    "Lets create a list variable `x` and assign it to another variable `y` to make a replica."
   ]
  },
  {
   "cell_type": "code",
   "execution_count": 17,
   "metadata": {},
   "outputs": [],
   "source": [
    "x = [1, 2]\n",
    "y = x"
   ]
  },
  {
   "cell_type": "code",
   "execution_count": 18,
   "metadata": {},
   "outputs": [
    {
     "name": "stdout",
     "output_type": "stream",
     "text": [
      "id of x is :  1875768983616\n",
      "id of y is :  1875768983616\n"
     ]
    }
   ],
   "source": [
    "print(\"id of x is : \", id(x))\n",
    "print(\"id of y is : \", id(y))"
   ]
  },
  {
   "cell_type": "markdown",
   "metadata": {},
   "source": [
    "Both variable has same object id which means they are not independent copy."
   ]
  },
  {
   "cell_type": "code",
   "execution_count": 19,
   "metadata": {},
   "outputs": [
    {
     "name": "stdout",
     "output_type": "stream",
     "text": [
      "x :  [1, 2]\n",
      "y :  [1, 2]\n"
     ]
    }
   ],
   "source": [
    "print(\"x : \", x)\n",
    "print(\"y : \", y)"
   ]
  },
  {
   "cell_type": "markdown",
   "metadata": {},
   "source": [
    "<img src=\"./img/assign1.png\" width=250 height=250 />"
   ]
  },
  {
   "cell_type": "markdown",
   "metadata": {},
   "source": [
    "Now lets make some changes in variabe `y`."
   ]
  },
  {
   "cell_type": "code",
   "execution_count": 20,
   "metadata": {},
   "outputs": [],
   "source": [
    "y[1] = 5"
   ]
  },
  {
   "cell_type": "code",
   "execution_count": 21,
   "metadata": {},
   "outputs": [
    {
     "name": "stdout",
     "output_type": "stream",
     "text": [
      "x :  [1, 5]\n",
      "y :  [1, 5]\n"
     ]
    }
   ],
   "source": [
    "print(\"x : \", x)\n",
    "print(\"y : \", y)"
   ]
  },
  {
   "cell_type": "markdown",
   "metadata": {},
   "source": [
    "<img src=\"./img/assign2.png\" width=250 height=250 />"
   ]
  },
  {
   "cell_type": "markdown",
   "metadata": {},
   "source": [
    "Changes in variable `y` are reflecting in original variable `x`."
   ]
  },
  {
   "cell_type": "markdown",
   "metadata": {},
   "source": [
    "<br>"
   ]
  },
  {
   "cell_type": "markdown",
   "metadata": {},
   "source": [
    "### <span style=\"color:#130654\">B. Shallow Copy</span>"
   ]
  },
  {
   "cell_type": "markdown",
   "metadata": {},
   "source": [
    "- A shallow copy means constructing a new collection object and then populating it with references to the child objects found in the original.\n",
    "- In essence, a shallow copy is only `Parent Level` i.e. one level deep. \n",
    "- The copying process does not recurse and therefore won’t create copies of the child objects themselves.\n",
    "- So any changed to nested or child objects will reflect in original.\n",
    "\n",
    "Overall: It copy doesn't create a copy of nested objects, instead it just copies the reference of nested objects."
   ]
  },
  {
   "cell_type": "markdown",
   "metadata": {},
   "source": [
    "Lets create a list variable `x` and then create a `shallow copy` of it as variable `y`."
   ]
  },
  {
   "cell_type": "code",
   "execution_count": 23,
   "metadata": {},
   "outputs": [],
   "source": [
    "list_1 = [1, 2, [\"a\", \"b\"]]\n",
    "list_2 = copy.copy(list_1)"
   ]
  },
  {
   "cell_type": "code",
   "execution_count": 24,
   "metadata": {},
   "outputs": [
    {
     "name": "stdout",
     "output_type": "stream",
     "text": [
      "id of list_1 is :  1875769142080\n",
      "id of list_2 is :  1875768990784\n"
     ]
    }
   ],
   "source": [
    "print(\"id of list_1 is : \", id(list_1))\n",
    "print(\"id of list_2 is : \", id(list_2))"
   ]
  },
  {
   "cell_type": "markdown",
   "metadata": {},
   "source": [
    "Both variable has same object id which means they are <u>partially independent copy only till parent level</u>."
   ]
  },
  {
   "cell_type": "code",
   "execution_count": 25,
   "metadata": {},
   "outputs": [
    {
     "name": "stdout",
     "output_type": "stream",
     "text": [
      "list_1 is :  [1, 2, ['a', 'b']]\n",
      "list_2 is :  [1, 2, ['a', 'b']]\n"
     ]
    }
   ],
   "source": [
    "print(\"list_1 is : \", list_1)\n",
    "print(\"list_2 is : \", list_2)"
   ]
  },
  {
   "cell_type": "markdown",
   "metadata": {},
   "source": [
    "<img src=\"./img/copy1.png\" width=380 height=200 />"
   ]
  },
  {
   "cell_type": "markdown",
   "metadata": {},
   "source": [
    "This graphical representation suggests that `list_2` is a shallow Copy of `list_1` and copies till parent level while refer to the child object ['a', 'b'] in list_1."
   ]
  },
  {
   "cell_type": "code",
   "execution_count": 26,
   "metadata": {},
   "outputs": [],
   "source": [
    "list_2[0] = 7\n",
    "list_2[2][1] = 'g'"
   ]
  },
  {
   "cell_type": "code",
   "execution_count": 27,
   "metadata": {},
   "outputs": [
    {
     "name": "stdout",
     "output_type": "stream",
     "text": [
      "list_1 is :  [1, 2, ['a', 'g']]\n",
      "list_2 is :  [7, 2, ['a', 'g']]\n"
     ]
    }
   ],
   "source": [
    "print(\"list_1 is : \", list_1)\n",
    "print(\"list_2 is : \", list_2)"
   ]
  },
  {
   "cell_type": "markdown",
   "metadata": {},
   "source": [
    "<img src=\"./img/copy2.png\" width=380 height=200 />"
   ]
  },
  {
   "cell_type": "markdown",
   "metadata": {},
   "source": [
    "Changes made on level one in shallow copy (list_2) doesn't reflect in original (list_1) but changes made on child object (nested list 1) reflects in original."
   ]
  },
  {
   "cell_type": "markdown",
   "metadata": {},
   "source": [
    "<br>"
   ]
  },
  {
   "cell_type": "markdown",
   "metadata": {},
   "source": [
    "### <span style=\"color:#130654\">C. Deep Copy</span>"
   ]
  },
  {
   "cell_type": "markdown",
   "metadata": {},
   "source": [
    "- A deep copy makes the copying process recursive. \n",
    "- It means first constructing a new collection object and then recursively populating it with copies of the child objects found in the original. \n",
    "- Copying an object this way walks the whole object tree to create a fully independent clone of the original object and all of its children.\n",
    "\n",
    "Overall:  The deep copy creates independent copy of original object and all its nested objects."
   ]
  },
  {
   "cell_type": "markdown",
   "metadata": {},
   "source": [
    "Lets create a list variable `x` and then create a `deep copy` of it as variable `y`."
   ]
  },
  {
   "cell_type": "code",
   "execution_count": 28,
   "metadata": {},
   "outputs": [],
   "source": [
    "list_1 = [1, 2, [\"a\", \"b\"]]\n",
    "list_2 = copy.deepcopy(list_1)"
   ]
  },
  {
   "cell_type": "code",
   "execution_count": 29,
   "metadata": {},
   "outputs": [
    {
     "name": "stdout",
     "output_type": "stream",
     "text": [
      "id of list_1 is :  1875769219392\n",
      "id of list_2 is :  1875769095168\n"
     ]
    }
   ],
   "source": [
    "print(\"id of list_1 is : \", id(list_1))\n",
    "print(\"id of list_2 is : \", id(list_2))"
   ]
  },
  {
   "cell_type": "markdown",
   "metadata": {},
   "source": [
    "Both variable has same object id which means they are <u> fully independent copy till child level</u>."
   ]
  },
  {
   "cell_type": "code",
   "execution_count": 30,
   "metadata": {},
   "outputs": [
    {
     "name": "stdout",
     "output_type": "stream",
     "text": [
      "list_1 is :  [1, 2, ['a', 'b']]\n",
      "list_2 is :  [1, 2, ['a', 'b']]\n"
     ]
    }
   ],
   "source": [
    "print(\"list_1 is : \", list_1)\n",
    "print(\"list_2 is : \", list_2)"
   ]
  },
  {
   "cell_type": "markdown",
   "metadata": {},
   "source": [
    "<img src=\"./img/deepcopy1.png\" width=380 height=200 />"
   ]
  },
  {
   "cell_type": "markdown",
   "metadata": {},
   "source": [
    "This graphical representation suggests that `list_2` is a Deep Copy of `list_1` and copies till level child level."
   ]
  },
  {
   "cell_type": "markdown",
   "metadata": {},
   "source": []
  },
  {
   "cell_type": "code",
   "execution_count": 31,
   "metadata": {},
   "outputs": [],
   "source": [
    "list_2[0] = 7\n",
    "list_2[2][1] = 'g'"
   ]
  },
  {
   "cell_type": "code",
   "execution_count": 32,
   "metadata": {},
   "outputs": [
    {
     "name": "stdout",
     "output_type": "stream",
     "text": [
      "list_1 is :  [1, 2, ['a', 'b']]\n",
      "list_2 is :  [7, 2, ['a', 'g']]\n"
     ]
    }
   ],
   "source": [
    "print(\"list_1 is : \", list_1)\n",
    "print(\"list_2 is : \", list_2)"
   ]
  },
  {
   "cell_type": "markdown",
   "metadata": {},
   "source": [
    "<img src=\"./img/deepcopy2.png\" width=380 height=200 />"
   ]
  },
  {
   "cell_type": "markdown",
   "metadata": {},
   "source": [
    "Changes made on in deep copy (list_2) won't reflect in original (list_1)."
   ]
  }
 ],
 "metadata": {
  "kernelspec": {
   "display_name": "Python 3",
   "language": "python",
   "name": "python3"
  },
  "language_info": {
   "codemirror_mode": {
    "name": "ipython",
    "version": 3
   },
   "file_extension": ".py",
   "mimetype": "text/x-python",
   "name": "python",
   "nbconvert_exporter": "python",
   "pygments_lexer": "ipython3",
   "version": "3.8.5"
  }
 },
 "nbformat": 4,
 "nbformat_minor": 4
}
